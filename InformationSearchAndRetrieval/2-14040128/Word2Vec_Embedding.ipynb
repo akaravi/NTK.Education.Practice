{
  "cells": [
    {
      "cell_type": "markdown",
      "metadata": {
        "id": "view-in-github",
        "colab_type": "text"
      },
      "source": [
        "<a href=\"https://colab.research.google.com/github/akaravi/NTK.Education.Practice/blob/main/InformationSearchAndRetrieval/2-14040128/Word2Vec_Embedding.ipynb\" target=\"_parent\"><img src=\"https://colab.research.google.com/assets/colab-badge.svg\" alt=\"Open In Colab\"/></a>"
      ]
    },
    {
      "cell_type": "markdown",
      "metadata": {
        "id": "N54hBSP_micD"
      },
      "source": [
        "Implement Word2Vec\n",
        "\n",
        "In this assignment, you are required to implement the `Word2Vec` class from scratch using Python.\n",
        "\n",
        "Please complete the methods inside the `Word2Vec` class:\n",
        "- `__init__`: Initialize weights\n",
        "- `softmax`: Impliment softmax activation function\n",
        "- `train`: Loop over the data and optimize your model\n",
        "\n",
        "You may use NumPy, but **do not** use any external word embedding libraries like Gensim or Torch for this task.\n",
        "\n",
        "Good luck!\n"
      ]
    },
    {
      "cell_type": "markdown",
      "metadata": {
        "id": "HUI4Ahw9loe4"
      },
      "source": [
        "# Skip Gram Implementation"
      ]
    },
    {
      "cell_type": "code",
      "execution_count": 1,
      "metadata": {
        "id": "UfKVbKrZcCBR"
      },
      "outputs": [],
      "source": [
        "import re\n",
        "import numpy as np\n",
        "from collections import defaultdict\n",
        "import random\n",
        "import matplotlib.pyplot as plt\n",
        "from sklearn.decomposition import PCA"
      ]
    },
    {
      "cell_type": "code",
      "execution_count": 2,
      "metadata": {
        "id": "JPP3YaQhcHgx"
      },
      "outputs": [],
      "source": [
        "class Vocabulary:\n",
        "    def __init__(self):\n",
        "        self.word2idx = {}\n",
        "        self.idx2word = {}\n",
        "        self.word_count = defaultdict(int)\n",
        "        self.total_words = 0\n",
        "        self.vocab_size = 0\n",
        "\n",
        "    def build_vocab(self, sentences, min_count=2):\n",
        "        # Count words\n",
        "        for word in sentences:\n",
        "            self.word_count[word] += 1\n",
        "\n",
        "        # Create word2idx and idx2word mapping\n",
        "        idx = 0\n",
        "        for word, count in self.word_count.items():\n",
        "            if count >= min_count:\n",
        "              self.word2idx.update({word: idx})\n",
        "              idx += 1\n",
        "\n",
        "        # self.word2idx = {word: idx for idx, (word, count) in enumerate(self.word_count.items()) if count >= min_count}\n",
        "        self.idx2word = {idx: word for word, idx in self.word2idx.items()}\n",
        "        self.vocab_size = len(self.word2idx)\n",
        "        self.total_words = sum([count for word, count in self.word_count.items() if count >= min_count])\n",
        "\n",
        "    def word_to_index(self, word):\n",
        "        return self.word2idx.get(word, -1)\n",
        "\n",
        "    def index_to_word(self, index):\n",
        "        return self.idx2word.get(index, None)\n"
      ]
    },
    {
      "cell_type": "code",
      "execution_count": 3,
      "metadata": {
        "id": "gPzlftDvcKlo"
      },
      "outputs": [],
      "source": [
        "def generate_training_data(vocab, sentences, window_size=2):\n",
        "    training_data = []\n",
        "    sentence_indices = [vocab.word_to_index(word) for word in sentences if vocab.word_to_index(word) != -1]\n",
        "\n",
        "    for center_idx, center_word in enumerate(sentence_indices):\n",
        "        context_start = max(0, center_idx - window_size)\n",
        "        context_end = min(len(sentence_indices), center_idx + window_size + 1)\n",
        "\n",
        "        for context_idx in range(context_start, context_end):\n",
        "            if context_idx != center_idx:\n",
        "                context_word = sentence_indices[context_idx]\n",
        "                training_data.append((center_word, context_word))\n",
        "\n",
        "    return np.array(training_data)\n"
      ]
    },
    {
      "cell_type": "markdown",
      "source": [
        "شروع تمرین"
      ],
      "metadata": {
        "id": "g4E3wHHUsoa0"
      }
    },
    {
      "cell_type": "code",
      "execution_count": 9,
      "metadata": {
        "id": "3r7DO0LhcNNo"
      },
      "outputs": [],
      "source": [
        "class Word2Vec:\n",
        "    def __init__(self, vocab_size, embed_size=100, learning_rate=0.001):\n",
        "        # سایز زا مشخص می کنم\n",
        "        self.vocab_size = vocab_size\n",
        "        self.embed_size = embed_size\n",
        "        self.learning_rate = learning_rate\n",
        "\n",
        "        # مقداردهی اولیه ماتریس‌های وزن\n",
        "        #ورودی مخفی\n",
        "        self.W = np.random.uniform(-0.5, 0.5, (vocab_size, embed_size))\n",
        "        #خروجی\n",
        "        self.W_prime = np.random.uniform(-0.5, 0.5, (embed_size, vocab_size))\n",
        "\n",
        "    def softmax(self, x):\n",
        "        ex = np.exp(x - np.max(x))\n",
        "        return ex / np.sum(ex)\n",
        "\n",
        "    def train(self, training_data, epochs=1000):\n",
        "        for epoch in range(epochs):\n",
        "            loss = 0\n",
        "            for c_word, context_word in training_data:\n",
        "                h = self.W[c_word]\n",
        "                u = np.dot(h, self.W_prime)\n",
        "                y_pred = self.softmax(u)\n",
        "\n",
        "                #encoding\n",
        "                y_true = np.zeros(self.vocab_size)\n",
        "                y_true[context_word] = 1\n",
        "\n",
        "                # مجاسبه خطا\n",
        "                error = y_pred - y_true\n",
        "\n",
        "                # برروز رسانی وزن ها\n",
        "                self.W_prime -= self.learning_rate * np.outer(h, error)\n",
        "                self.W[c_word] -= self.learning_rate * np.dot(self.W_prime, error)\n",
        "\n",
        "                # محاسبه looss\n",
        "                loss -= np.log(y_pred[context_word])\n",
        "\n",
        "            if epoch % 100 == 0:\n",
        "                print(f'Epoch {epoch}, Calculat Loss: {loss}')\n",
        "\n",
        "\n"
      ]
    },
    {
      "cell_type": "markdown",
      "source": [
        "پایان تمرین"
      ],
      "metadata": {
        "id": "uGzupkJastbP"
      }
    },
    {
      "cell_type": "code",
      "execution_count": 6,
      "metadata": {
        "colab": {
          "base_uri": "https://localhost:8080/",
          "height": 111
        },
        "id": "9LlbDm1y-QTy",
        "outputId": "18fc97e6-135e-43e9-cccb-ba9ee775a1a8"
      },
      "outputs": [
        {
          "output_type": "display_data",
          "data": {
            "text/plain": [
              "<IPython.core.display.HTML object>"
            ],
            "text/html": [
              "\n",
              "     <input type=\"file\" id=\"files-a95dd852-942a-468d-a86c-09a6b37a7fb4\" name=\"files[]\" multiple disabled\n",
              "        style=\"border:none\" />\n",
              "     <output id=\"result-a95dd852-942a-468d-a86c-09a6b37a7fb4\">\n",
              "      Upload widget is only available when the cell has been executed in the\n",
              "      current browser session. Please rerun this cell to enable.\n",
              "      </output>\n",
              "      <script>// Copyright 2017 Google LLC\n",
              "//\n",
              "// Licensed under the Apache License, Version 2.0 (the \"License\");\n",
              "// you may not use this file except in compliance with the License.\n",
              "// You may obtain a copy of the License at\n",
              "//\n",
              "//      http://www.apache.org/licenses/LICENSE-2.0\n",
              "//\n",
              "// Unless required by applicable law or agreed to in writing, software\n",
              "// distributed under the License is distributed on an \"AS IS\" BASIS,\n",
              "// WITHOUT WARRANTIES OR CONDITIONS OF ANY KIND, either express or implied.\n",
              "// See the License for the specific language governing permissions and\n",
              "// limitations under the License.\n",
              "\n",
              "/**\n",
              " * @fileoverview Helpers for google.colab Python module.\n",
              " */\n",
              "(function(scope) {\n",
              "function span(text, styleAttributes = {}) {\n",
              "  const element = document.createElement('span');\n",
              "  element.textContent = text;\n",
              "  for (const key of Object.keys(styleAttributes)) {\n",
              "    element.style[key] = styleAttributes[key];\n",
              "  }\n",
              "  return element;\n",
              "}\n",
              "\n",
              "// Max number of bytes which will be uploaded at a time.\n",
              "const MAX_PAYLOAD_SIZE = 100 * 1024;\n",
              "\n",
              "function _uploadFiles(inputId, outputId) {\n",
              "  const steps = uploadFilesStep(inputId, outputId);\n",
              "  const outputElement = document.getElementById(outputId);\n",
              "  // Cache steps on the outputElement to make it available for the next call\n",
              "  // to uploadFilesContinue from Python.\n",
              "  outputElement.steps = steps;\n",
              "\n",
              "  return _uploadFilesContinue(outputId);\n",
              "}\n",
              "\n",
              "// This is roughly an async generator (not supported in the browser yet),\n",
              "// where there are multiple asynchronous steps and the Python side is going\n",
              "// to poll for completion of each step.\n",
              "// This uses a Promise to block the python side on completion of each step,\n",
              "// then passes the result of the previous step as the input to the next step.\n",
              "function _uploadFilesContinue(outputId) {\n",
              "  const outputElement = document.getElementById(outputId);\n",
              "  const steps = outputElement.steps;\n",
              "\n",
              "  const next = steps.next(outputElement.lastPromiseValue);\n",
              "  return Promise.resolve(next.value.promise).then((value) => {\n",
              "    // Cache the last promise value to make it available to the next\n",
              "    // step of the generator.\n",
              "    outputElement.lastPromiseValue = value;\n",
              "    return next.value.response;\n",
              "  });\n",
              "}\n",
              "\n",
              "/**\n",
              " * Generator function which is called between each async step of the upload\n",
              " * process.\n",
              " * @param {string} inputId Element ID of the input file picker element.\n",
              " * @param {string} outputId Element ID of the output display.\n",
              " * @return {!Iterable<!Object>} Iterable of next steps.\n",
              " */\n",
              "function* uploadFilesStep(inputId, outputId) {\n",
              "  const inputElement = document.getElementById(inputId);\n",
              "  inputElement.disabled = false;\n",
              "\n",
              "  const outputElement = document.getElementById(outputId);\n",
              "  outputElement.innerHTML = '';\n",
              "\n",
              "  const pickedPromise = new Promise((resolve) => {\n",
              "    inputElement.addEventListener('change', (e) => {\n",
              "      resolve(e.target.files);\n",
              "    });\n",
              "  });\n",
              "\n",
              "  const cancel = document.createElement('button');\n",
              "  inputElement.parentElement.appendChild(cancel);\n",
              "  cancel.textContent = 'Cancel upload';\n",
              "  const cancelPromise = new Promise((resolve) => {\n",
              "    cancel.onclick = () => {\n",
              "      resolve(null);\n",
              "    };\n",
              "  });\n",
              "\n",
              "  // Wait for the user to pick the files.\n",
              "  const files = yield {\n",
              "    promise: Promise.race([pickedPromise, cancelPromise]),\n",
              "    response: {\n",
              "      action: 'starting',\n",
              "    }\n",
              "  };\n",
              "\n",
              "  cancel.remove();\n",
              "\n",
              "  // Disable the input element since further picks are not allowed.\n",
              "  inputElement.disabled = true;\n",
              "\n",
              "  if (!files) {\n",
              "    return {\n",
              "      response: {\n",
              "        action: 'complete',\n",
              "      }\n",
              "    };\n",
              "  }\n",
              "\n",
              "  for (const file of files) {\n",
              "    const li = document.createElement('li');\n",
              "    li.append(span(file.name, {fontWeight: 'bold'}));\n",
              "    li.append(span(\n",
              "        `(${file.type || 'n/a'}) - ${file.size} bytes, ` +\n",
              "        `last modified: ${\n",
              "            file.lastModifiedDate ? file.lastModifiedDate.toLocaleDateString() :\n",
              "                                    'n/a'} - `));\n",
              "    const percent = span('0% done');\n",
              "    li.appendChild(percent);\n",
              "\n",
              "    outputElement.appendChild(li);\n",
              "\n",
              "    const fileDataPromise = new Promise((resolve) => {\n",
              "      const reader = new FileReader();\n",
              "      reader.onload = (e) => {\n",
              "        resolve(e.target.result);\n",
              "      };\n",
              "      reader.readAsArrayBuffer(file);\n",
              "    });\n",
              "    // Wait for the data to be ready.\n",
              "    let fileData = yield {\n",
              "      promise: fileDataPromise,\n",
              "      response: {\n",
              "        action: 'continue',\n",
              "      }\n",
              "    };\n",
              "\n",
              "    // Use a chunked sending to avoid message size limits. See b/62115660.\n",
              "    let position = 0;\n",
              "    do {\n",
              "      const length = Math.min(fileData.byteLength - position, MAX_PAYLOAD_SIZE);\n",
              "      const chunk = new Uint8Array(fileData, position, length);\n",
              "      position += length;\n",
              "\n",
              "      const base64 = btoa(String.fromCharCode.apply(null, chunk));\n",
              "      yield {\n",
              "        response: {\n",
              "          action: 'append',\n",
              "          file: file.name,\n",
              "          data: base64,\n",
              "        },\n",
              "      };\n",
              "\n",
              "      let percentDone = fileData.byteLength === 0 ?\n",
              "          100 :\n",
              "          Math.round((position / fileData.byteLength) * 100);\n",
              "      percent.textContent = `${percentDone}% done`;\n",
              "\n",
              "    } while (position < fileData.byteLength);\n",
              "  }\n",
              "\n",
              "  // All done.\n",
              "  yield {\n",
              "    response: {\n",
              "      action: 'complete',\n",
              "    }\n",
              "  };\n",
              "}\n",
              "\n",
              "scope.google = scope.google || {};\n",
              "scope.google.colab = scope.google.colab || {};\n",
              "scope.google.colab._files = {\n",
              "  _uploadFiles,\n",
              "  _uploadFilesContinue,\n",
              "};\n",
              "})(self);\n",
              "</script> "
            ]
          },
          "metadata": {}
        },
        {
          "output_type": "stream",
          "name": "stdout",
          "text": [
            "Saving persian.txt to persian.txt\n",
            "ملکه زن همسران خانواده شاه مرد سرزمین پهناور زندگی می‌کردند شاه مرد تذکر میداد قدرت اتحاد مرد شاه نهفته قلمرو ملکه زن یادآوری می‌کرد همبستگی زن ملکه مهم داستان مرد شاه زن ملکه می‌آمد حکم می‌گرفت کمک شاه عادل قادر ملکه خردمند زیبا مرد حکمت شاه زن عدالت ملکه راضی می‌رفت شکایت مطرح شاه مرد ملکه زن شاه ملکه نمی‌ترسید شاه زبان میاورد مرد کمک ملکه تأکید زن متحد\n"
          ]
        }
      ],
      "source": [
        "# Reading the Persian stopwords from the file\n",
        "from google.colab import files\n",
        "# بارگذاری فایل\n",
        "uploaded = files.upload()\n",
        "# نام فایل بارگذاری شده\n",
        "filename = list(uploaded.keys())[0]\n",
        "\n",
        "with open(filename, 'r', encoding='utf-8') as f:\n",
        "    stopwords = set(f.read().splitlines())  # Using a set for faster lookup\n",
        "\n",
        "# Reading the Persian stopwords from the file\n",
        "#with open('persian.txt', 'r', encoding='utf-8') as f:\n",
        "#    stopwords = set(f.read().splitlines())  # Using a set for faster lookup\n",
        "\n",
        "# Sample Persian text\n",
        "text = \"ملکه و زن ها در کنار همسران و خانواده خود یعنی شاه و مرد ها در یک سرزمین پهناور زندگی می‌کردند شاه همیشه به مرد ها تذکر میداد که قدرت در اتحاد مرد ها و شاه نهفته است و در این قلمرو ملکه به زن ها یادآوری می‌کرد که همبستگی زن ها و ملکه مهم است و در این داستان هر مرد که نزد شاه یا زن که نزد ملکه می‌آمد از آنها حکم می‌گرفت تا به دیگران کمک کنند شاه عادل و قادر بود و ملکه خردمند و زیبا و هر مرد که از حکمت شاه یا زن که از عدالت ملکه راضی نبود نزد آنها می‌رفت تا شکایت خود را مطرح کند شاه و مرد و ملکه و زن در کنار هم بودند و هیچ کس از شاه یا ملکه نمی‌ترسید شاه همیشه به زبان میاورد که مرد ها باید به یکدیگر کمک کنند و ملکه تأکید داشتند زن ها هم باید متحد باشند\"\n",
        "\n",
        "# Tokenizing the text (you can modify the tokenizer if needed)\n",
        "words = text.split()\n",
        "\n",
        "# Removing stopwords\n",
        "filtered_text = [word for word in words if word not in stopwords]\n",
        "\n",
        "# Joining the words back into a sentence\n",
        "cleaned_text = ' '.join(filtered_text)\n",
        "\n",
        "print(cleaned_text)\n"
      ]
    },
    {
      "cell_type": "code",
      "execution_count": 7,
      "metadata": {
        "colab": {
          "base_uri": "https://localhost:8080/"
        },
        "id": "NkspL7i-cQ43",
        "outputId": "2924026a-37c8-4472-f711-a09d81211e3f"
      },
      "outputs": [
        {
          "output_type": "stream",
          "name": "stdout",
          "text": [
            "Epoch 0, Loss: 245.10641459946234\n",
            "Epoch 100, Loss: 181.74829719507156\n",
            "Epoch 200, Loss: 181.16495769308588\n",
            "Epoch 300, Loss: 180.98387727437643\n",
            "Epoch 400, Loss: 180.8973966357685\n",
            "Epoch 500, Loss: 180.8470350481156\n",
            "Epoch 600, Loss: 180.81433746041418\n",
            "Epoch 700, Loss: 180.79156394672066\n",
            "Epoch 800, Loss: 180.77489919338907\n",
            "Epoch 900, Loss: 180.76224974387054\n"
          ]
        }
      ],
      "source": [
        "# wiki_dump_path = 'enwiki-latest-pages-articles.xml.bz2'  # Path to your Wikipedia dump file\n",
        "\n",
        "# # Load and preprocess the dataset\n",
        "# sentences = list(load_wiki_data(wiki_dump_path))\n",
        "\n",
        "# Build the vocabulary\n",
        "vocab = Vocabulary()\n",
        "vocab.build_vocab(cleaned_text.split(' '))\n",
        "\n",
        "# Generate training data\n",
        "training_data = generate_training_data(vocab, cleaned_text.split(' '))\n",
        "\n",
        "# Initialize and train Word2Vec model\n",
        "word2vec_model = Word2Vec(vocab.vocab_size)\n",
        "word2vec_model.train(training_data, epochs=1000)\n"
      ]
    },
    {
      "cell_type": "markdown",
      "metadata": {
        "id": "THLeFGKsl-2n"
      },
      "source": [
        "Defines a function to retrieve the word embedding for a given word from a Word2Vec model. If the word exists in the vocabulary, its corresponding vector is returned; otherwise, None is returned."
      ]
    },
    {
      "cell_type": "code",
      "execution_count": 8,
      "metadata": {
        "colab": {
          "base_uri": "https://localhost:8080/"
        },
        "id": "y05t33ogufIm",
        "outputId": "abd07369-c3ed-4f8d-f047-cf46e377b06d"
      },
      "outputs": [
        {
          "output_type": "stream",
          "name": "stdout",
          "text": [
            "[-0.16789147 -0.5261984  -0.36680291 -0.32044157 -0.3287403  -0.53621258\n",
            " -0.1938785  -0.05296368  0.0776731   0.02722436 -0.44692452  0.35983948\n",
            " -0.39242053 -0.38250574  0.33880482 -0.12671234 -0.47161344  0.33217644\n",
            "  0.39797687 -0.37405056 -0.14654314 -0.10143383  0.17590998 -0.06549403\n",
            "  0.33954333 -0.04125304  0.05853389 -0.37565101  0.04373925 -0.38967107\n",
            " -0.33048455 -0.25614055 -0.27436118  0.00433121 -0.34681916 -0.01036167\n",
            " -0.00373732  0.07333587 -0.3698033   0.28749311 -0.01163859  0.327175\n",
            " -0.27677611  0.28118788  0.42189819 -0.12623055 -0.04848502  0.02863034\n",
            " -0.00240019  0.47868774 -0.3371656   0.0255005   0.27518353  0.16212707\n",
            "  0.17439922  0.27733184  0.40814703 -0.33843478 -0.47383956  0.09222321\n",
            " -0.23422742  0.20034953  0.18606345  0.34380499  0.35347779  0.20304626\n",
            " -0.4663782   0.23560661  0.04446361 -0.34564012  0.44997474  0.09978872\n",
            "  0.22091428 -0.45096951  0.29421306  0.28610365 -0.0728715   0.05970688\n",
            "  0.21843747  0.39441081  0.12348063  0.06592447  0.24348353 -0.08090633\n",
            " -0.39310105  0.11629828 -0.2792823   0.21385263 -0.37699549 -0.04649848\n",
            "  0.00953652  0.03457526  0.21590953 -0.06220827  0.48661562  0.39271772\n",
            " -0.14235864 -0.43834792  0.38717782  0.2763666 ]\n"
          ]
        }
      ],
      "source": [
        "def get_word_embedding(word, vocab, model):\n",
        "    word_idx = vocab.word_to_index(word)\n",
        "    if word_idx != -1:\n",
        "        return model.W[word_idx]\n",
        "    else:\n",
        "        return None\n",
        "\n",
        "embedding = get_word_embedding(\"مرد\", vocab, word2vec_model)\n",
        "print(embedding)\n"
      ]
    }
  ],
  "metadata": {
    "accelerator": "GPU",
    "colab": {
      "gpuType": "T4",
      "provenance": [],
      "include_colab_link": true
    },
    "kernelspec": {
      "display_name": "Python 3 (ipykernel)",
      "language": "python",
      "name": "python3"
    },
    "language_info": {
      "codemirror_mode": {
        "name": "ipython",
        "version": 3
      },
      "file_extension": ".py",
      "mimetype": "text/x-python",
      "name": "python",
      "nbconvert_exporter": "python",
      "pygments_lexer": "ipython3",
      "version": "3.13.0"
    }
  },
  "nbformat": 4,
  "nbformat_minor": 0
}