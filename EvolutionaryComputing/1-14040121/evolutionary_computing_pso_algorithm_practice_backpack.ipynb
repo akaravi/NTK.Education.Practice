{
  "nbformat": 4,
  "nbformat_minor": 0,
  "metadata": {
    "colab": {
      "provenance": []
    },
    "kernelspec": {
      "name": "python3",
      "display_name": "Python 3"
    },
    "language_info": {
      "name": "python"
    }
  },
  "cells": [
    {
      "cell_type": "code",
      "execution_count": 17,
      "metadata": {
        "colab": {
          "base_uri": "https://localhost:8080/"
        },
        "id": "q5Jsjwqu4Z4g",
        "outputId": "c5372516-3dad-48f2-d304-1b5d7aae238a"
      },
      "outputs": [
        {
          "output_type": "stream",
          "name": "stdout",
          "text": [
            "\n",
            "نتایج الگوریتم PSO:\n",
            "بهترین راه حل: [0 0 0 0 1 0 1 1]\n",
            "اقلام انتخاب شده:\n",
            "کالا 5: وزن 1, ارزش 5\n",
            "کالا 7: وزن 6, ارزش 40\n",
            "کالا 8: وزن 8, ارزش 50\n",
            "ارزش کل: 95\n",
            "زمان اجرای الگوریتم PSO: 3.0934 ثانیه\n"
          ]
        }
      ],
      "source": [
        "import numpy as np\n",
        "import random\n",
        "import time\n",
        "\n",
        "# تعریف اقلام (وزن، ارزش)\n",
        "items = [\n",
        "    (2, 10),  # کالا 1: وزن 2، ارزش 10\n",
        "    (3, 15),  # کالا 2: وزن 3، ارزش 15\n",
        "    (5, 30),  # کالا 3: وزن 5، ارزش 30\n",
        "    (7, 25),  # کالا 4: وزن 7، ارزش 25\n",
        "    (1, 5),   # کالا 5: وزن 1، ارزش 5\n",
        "    (4, 20),  # کالا 6: وزن 4، ارزش 20\n",
        "    (6, 40),  # کالا 7: وزن 6، ارزش 40\n",
        "    (8, 50)   # کالا 8: وزن 8، ارزش 50\n",
        "]\n",
        "max_weight = 15  # حداکثر وزن کوله‌پشتی\n",
        "\n",
        "\n",
        "# محاسبه ارزش\n",
        "def fitness(individual):\n",
        "    total_value = sum(items[i][1] for i in range(len(individual)) if individual[i] == 1)\n",
        "    total_weight = sum(items[i][0] for i in range(len(individual)) if individual[i] == 1)\n",
        "    if total_weight > max_weight:\n",
        "        return 0  # اگر وزن بیشتر از حداکثر مجاز باشد\n",
        "    return total_value\n",
        "\n",
        "# نمایش چیدمان\n",
        "def display_solution(solution):\n",
        "    print(\"اقلام انتخاب شده:\")\n",
        "    for i in range(len(solution)):\n",
        "        if solution[i] == 1:\n",
        "            print(f\"کالا {i + 1}: وزن {items[i][0]}, ارزش {items[i][1]}\")\n",
        "\n",
        "# الگوریتم PSO\n",
        "def pso_algorithm(num_particles, iterations):\n",
        "    particles = np.random.randint(2, size=(num_particles, len(items)))\n",
        "    velocities = np.random.rand(num_particles, len(items)) * 2 - 1  # سرعت تصادفی\n",
        "    personal_best_positions = particles.copy()\n",
        "    personal_best_values = [fitness(p) for p in particles]\n",
        "    global_best_position = personal_best_positions[np.argmax(personal_best_values)]\n",
        "\n",
        "    for _ in range(iterations):\n",
        "        for i in range(num_particles):\n",
        "            # به‌روزرسانی سرعت\n",
        "            r1, r2 = np.random.rand(2)\n",
        "            velocities[i] = (\n",
        "                0.5 * velocities[i] +\n",
        "                2 * r1 * (personal_best_positions[i] - particles[i]) +\n",
        "                2 * r2 * (global_best_position - particles[i])\n",
        "            )\n",
        "            # به‌روزرسانی موقعیت\n",
        "            particles[i] = np.clip(particles[i] + velocities[i].astype(int), 0, 1)\n",
        "\n",
        "            # به‌روزرسانی بهترین شخصی\n",
        "            current_value = fitness(particles[i])\n",
        "            if current_value > personal_best_values[i]:\n",
        "                personal_best_values[i] = current_value\n",
        "                personal_best_positions[i] = particles[i]\n",
        "\n",
        "        # به‌روزرسانی بهترین جهانی\n",
        "        if np.max(personal_best_values) > fitness(global_best_position):\n",
        "            global_best_position = personal_best_positions[np.argmax(personal_best_values)]\n",
        "\n",
        "    return global_best_position, fitness(global_best_position)\n",
        "\n",
        "\n",
        "\n",
        "# اجرا و زمان‌سنجی الگوریتم PSO\n",
        "start_time_pso = time.time()\n",
        "best_solution_pso, best_value_pso = pso_algorithm(num_particles=100, iterations=1000)\n",
        "end_time_pso = time.time()\n",
        "\n",
        "print(\"\\nنتایج الگوریتم PSO:\")\n",
        "print(\"بهترین راه حل:\", best_solution_pso)\n",
        "display_solution(best_solution_pso)\n",
        "print(\"ارزش کل:\", best_value_pso)\n",
        "print(f\"زمان اجرای الگوریتم PSO: {end_time_pso - start_time_pso:.4f} ثانیه\")"
      ]
    }
  ]
}