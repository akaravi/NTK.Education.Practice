{
  "nbformat": 4,
  "nbformat_minor": 0,
  "metadata": {
    "colab": {
      "provenance": []
    },
    "kernelspec": {
      "name": "python3",
      "display_name": "Python 3"
    },
    "language_info": {
      "name": "python"
    }
  },
  "cells": [
    {
      "cell_type": "code",
      "execution_count": null,
      "metadata": {
        "colab": {
          "base_uri": "https://localhost:8080/",
          "height": 487
        },
        "id": "WNFpmbgg7H3X",
        "outputId": "923ed030-d6ab-49e7-aca5-b918c8696d59"
      },
      "outputs": [
        {
          "output_type": "stream",
          "name": "stdout",
          "text": [
            "Best Position (Solution): [1 2 4 5 7 0 6 3]\n",
            "Clashes: 2\n"
          ]
        },
        {
          "output_type": "display_data",
          "data": {
            "text/plain": [
              "<Figure size 640x480 with 1 Axes>"
            ],
            "image/png": "[encoded data removed]"
          },
          "metadata": {}
        }
      ],
      "source": [
        "import numpy as np\n",
        "import random\n",
        "import matplotlib.pyplot as plt\n",
        "\n",
        "class Particle:\n",
        "    def __init__(self, n):\n",
        "        self.position = np.random.permutation(n)\n",
        "        self.velocity = np.zeros(n)  # Start with zero velocity\n",
        "        self.best_position = self.position.copy()\n",
        "        self.best_value = float('inf')\n",
        "\n",
        "def fitness(position):\n",
        "    n = len(position)\n",
        "    clashes = 0\n",
        "    for i in range(n):\n",
        "        for j in range(i + 1, n):\n",
        "            if abs(position[i] - position[j]) == abs(i - j):\n",
        "                clashes += 1\n",
        "    return clashes\n",
        "\n",
        "def update_velocity(particle, global_best_position, w=0.5, c1=1, c2=1):\n",
        "    r1, r2 = random.random(), random.random()\n",
        "    cognitive = c1 * r1 * (particle.best_position - particle.position)\n",
        "    social = c2 * r2 * (global_best_position - particle.position)\n",
        "    particle.velocity = w * particle.velocity + cognitive + social\n",
        "    particle.velocity = np.clip(particle.velocity, -1, 1)  # Limit velocity\n",
        "\n",
        "def update_position(particle):\n",
        "    particle.position = np.clip(particle.position + np.round(particle.velocity).astype(int), 0, len(particle.position) - 1)\n",
        "\n",
        "    # Ensure unique positions\n",
        "    unique_positions = np.unique(particle.position)\n",
        "    while len(unique_positions) < len(particle.position):\n",
        "        new_position = random.randint(0, len(particle.position) - 1)\n",
        "        if new_position not in unique_positions:\n",
        "            unique_positions = np.append(unique_positions, new_position)\n",
        "    particle.position = unique_positions[:len(particle.position)]\n",
        "\n",
        "def pso(n, num_particles=30, max_iter=100):\n",
        "    swarm = [Particle(n) for _ in range(num_particles)]\n",
        "    global_best_position = None\n",
        "    global_best_value = float('inf')\n",
        "\n",
        "    for _ in range(max_iter):\n",
        "        for particle in swarm:\n",
        "            current_value = fitness(particle.position)\n",
        "            if current_value < particle.best_value:\n",
        "                particle.best_value = current_value\n",
        "                particle.best_position = particle.position.copy()\n",
        "            if current_value < global_best_value:\n",
        "                global_best_value = current_value\n",
        "                global_best_position = particle.position.copy()\n",
        "\n",
        "        for particle in swarm:\n",
        "            update_velocity(particle, global_best_position)\n",
        "            update_position(particle)\n",
        "\n",
        "    return global_best_position, global_best_value\n",
        "\n",
        "def display_board(solution):\n",
        "    n = len(solution)\n",
        "    board = np.zeros((n, n))\n",
        "    for i in range(n):\n",
        "        board[int(solution[i]), i] = 1  # 1 represents a queen's position\n",
        "\n",
        "    plt.imshow(board, cmap='binary')\n",
        "    plt.xticks(range(n))\n",
        "    plt.yticks(range(n))\n",
        "    plt.title('8 Queens Solution')\n",
        "    plt.gca().invert_yaxis()\n",
        "    plt.show()\n",
        "\n",
        "n = 8\n",
        "solution, value = pso(n)\n",
        "print(\"Best Position (Solution):\", solution)\n",
        "print(\"Clashes:\", value)\n",
        "\n",
        "display_board(solution)"
      ]
    }
  ]
}