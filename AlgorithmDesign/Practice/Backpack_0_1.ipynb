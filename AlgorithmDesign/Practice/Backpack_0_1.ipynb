{
 "cells": [
  {
   "cell_type": "code",
   "execution_count": 8,
   "id": "4a9950f0-dd07-4490-80aa-d8fce38234c6",
   "metadata": {},
   "outputs": [
    {
     "name": "stdout",
     "output_type": "stream",
     "text": [
      "حداکثر ارزش قابل حمل: 90\n",
      "کالاهای انتخاب شده: [1, 0]\n",
      "حداکثر ارزش قابل حمل: 85\n",
      "کالاهای انتخاب شده: [1, 0]\n"
     ]
    }
   ],
   "source": [
    "def knapsack(weights, values, capacity):\n",
    "    n = len(values)\n",
    "    # ایجاد یک جدول برای ذخیره‌سازی حداکثر ارزش‌ها\n",
    "    K = [[0 for _ in range(capacity + 1)] for _ in range(n + 1)]\n",
    "\n",
    "    # پر کردن جدول K\n",
    "    for i in range(1, n + 1):\n",
    "        for w in range(1, capacity + 1):\n",
    "            if weights[i - 1] <= w:\n",
    "                K[i][w] = max(K[i - 1][w], K[i - 1][w - weights[i - 1]] + values[i - 1])\n",
    "            else:\n",
    "                K[i][w] = K[i - 1][w]\n",
    "\n",
    "    # پیدا کردن اقلام انتخاب شده\n",
    "    selected_items = []\n",
    "    w = capacity\n",
    "    for i in range(n, 0, -1):\n",
    "        if K[i][w] != K[i - 1][w]:\n",
    "            selected_items.append(i - 1)  # اضافه کردن ایندکس کالا به لیست\n",
    "            w -= weights[i - 1]\n",
    "\n",
    "    return K[n][capacity], selected_items\n",
    "\n",
    "# مثال استفاده\n",
    "weights = [5, 15, 9, 10,30]\n",
    "values = [30, 60, 27, 20,30]\n",
    "capacity = 21\n",
    "\n",
    "max_value, selected_items = knapsack(weights, values, capacity)\n",
    "print(f\"حداکثر ارزش قابل حمل: {max_value}\")\n",
    "print(f\"کالاهای انتخاب شده: {selected_items}\")\n",
    "\n",
    "\n",
    "\n",
    "# مثال استفاده\n",
    "weights = [5, 15, 9, 12,20]\n",
    "values = [25, 60, 27, 24,20]\n",
    "capacity = 20\n",
    "\n",
    "max_value, selected_items = knapsack(weights, values, capacity)\n",
    "print(f\"حداکثر ارزش قابل حمل: {max_value}\")\n",
    "print(f\"کالاهای انتخاب شده: {selected_items}\")"
   ]
  },
  {
   "cell_type": "code",
   "execution_count": null,
   "id": "c03c9ad7-db9d-49b9-ab9c-25b0700323a5",
   "metadata": {},
   "outputs": [],
   "source": []
  }
 ],
 "metadata": {
  "kernelspec": {
   "display_name": "Python 3 (ipykernel)",
   "language": "python",
   "name": "python3"
  },
  "language_info": {
   "codemirror_mode": {
    "name": "ipython",
    "version": 3
   },
   "file_extension": ".py",
   "mimetype": "text/x-python",
   "name": "python",
   "nbconvert_exporter": "python",
   "pygments_lexer": "ipython3",
   "version": "3.12.4"
  }
 },
 "nbformat": 4,
 "nbformat_minor": 5
}
