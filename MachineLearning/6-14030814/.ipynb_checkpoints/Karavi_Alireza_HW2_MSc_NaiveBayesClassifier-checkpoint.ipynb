{
  "nbformat": 4,
  "nbformat_minor": 0,
  "metadata": {
    "colab": {
      "provenance": []
    },
    "kernelspec": {
      "name": "python3",
      "display_name": "Python 3"
    },
    "language_info": {
      "name": "python"
    }
  },
  "cells": [
    {
      "cell_type": "code",
      "execution_count": 1,
      "metadata": {
        "colab": {
          "base_uri": "https://localhost:8080/"
        },
        "id": "p-xx7COpQGu1",
        "outputId": "2265a5b7-45f7-48d6-d3f0-4d183cb468be"
      },
      "outputs": [
        {
          "output_type": "stream",
          "name": "stdout",
          "text": [
            "Drive already mounted at /content/gdrive; to attempt to forcibly remount, call drive.mount(\"/content/gdrive\", force_remount=True).\n"
          ]
        }
      ],
      "source": [
        "\n",
        "# مرحله 1: لود کردن کتابخانه‌ها\n",
        "import pandas as pd\n",
        "from sklearn.model_selection import train_test_split\n",
        "from sklearn.naive_bayes import GaussianNB\n",
        "from sklearn.metrics import accuracy_score\n",
        "\n",
        "# مرحله 2: بارگذاری دیتاست\n",
        "# اگر دیتاست در Google Drive است، ابتدا Google Drive را متصل کنید\n",
        "from google.colab import drive\n",
        "drive.mount('/content/gdrive')"
      ]
    },
    {
      "cell_type": "code",
      "source": [
        "%cd /content/gdrive/MyDrive/SourceKaravi/NTK.Education.Practice/\n",
        "!git pull\n",
        "%cd /content/gdrive/MyDrive/SourceKaravi/NTK.Education.Practice/MachineLearning/Practice3"
      ],
      "metadata": {
        "colab": {
          "base_uri": "https://localhost:8080/"
        },
        "id": "-i_jOraJQLLC",
        "outputId": "679d50af-53ed-49a9-9268-c86a78894b33"
      },
      "execution_count": 2,
      "outputs": [
        {
          "output_type": "stream",
          "name": "stdout",
          "text": [
            "/content/gdrive/MyDrive/SourceKaravi/NTK.Education.Practice\n",
            "Already up to date.\n",
            "/content/gdrive/MyDrive/SourceKaravi/NTK.Education.Practice/MachineLearning/Practice3\n"
          ]
        }
      ]
    },
    {
      "cell_type": "code",
      "source": [
        "# بارگذاری دیتاست (توجه: آدرس فایل خود را وارد کنید)\n",
        "df = pd.read_csv('/content/gdrive/MyDrive/SourceKaravi/NTK.Education.Practice/MachineLearning/Practice3/Dissertation_grades_information.csv')"
      ],
      "metadata": {
        "id": "gXv9BeGjQ9IJ"
      },
      "execution_count": 3,
      "outputs": []
    },
    {
      "cell_type": "code",
      "source": [
        "# مرحله 3: بررسی فیلدهای دیتاست\n",
        "print(df.head())  # نمایش 5 ردیف اول دیتاست\n",
        "print(df.info())  # اطلاعات کلی درباره دیتاست"
      ],
      "metadata": {
        "colab": {
          "base_uri": "https://localhost:8080/"
        },
        "id": "tWgxXEtQRYOC",
        "outputId": "1b0d9fa9-9de1-4ac9-9887-b4fb29ebb20e"
      },
      "execution_count": 4,
      "outputs": [
        {
          "output_type": "stream",
          "name": "stdout",
          "text": [
            "  gender  content  presentation  innovation  total score\n",
            "0      F        6             4           6     16     B\n",
            "1      F        6             1           7     14     C\n",
            "2      F        2             4           5     11     D\n",
            "3      M        1             2           3      6     D\n",
            "4      M        3             2           1      6     D\n",
            "<class 'pandas.core.frame.DataFrame'>\n",
            "RangeIndex: 200 entries, 0 to 199\n",
            "Data columns (total 6 columns):\n",
            " #   Column        Non-Null Count  Dtype \n",
            "---  ------        --------------  ----- \n",
            " 0   gender        200 non-null    object\n",
            " 1   content       200 non-null    int64 \n",
            " 2   presentation  200 non-null    int64 \n",
            " 3   innovation    200 non-null    int64 \n",
            " 4   total         200 non-null    int64 \n",
            " 5   score         200 non-null    object\n",
            "dtypes: int64(4), object(2)\n",
            "memory usage: 9.5+ KB\n",
            "None\n"
          ]
        }
      ]
    },
    {
      "cell_type": "code",
      "source": [
        "# تبدیل ستون به نوع int\n",
        "df['gender'] = df['gender'].map({'M': 1, 'F': 0})\n",
        "df['gender'] = df['gender'].astype(int)\n",
        "# تبدیل ستون به نوع int\n",
        "df['score'] = df['score'].map({'D': 0, 'C': 1, 'B': 2, 'A': 3})\n",
        "df['score'] = df['score'].astype(int)"
      ],
      "metadata": {
        "id": "LtZpM97rRZu0"
      },
      "execution_count": 5,
      "outputs": []
    },
    {
      "cell_type": "code",
      "source": [
        "# مرحله 3: بررسی فیلدهای دیتاست\n",
        "print(df.head())  # نمایش 5 ردیف اول دیتاست\n",
        "print(df.info())  # اطلاعات کلی درباره دیتاست"
      ],
      "metadata": {
        "colab": {
          "base_uri": "https://localhost:8080/"
        },
        "id": "B2nyTAyHUtNy",
        "outputId": "8c481a4a-fd06-4827-a96d-cec36c1625b6"
      },
      "execution_count": 6,
      "outputs": [
        {
          "output_type": "stream",
          "name": "stdout",
          "text": [
            "   gender  content  presentation  innovation  total  score\n",
            "0       0        6             4           6     16      2\n",
            "1       0        6             1           7     14      1\n",
            "2       0        2             4           5     11      0\n",
            "3       1        1             2           3      6      0\n",
            "4       1        3             2           1      6      0\n",
            "<class 'pandas.core.frame.DataFrame'>\n",
            "RangeIndex: 200 entries, 0 to 199\n",
            "Data columns (total 6 columns):\n",
            " #   Column        Non-Null Count  Dtype\n",
            "---  ------        --------------  -----\n",
            " 0   gender        200 non-null    int64\n",
            " 1   content       200 non-null    int64\n",
            " 2   presentation  200 non-null    int64\n",
            " 3   innovation    200 non-null    int64\n",
            " 4   total         200 non-null    int64\n",
            " 5   score         200 non-null    int64\n",
            "dtypes: int64(6)\n",
            "memory usage: 9.5 KB\n",
            "None\n"
          ]
        }
      ]
    },
    {
      "cell_type": "code",
      "source": [
        "# مرحله 4: آماده‌سازی داده‌ها\n",
        "X = df.drop('score', axis=1)\n",
        "y = df['score']"
      ],
      "metadata": {
        "id": "0DXyhSHqUs7g"
      },
      "execution_count": 7,
      "outputs": []
    },
    {
      "cell_type": "code",
      "source": [
        "\n",
        "# تقسیم داده‌ها به مجموعه آموزش و تست\n",
        "X_train, X_test, y_train, y_test = train_test_split(X, y, test_size=0.2, random_state=42)\n",
        "\n",
        "# مرحله 5: اجرای Naive Bayes Classifier\n",
        "model = GaussianNB()\n",
        "model.fit(X_train, y_train)\n",
        "\n",
        "# پیش‌بینی با استفاده از مجموعه تست\n",
        "y_pred = model.predict(X_test)\n"
      ],
      "metadata": {
        "id": "hMaKG641ReZd"
      },
      "execution_count": 8,
      "outputs": []
    },
    {
      "cell_type": "code",
      "source": [
        "# مرحله 6: ارزیابی مدل\n",
        "accuracy = accuracy_score(y_test, y_pred)\n",
        "print(f'Accuracy: {accuracy * 100:.2f}%')"
      ],
      "metadata": {
        "colab": {
          "base_uri": "https://localhost:8080/"
        },
        "id": "KvM5PN35Ri07",
        "outputId": "68315b73-e728-4423-d7c6-287900fcee26"
      },
      "execution_count": 9,
      "outputs": [
        {
          "output_type": "stream",
          "name": "stdout",
          "text": [
            "Accuracy: 97.50%\n"
          ]
        }
      ]
    }
  ]
}