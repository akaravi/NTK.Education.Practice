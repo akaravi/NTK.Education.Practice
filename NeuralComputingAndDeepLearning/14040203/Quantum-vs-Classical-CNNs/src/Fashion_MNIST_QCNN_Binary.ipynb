{
  "cells": [
    {
      "cell_type": "code",
      "execution_count": null,
      "metadata": {
        "colab": {
          "base_uri": "https://localhost:8080/"
        },
        "collapsed": true,
        "id": "Zv9g4cPyIJow",
        "outputId": "84d4276b-141e-41ec-e072-cca00b6249e9"
      },
      "outputs": [
        {
          "output_type": "stream",
          "name": "stdout",
          "text": [
            "Requirement already satisfied: tensorflow==2.15.0 in /usr/local/lib/python3.11/dist-packages (2.15.0)\n",
            "Requirement already satisfied: absl-py>=1.0.0 in /usr/local/lib/python3.11/dist-packages (from tensorflow==2.15.0) (1.4.0)\n",
            "Requirement already satisfied: astunparse>=1.6.0 in /usr/local/lib/python3.11/dist-packages (from tensorflow==2.15.0) (1.6.3)\n",
            "Requirement already satisfied: flatbuffers>=23.5.26 in /usr/local/lib/python3.11/dist-packages (from tensorflow==2.15.0) (24.12.23)\n",
            "Requirement already satisfied: gast!=0.5.0,!=0.5.1,!=0.5.2,>=0.2.1 in /usr/local/lib/python3.11/dist-packages (from tensorflow==2.15.0) (0.6.0)\n",
            "Requirement already satisfied: google-pasta>=0.1.1 in /usr/local/lib/python3.11/dist-packages (from tensorflow==2.15.0) (0.2.0)\n",
            "Requirement already satisfied: h5py>=2.9.0 in /usr/local/lib/python3.11/dist-packages (from tensorflow==2.15.0) (3.12.1)\n",
            "Requirement already satisfied: libclang>=13.0.0 in /usr/local/lib/python3.11/dist-packages (from tensorflow==2.15.0) (18.1.1)\n",
            "Requirement already satisfied: ml-dtypes~=0.2.0 in /usr/local/lib/python3.11/dist-packages (from tensorflow==2.15.0) (0.2.0)\n",
            "Requirement already satisfied: numpy<2.0.0,>=1.23.5 in /usr/local/lib/python3.11/dist-packages (from tensorflow==2.15.0) (1.26.4)\n",
            "Requirement already satisfied: opt-einsum>=2.3.2 in /usr/local/lib/python3.11/dist-packages (from tensorflow==2.15.0) (3.4.0)\n",
            "Requirement already satisfied: packaging in /usr/local/lib/python3.11/dist-packages (from tensorflow==2.15.0) (24.2)\n",
            "Requirement already satisfied: protobuf!=4.21.0,!=4.21.1,!=4.21.2,!=4.21.3,!=4.21.4,!=4.21.5,<5.0.0dev,>=3.20.3 in /usr/local/lib/python3.11/dist-packages (from tensorflow==2.15.0) (4.25.5)\n",
            "Requirement already satisfied: setuptools in /usr/local/lib/python3.11/dist-packages (from tensorflow==2.15.0) (75.1.0)\n",
            "Requirement already satisfied: six>=1.12.0 in /usr/local/lib/python3.11/dist-packages (from tensorflow==2.15.0) (1.17.0)\n",
            "Requirement already satisfied: termcolor>=1.1.0 in /usr/local/lib/python3.11/dist-packages (from tensorflow==2.15.0) (2.5.0)\n",
            "Requirement already satisfied: typing-extensions>=3.6.6 in /usr/local/lib/python3.11/dist-packages (from tensorflow==2.15.0) (4.12.2)\n",
            "Requirement already satisfied: wrapt<1.15,>=1.11.0 in /usr/local/lib/python3.11/dist-packages (from tensorflow==2.15.0) (1.14.1)\n",
            "Requirement already satisfied: tensorflow-io-gcs-filesystem>=0.23.1 in /usr/local/lib/python3.11/dist-packages (from tensorflow==2.15.0) (0.37.1)\n",
            "Requirement already satisfied: grpcio<2.0,>=1.24.3 in /usr/local/lib/python3.11/dist-packages (from tensorflow==2.15.0) (1.69.0)\n",
            "Requirement already satisfied: tensorboard<2.16,>=2.15 in /usr/local/lib/python3.11/dist-packages (from tensorflow==2.15.0) (2.15.2)\n",
            "Requirement already satisfied: tensorflow-estimator<2.16,>=2.15.0 in /usr/local/lib/python3.11/dist-packages (from tensorflow==2.15.0) (2.15.0)\n",
            "Requirement already satisfied: keras<2.16,>=2.15.0 in /usr/local/lib/python3.11/dist-packages (from tensorflow==2.15.0) (2.15.0)\n",
            "Requirement already satisfied: wheel<1.0,>=0.23.0 in /usr/local/lib/python3.11/dist-packages (from astunparse>=1.6.0->tensorflow==2.15.0) (0.45.1)\n",
            "Requirement already satisfied: google-auth<3,>=1.6.3 in /usr/local/lib/python3.11/dist-packages (from tensorboard<2.16,>=2.15->tensorflow==2.15.0) (2.27.0)\n",
            "Requirement already satisfied: google-auth-oauthlib<2,>=0.5 in /usr/local/lib/python3.11/dist-packages (from tensorboard<2.16,>=2.15->tensorflow==2.15.0) (1.2.1)\n",
            "Requirement already satisfied: markdown>=2.6.8 in /usr/local/lib/python3.11/dist-packages (from tensorboard<2.16,>=2.15->tensorflow==2.15.0) (3.7)\n",
            "Requirement already satisfied: requests<3,>=2.21.0 in /usr/local/lib/python3.11/dist-packages (from tensorboard<2.16,>=2.15->tensorflow==2.15.0) (2.32.3)\n",
            "Requirement already satisfied: tensorboard-data-server<0.8.0,>=0.7.0 in /usr/local/lib/python3.11/dist-packages (from tensorboard<2.16,>=2.15->tensorflow==2.15.0) (0.7.2)\n",
            "Requirement already satisfied: werkzeug>=1.0.1 in /usr/local/lib/python3.11/dist-packages (from tensorboard<2.16,>=2.15->tensorflow==2.15.0) (3.1.3)\n",
            "Requirement already satisfied: cachetools<6.0,>=2.0.0 in /usr/local/lib/python3.11/dist-packages (from google-auth<3,>=1.6.3->tensorboard<2.16,>=2.15->tensorflow==2.15.0) (5.5.0)\n",
            "Requirement already satisfied: pyasn1-modules>=0.2.1 in /usr/local/lib/python3.11/dist-packages (from google-auth<3,>=1.6.3->tensorboard<2.16,>=2.15->tensorflow==2.15.0) (0.4.1)\n",
            "Requirement already satisfied: rsa<5,>=3.1.4 in /usr/local/lib/python3.11/dist-packages (from google-auth<3,>=1.6.3->tensorboard<2.16,>=2.15->tensorflow==2.15.0) (4.9)\n",
            "Requirement already satisfied: requests-oauthlib>=0.7.0 in /usr/local/lib/python3.11/dist-packages (from google-auth-oauthlib<2,>=0.5->tensorboard<2.16,>=2.15->tensorflow==2.15.0) (1.3.1)\n",
            "Requirement already satisfied: charset-normalizer<4,>=2 in /usr/local/lib/python3.11/dist-packages (from requests<3,>=2.21.0->tensorboard<2.16,>=2.15->tensorflow==2.15.0) (3.4.1)\n",
            "Requirement already satisfied: idna<4,>=2.5 in /usr/local/lib/python3.11/dist-packages (from requests<3,>=2.21.0->tensorboard<2.16,>=2.15->tensorflow==2.15.0) (3.10)\n",
            "Requirement already satisfied: urllib3<3,>=1.21.1 in /usr/local/lib/python3.11/dist-packages (from requests<3,>=2.21.0->tensorboard<2.16,>=2.15->tensorflow==2.15.0) (2.3.0)\n",
            "Requirement already satisfied: certifi>=2017.4.17 in /usr/local/lib/python3.11/dist-packages (from requests<3,>=2.21.0->tensorboard<2.16,>=2.15->tensorflow==2.15.0) (2024.12.14)\n",
            "Requirement already satisfied: MarkupSafe>=2.1.1 in /usr/local/lib/python3.11/dist-packages (from werkzeug>=1.0.1->tensorboard<2.16,>=2.15->tensorflow==2.15.0) (3.0.2)\n",
            "Requirement already satisfied: pyasn1<0.7.0,>=0.4.6 in /usr/local/lib/python3.11/dist-packages (from pyasn1-modules>=0.2.1->google-auth<3,>=1.6.3->tensorboard<2.16,>=2.15->tensorflow==2.15.0) (0.6.1)\n",
            "Requirement already satisfied: oauthlib>=3.0.0 in /usr/local/lib/python3.11/dist-packages (from requests-oauthlib>=0.7.0->google-auth-oauthlib<2,>=0.5->tensorboard<2.16,>=2.15->tensorflow==2.15.0) (3.2.2)\n",
            "Requirement already satisfied: tensorflow-quantum==0.7.3 in /usr/local/lib/python3.11/dist-packages (0.7.3)\n",
            "Requirement already satisfied: cirq-core==1.3.0 in /usr/local/lib/python3.11/dist-packages (from tensorflow-quantum==0.7.3) (1.3.0)\n",
            "Requirement already satisfied: cirq-google==1.3.0 in /usr/local/lib/python3.11/dist-packages (from tensorflow-quantum==0.7.3) (1.3.0)\n",
            "Requirement already satisfied: sympy==1.12 in /usr/local/lib/python3.11/dist-packages (from tensorflow-quantum==0.7.3) (1.12)\n",
            "Requirement already satisfied: duet~=0.2.8 in /usr/local/lib/python3.11/dist-packages (from cirq-core==1.3.0->tensorflow-quantum==0.7.3) (0.2.9)\n",
            "Requirement already satisfied: matplotlib~=3.0 in /usr/local/lib/python3.11/dist-packages (from cirq-core==1.3.0->tensorflow-quantum==0.7.3) (3.10.0)\n",
            "Requirement already satisfied: networkx>=2.4 in /usr/local/lib/python3.11/dist-packages (from cirq-core==1.3.0->tensorflow-quantum==0.7.3) (3.4.2)\n",
            "Requirement already satisfied: numpy~=1.16 in /usr/local/lib/python3.11/dist-packages (from cirq-core==1.3.0->tensorflow-quantum==0.7.3) (1.26.4)\n",
            "Requirement already satisfied: pandas in /usr/local/lib/python3.11/dist-packages (from cirq-core==1.3.0->tensorflow-quantum==0.7.3) (2.2.2)\n",
            "Requirement already satisfied: sortedcontainers~=2.0 in /usr/local/lib/python3.11/dist-packages (from cirq-core==1.3.0->tensorflow-quantum==0.7.3) (2.4.0)\n",
            "Requirement already satisfied: scipy in /usr/local/lib/python3.11/dist-packages (from cirq-core==1.3.0->tensorflow-quantum==0.7.3) (1.13.1)\n",
            "Requirement already satisfied: typing-extensions>=4.2 in /usr/local/lib/python3.11/dist-packages (from cirq-core==1.3.0->tensorflow-quantum==0.7.3) (4.12.2)\n",
            "Requirement already satisfied: tqdm in /usr/local/lib/python3.11/dist-packages (from cirq-core==1.3.0->tensorflow-quantum==0.7.3) (4.67.1)\n",
            "Requirement already satisfied: google-api-core>=1.14.0 in /usr/local/lib/python3.11/dist-packages (from google-api-core[grpc]>=1.14.0->cirq-google==1.3.0->tensorflow-quantum==0.7.3) (2.19.2)\n",
            "Requirement already satisfied: proto-plus>=1.20.0 in /usr/local/lib/python3.11/dist-packages (from cirq-google==1.3.0->tensorflow-quantum==0.7.3) (1.25.0)\n",
            "Requirement already satisfied: protobuf>=3.15.0 in /usr/local/lib/python3.11/dist-packages (from cirq-google==1.3.0->tensorflow-quantum==0.7.3) (4.25.5)\n",
            "Requirement already satisfied: mpmath>=0.19 in /usr/local/lib/python3.11/dist-packages (from sympy==1.12->tensorflow-quantum==0.7.3) (1.3.0)\n",
            "Requirement already satisfied: googleapis-common-protos<2.0.dev0,>=1.56.2 in /usr/local/lib/python3.11/dist-packages (from google-api-core>=1.14.0->google-api-core[grpc]>=1.14.0->cirq-google==1.3.0->tensorflow-quantum==0.7.3) (1.66.0)\n",
            "Requirement already satisfied: google-auth<3.0.dev0,>=2.14.1 in /usr/local/lib/python3.11/dist-packages (from google-api-core>=1.14.0->google-api-core[grpc]>=1.14.0->cirq-google==1.3.0->tensorflow-quantum==0.7.3) (2.27.0)\n",
            "Requirement already satisfied: requests<3.0.0.dev0,>=2.18.0 in /usr/local/lib/python3.11/dist-packages (from google-api-core>=1.14.0->google-api-core[grpc]>=1.14.0->cirq-google==1.3.0->tensorflow-quantum==0.7.3) (2.32.3)\n",
            "Requirement already satisfied: grpcio<2.0dev,>=1.33.2 in /usr/local/lib/python3.11/dist-packages (from google-api-core[grpc]>=1.14.0->cirq-google==1.3.0->tensorflow-quantum==0.7.3) (1.69.0)\n",
            "Requirement already satisfied: grpcio-status<2.0.dev0,>=1.33.2 in /usr/local/lib/python3.11/dist-packages (from google-api-core[grpc]>=1.14.0->cirq-google==1.3.0->tensorflow-quantum==0.7.3) (1.62.3)\n",
            "Requirement already satisfied: contourpy>=1.0.1 in /usr/local/lib/python3.11/dist-packages (from matplotlib~=3.0->cirq-core==1.3.0->tensorflow-quantum==0.7.3) (1.3.1)\n",
            "Requirement already satisfied: cycler>=0.10 in /usr/local/lib/python3.11/dist-packages (from matplotlib~=3.0->cirq-core==1.3.0->tensorflow-quantum==0.7.3) (0.12.1)\n",
            "Requirement already satisfied: fonttools>=4.22.0 in /usr/local/lib/python3.11/dist-packages (from matplotlib~=3.0->cirq-core==1.3.0->tensorflow-quantum==0.7.3) (4.55.3)\n",
            "Requirement already satisfied: kiwisolver>=1.3.1 in /usr/local/lib/python3.11/dist-packages (from matplotlib~=3.0->cirq-core==1.3.0->tensorflow-quantum==0.7.3) (1.4.8)\n",
            "Requirement already satisfied: packaging>=20.0 in /usr/local/lib/python3.11/dist-packages (from matplotlib~=3.0->cirq-core==1.3.0->tensorflow-quantum==0.7.3) (24.2)\n",
            "Requirement already satisfied: pillow>=8 in /usr/local/lib/python3.11/dist-packages (from matplotlib~=3.0->cirq-core==1.3.0->tensorflow-quantum==0.7.3) (11.1.0)\n",
            "Requirement already satisfied: pyparsing>=2.3.1 in /usr/local/lib/python3.11/dist-packages (from matplotlib~=3.0->cirq-core==1.3.0->tensorflow-quantum==0.7.3) (3.2.1)\n",
            "Requirement already satisfied: python-dateutil>=2.7 in /usr/local/lib/python3.11/dist-packages (from matplotlib~=3.0->cirq-core==1.3.0->tensorflow-quantum==0.7.3) (2.8.2)\n",
            "Requirement already satisfied: pytz>=2020.1 in /usr/local/lib/python3.11/dist-packages (from pandas->cirq-core==1.3.0->tensorflow-quantum==0.7.3) (2024.2)\n",
            "Requirement already satisfied: tzdata>=2022.7 in /usr/local/lib/python3.11/dist-packages (from pandas->cirq-core==1.3.0->tensorflow-quantum==0.7.3) (2024.2)\n",
            "Requirement already satisfied: cachetools<6.0,>=2.0.0 in /usr/local/lib/python3.11/dist-packages (from google-auth<3.0.dev0,>=2.14.1->google-api-core>=1.14.0->google-api-core[grpc]>=1.14.0->cirq-google==1.3.0->tensorflow-quantum==0.7.3) (5.5.0)\n",
            "Requirement already satisfied: pyasn1-modules>=0.2.1 in /usr/local/lib/python3.11/dist-packages (from google-auth<3.0.dev0,>=2.14.1->google-api-core>=1.14.0->google-api-core[grpc]>=1.14.0->cirq-google==1.3.0->tensorflow-quantum==0.7.3) (0.4.1)\n",
            "Requirement already satisfied: rsa<5,>=3.1.4 in /usr/local/lib/python3.11/dist-packages (from google-auth<3.0.dev0,>=2.14.1->google-api-core>=1.14.0->google-api-core[grpc]>=1.14.0->cirq-google==1.3.0->tensorflow-quantum==0.7.3) (4.9)\n",
            "Requirement already satisfied: six>=1.5 in /usr/local/lib/python3.11/dist-packages (from python-dateutil>=2.7->matplotlib~=3.0->cirq-core==1.3.0->tensorflow-quantum==0.7.3) (1.17.0)\n",
            "Requirement already satisfied: charset-normalizer<4,>=2 in /usr/local/lib/python3.11/dist-packages (from requests<3.0.0.dev0,>=2.18.0->google-api-core>=1.14.0->google-api-core[grpc]>=1.14.0->cirq-google==1.3.0->tensorflow-quantum==0.7.3) (3.4.1)\n",
            "Requirement already satisfied: idna<4,>=2.5 in /usr/local/lib/python3.11/dist-packages (from requests<3.0.0.dev0,>=2.18.0->google-api-core>=1.14.0->google-api-core[grpc]>=1.14.0->cirq-google==1.3.0->tensorflow-quantum==0.7.3) (3.10)\n",
            "Requirement already satisfied: urllib3<3,>=1.21.1 in /usr/local/lib/python3.11/dist-packages (from requests<3.0.0.dev0,>=2.18.0->google-api-core>=1.14.0->google-api-core[grpc]>=1.14.0->cirq-google==1.3.0->tensorflow-quantum==0.7.3) (2.3.0)\n",
            "Requirement already satisfied: certifi>=2017.4.17 in /usr/local/lib/python3.11/dist-packages (from requests<3.0.0.dev0,>=2.18.0->google-api-core>=1.14.0->google-api-core[grpc]>=1.14.0->cirq-google==1.3.0->tensorflow-quantum==0.7.3) (2024.12.14)\n",
            "Requirement already satisfied: pyasn1<0.7.0,>=0.4.6 in /usr/local/lib/python3.11/dist-packages (from pyasn1-modules>=0.2.1->google-auth<3.0.dev0,>=2.14.1->google-api-core>=1.14.0->google-api-core[grpc]>=1.14.0->cirq-google==1.3.0->tensorflow-quantum==0.7.3) (0.6.1)\n"
          ]
        },
        {
          "output_type": "stream",
          "name": "stderr",
          "text": [
            "<ipython-input-1-521053292e25>:4: DeprecationWarning: pkg_resources is deprecated as an API. See https://setuptools.pypa.io/en/latest/pkg_resources.html\n",
            "  import importlib, pkg_resources\n"
          ]
        },
        {
          "output_type": "execute_result",
          "data": {
            "text/plain": [
              "<module 'pkg_resources' from '/usr/local/lib/python3.11/dist-packages/pkg_resources/__init__.py'>"
            ]
          },
          "metadata": {},
          "execution_count": 1
        }
      ],
      "source": [
        "#TensorFlow یک کتابخانه متن باز برای یادگیری ماشین و یادگیری عمیق است که توسط گوگل توسعه داده شده است. این کتابخانه به شما این امکان را می‌دهد که مدل‌های یادگیری عمیق را بسازید و آموزش دهید.\n",
        "!pip install tensorflow==2.15.0\n",
        "!pip install tensorflow-quantum==0.7.3\n",
        "\n",
        "import importlib, pkg_resources\n",
        "importlib.reload(pkg_resources)"
      ]
    },
    {
      "cell_type": "code",
      "execution_count": null,
      "metadata": {
        "id": "QMEQ-QlZNPZ0"
      },
      "outputs": [],
      "source": [
        "# وارد کردن کتابخانه TensorFlow\n",
        "import tensorflow as tf\n",
        "\n",
        "# وارد کردن کتابخانه TensorFlow Quantum برای کار با محاسبات کوانتومی\n",
        "import tensorflow_quantum as tfq\n",
        "\n",
        "# وارد کردن مجموعه داده Fashion MNIST از Keras\n",
        "from tensorflow.keras.datasets import fashion_mnist\n",
        "\n",
        "# وارد کردن ابزارهای منظم‌سازی از Keras\n",
        "from tensorflow.keras import regularizers\n",
        "\n",
        "# وارد کردن کتابخانه Cirq برای کار با مدارهای کوانتومی\n",
        "import cirq\n",
        "\n",
        "# وارد کردن SymPy برای کار با ریاضیات نمادین\n",
        "import sympy\n",
        "\n",
        "# وارد کردن NumPy برای پردازش داده‌های عددی\n",
        "import numpy as np\n",
        "\n",
        "# وارد کردن متریک‌های ارزیابی از scikit-learn\n",
        "from sklearn.metrics import accuracy_score, precision_score, recall_score, f1_score\n",
        "\n",
        "# تنظیم نمایش نمودارها در Jupyter Notebook\n",
        "%matplotlib inline\n",
        "\n",
        "# وارد کردن کتابخانه Matplotlib برای ترسیم نمودارها\n",
        "import matplotlib.pyplot as plt\n",
        "\n",
        "# وارد کردن ابزار SVGCircuit از Cirq برای نمایش مدارهای کوانتومی به صورت SVG\n",
        "from cirq.contrib.svg import SVGCircuit"
      ]
    },
    {
      "cell_type": "code",
      "execution_count": null,
      "metadata": {
        "colab": {
          "base_uri": "https://localhost:8080/"
        },
        "id": "axJvhdIiNwv5",
        "outputId": "8f4a8316-47ab-4ec0-db71-9faf9bf5b162"
      },
      "outputs": [
        {
          "output_type": "stream",
          "name": "stdout",
          "text": [
            "Training Data Shape: (12000, 28, 28, 1)\n",
            "Testing Data Shape: (2000, 28, 28, 1)\n"
          ]
        }
      ],
      "source": [
        "# بارگذاری مجموعه داده Fashion MNIST\n",
        "(train_images, train_labels), (test_images, test_labels) = fashion_mnist.load_data()\n",
        "\n",
        "# انتخاب فقط کلاس T-shirt (0) و Trouser (1)\n",
        "classes_to_keep = [0, 1]  # کلاس‌هایی که می‌خواهیم نگه‌داریم\n",
        "train_filter = np.isin(train_labels, classes_to_keep)  # فیلتر کردن داده‌های آموزشی\n",
        "train_images = train_images[train_filter]  # اعمال فیلتر به تصاویر آموزشی\n",
        "train_labels = train_labels[train_filter]  # اعمال فیلتر به برچسب‌های آموزشی\n",
        "\n",
        "test_filter = np.isin(test_labels, classes_to_keep)  # فیلتر کردن داده‌های آزمایشی\n",
        "test_images = test_images[test_filter]  # اعمال فیلتر به تصاویر آزمایشی\n",
        "test_labels = test_labels[test_filter]  # اعمال فیلتر به برچسب‌های آزمایشی\n",
        "\n",
        "# تغییر مقیاس تصاویر به بازه [0, 1]\n",
        "train_images = train_images / 255.0  # نرمال‌سازی تصاویر آموزشی\n",
        "test_images = test_images / 255.0  # نرمال‌سازی تصاویر آزمایشی\n",
        "\n",
        "# اضافه کردن ابعاد کانال برای سازگاری با پایپ‌لاین QCNN (خاکستری: یک کانال)\n",
        "train_images = train_images[..., np.newaxis]  # اضافه کردن بعد جدید به تصاویر آموزشی\n",
        "test_images = test_images[..., np.newaxis]  # اضافه کردن بعد جدید به تصاویر آزمایشی\n",
        "\n",
        "# چاپ شکل داده‌های آموزشی و آزمایشی\n",
        "print(\"Training Data Shape:\", train_images.shape)  # نمایش شکل داده‌های آموزشی\n",
        "print(\"Testing Data Shape:\", test_images.shape)  # نمایش شکل داده‌های آزمایشی"
      ]
    },
    {
      "cell_type": "code",
      "execution_count": null,
      "metadata": {
        "colab": {
          "base_uri": "https://localhost:8080/",
          "height": 839
        },
        "id": "7YPSWRh0Q2LQ",
        "outputId": "ca593fba-cd42-4027-bc32-e0481a42b661"
      },
      "outputs": [
        {
          "output_type": "display_data",
          "data": {
            "text/plain": [
              "<Figure size 640x480 with 1 Axes>"
            ],
            "image/png": "[encoded data removed]"
          },
          "metadata": {}
        },
        {
          "output_type": "display_data",
          "data": {
            "text/plain": [
              "<Figure size 640x480 with 1 Axes>"
            ],
            "image/png": "[encoded data removed]"
          },
          "metadata": {}
        }
      ],
      "source": [
        "# پیدا کردن اولین ایندکس برای کلاس 0 (T-shirt)\n",
        "class_0_index = np.where(train_labels == 0)[0][0]\n",
        "\n",
        "# پیدا کردن اولین ایندکس برای کلاس 1 (Trouser)\n",
        "class_1_index = np.where(train_labels == 1)[0][0]\n",
        "\n",
        "# انتخاب ایندکس‌های کلاس‌های مورد نظر\n",
        "selected = [class_0_index, class_1_index]\n",
        "\n",
        "# چاپ جفت‌های ورودی و خروجی\n",
        "for index in selected:\n",
        "    input_image = train_images[index]  # گرفتن تصویر ورودی برای ایندکس انتخاب شده\n",
        "    output_label = train_labels[index]  # گرفتن برچسب خروجی برای ایندکس انتخاب شده\n",
        "\n",
        "    # نمایش تصویر\n",
        "    plt.imshow(input_image, cmap='gray')  # نمایش تصویر به صورت خاکستری\n",
        "    plt.title(f'Label: {output_label}')  # عنوان تصویر شامل برچسب\n",
        "    plt.axis('off')  # پنهان کردن محورهای نمودار\n",
        "    plt.show()  # نمایش تصویر"
      ]
    },
    {
      "cell_type": "code",
      "source": [
        "# 28x28 برای کدگذاری به کیوبیت‌ها بسیار بزرگ است و قادر به شبیه‌سازی مدار نخواهد بود\n",
        "# تغییر اندازه تصاویر به 4x4\n",
        "train_images = tf.image.resize(train_images, (4, 4)).numpy()  # تغییر اندازه تصاویر آموزشی\n",
        "test_images = tf.image.resize(test_images, (4, 4)).numpy()    # تغییر اندازه تصاویر آزمایشی\n",
        "\n",
        "# چاپ جفت‌های ورودی و خروجی\n",
        "for index in selected:\n",
        "    input_image = train_images[index]  # گرفتن تصویر ورودی برای ایندکس انتخاب شده\n",
        "    output_label = train_labels[index]  # گرفتن برچسب خروجی برای ایندکس انتخاب شده\n",
        "\n",
        "    # نمایش تصویر\n",
        "    plt.imshow(input_image, cmap='gray')  # نمایش تصویر به صورت خاکستری\n",
        "    plt.title(f'Label: {output_label}')  # عنوان تصویر شامل برچسب\n",
        "    plt.axis('off')  # پنهان کردن محورهای نمودار\n",
        "    plt.show()  # نمایش تصویر"
      ],
      "metadata": {
        "colab": {
          "base_uri": "https://localhost:8080/",
          "height": 839
        },
        "id": "2Laafz-cVUkG",
        "outputId": "7e6e8850-d7f3-42cf-a207-a36529e1005a"
      },
      "execution_count": null,
      "outputs": [
        {
          "output_type": "display_data",
          "data": {
            "text/plain": [
              "<Figure size 640x480 with 1 Axes>"
            ],
            "image/png": "[encoded data removed]"
          },
          "metadata": {}
        },
        {
          "output_type": "display_data",
          "data": {
            "text/plain": [
              "<Figure size 640x480 with 1 Axes>"
            ],
            "image/png": "[encoded data removed]"
          },
          "metadata": {}
        }
      ]
    },
    {
      "cell_type": "code",
      "source": [
        "# تابعی برای افزودن نویز گاوسی به تصاویر\n",
        "def add_gaussian_noise(images, mean=0.0, severity=1):\n",
        "    # سطوح شدت مختلف برای نویز\n",
        "    severity_levels = [0.08, 0.12, 0.18, 0.26, 0.38]\n",
        "    stddev = severity_levels[severity - 1]  # گرفتن انحراف معیار بر اساس شدت (1 تا 5)\n",
        "\n",
        "    # تولید نویز گاوسی\n",
        "    noise = np.random.normal(mean, stddev, images.shape)\n",
        "\n",
        "    # افزودن نویز به تصاویر\n",
        "    noisy_images = images + noise\n",
        "\n",
        "    # اطمینان از اینکه مقادیر پیکسل‌ها در بازه نرمال شده قرار دارند\n",
        "    noisy_images = np.clip(noisy_images, 0.0, 1.0)\n",
        "\n",
        "    return noisy_images  # بازگشت تصاویر با نویز\n",
        "\n",
        "# افزودن نویز به داده‌های آموزشی و آزمایشی\n",
        "train_data_noisy = add_gaussian_noise(train_images, severity=5)  # حداکثر شدت نویز برای داده‌های آموزشی\n",
        "test_data_noisy = add_gaussian_noise(test_images, severity=5)    # حداکثر شدت نویز برای داده‌های آزمایشی\n",
        "\n",
        "# چاپ شکل داده‌های آموزشی و آزمایشی با نویز\n",
        "print(\"Noisy Training Data Shape:\", train_data_noisy.shape)  # نمایش شکل داده‌های آموزشی با نویز\n",
        "print(\"Noisy Testing Data Shape:\", test_data_noisy.shape)    # نمایش شکل داده‌های آزمایشی با نویز\n",
        "\n",
        "# چاپ جفت‌های ورودی و خروجی\n",
        "for index in selected:\n",
        "    input_image = train_data_noisy[index]  # گرفتن تصویر ورودی با نویز برای ایندکس انتخاب شده\n",
        "    output_label = train_labels[index]      # گرفتن برچسب خروجی برای ایندکس انتخاب شده\n",
        "\n",
        "    # نمایش تصویر\n",
        "    plt.imshow(input_image, cmap='gray')  # نمایش تصویر به صورت خاکستری\n",
        "    plt.title(f'Label: {output_label}')  # عنوان تصویر شامل برچسب\n",
        "    plt.axis('off')  # پنهان کردن محورهای نمودار\n",
        "    plt.show()  # نمایش تصویر"
      ],
      "metadata": {
        "colab": {
          "base_uri": "https://localhost:8080/",
          "height": 874
        },
        "id": "pMSPEUDdVuvQ",
        "outputId": "92b8c8fc-56c0-44f0-dcaf-f0c5b0e4f8fd"
      },
      "execution_count": null,
      "outputs": [
        {
          "output_type": "stream",
          "name": "stdout",
          "text": [
            "Noisy Training Data Shape: (12000, 4, 4, 1)\n",
            "Noisy Testing Data Shape: (2000, 4, 4, 1)\n"
          ]
        },
        {
          "output_type": "display_data",
          "data": {
            "text/plain": [
              "<Figure size 640x480 with 1 Axes>"
            ],
            "image/png": "[encoded data removed]"
          },
          "metadata": {}
        },
        {
          "output_type": "display_data",
          "data": {
            "text/plain": [
              "<Figure size 640x480 with 1 Axes>"
            ],
            "image/png": "[encoded data removed]"
          },
          "metadata": {}
        }
      ]
    },
    {
      "cell_type": "code",
      "execution_count": null,
      "metadata": {
        "id": "AGNhVo3DMq2s"
      },
      "outputs": [],
      "source": [
        "# کدگذاری هر پیکسل به یک کیوبیت، فعال‌سازی حالت بستگی به آستانه دارد\n",
        "THRESHOLD = 0.5  # تعیین آستانه برای کدگذاری باینری\n",
        "\n",
        "# ایجاد کدگذاری باینری برای داده‌های پاک\n",
        "x_train_bin_clean = np.array(train_images > THRESHOLD, dtype=np.float32)  # کدگذاری تصاویر آموزشی پاک\n",
        "x_test_bin_clean = np.array(test_images > THRESHOLD, dtype=np.float32)    # کدگذاری تصاویر آزمایشی پاک\n",
        "\n",
        "# ایجاد کدگذاری باینری برای داده‌های نویزی\n",
        "x_train_bin_noisy = np.array(train_data_noisy > THRESHOLD, dtype=np.float32)  # کدگذاری تصاویر آموزشی با نویز\n",
        "x_test_bin_noisy = np.array(test_data_noisy > THRESHOLD, dtype=np.float32)    # کدگذاری تصاویر آزمایشی با نویز"
      ]
    },
    {
      "cell_type": "code",
      "source": [
        "# تبدیل تصاویر کلاسیک به داده‌های کوانتومی\n",
        "def convert_to_circuit(image):\n",
        "    values = np.ndarray.flatten(image)  # مسطح کردن تصویر به یک آرایه یک بعدی\n",
        "    qubits = cirq.GridQubit.rect(4, 4)  # ایجاد کیوبیت‌ها در یک شبکه 4x4\n",
        "    circuit = cirq.Circuit()  # ایجاد مدار کوانتومی جدید\n",
        "    for i, value in enumerate(values):\n",
        "        if value:  # اگر مقدار پیکسل 1 باشد\n",
        "            circuit.append(cirq.X(qubits[i]))  # اعمال گیت X (NOT) بر روی کیوبیت مربوطه\n",
        "    return circuit  # بازگشت مدار کوانتومی\n",
        "\n",
        "# تبدیل تصاویر آموزشی و آزمایشی پاک به مدار کوانتومی\n",
        "x_train_circ_clean = [convert_to_circuit(x) for x in x_train_bin_clean]  # تبدیل داده‌های آموزشی پاک\n",
        "x_test_circ_clean = [convert_to_circuit(x) for x in x_test_bin_clean]      # تبدیل داده‌های آزمایشی پاک\n",
        "\n",
        "# تبدیل تصاویر آموزشی و آزمایشی نویزی به مدار کوانتومی\n",
        "x_train_circ_noisy = [convert_to_circuit(x) for x in x_train_bin_noisy]  # تبدیل داده‌های آموزشی نویزی\n",
        "x_test_circ_noisy = [convert_to_circuit(x) for x in x_test_bin_noisy]    # تبدیل داده‌های آزمایشی نویزی\n",
        "\n",
        "# نمایش مدار کوانتومی برای اولین تصویر آموزشی پاک\n",
        "SVGCircuit(x_train_circ_clean[0])  # نمایش مدار کوانتومی برای تصویر اول"
      ],
      "metadata": {
        "colab": {
          "base_uri": "https://localhost:8080/",
          "height": 783
        },
        "id": "jZabQLebYJr0",
        "outputId": "d9aa78f8-75c1-44c7-ea2b-70f8a7e68e50"
      },
      "execution_count": null,
      "outputs": [
        {
          "output_type": "stream",
          "name": "stderr",
          "text": [
            "WARNING:matplotlib.font_manager:findfont: Font family 'Arial' not found.\n",
            "WARNING:matplotlib.font_manager:findfont: Font family 'Arial' not found.\n",
            "WARNING:matplotlib.font_manager:findfont: Font family 'Arial' not found.\n",
            "WARNING:matplotlib.font_manager:findfont: Font family 'Arial' not found.\n",
            "WARNING:matplotlib.font_manager:findfont: Font family 'Arial' not found.\n",
            "WARNING:matplotlib.font_manager:findfont: Font family 'Arial' not found.\n",
            "WARNING:matplotlib.font_manager:findfont: Font family 'Arial' not found.\n",
            "WARNING:matplotlib.font_manager:findfont: Font family 'Arial' not found.\n",
            "WARNING:matplotlib.font_manager:findfont: Font family 'Arial' not found.\n",
            "WARNING:matplotlib.font_manager:findfont: Font family 'Arial' not found.\n",
            "WARNING:matplotlib.font_manager:findfont: Font family 'Arial' not found.\n",
            "WARNING:matplotlib.font_manager:findfont: Font family 'Arial' not found.\n",
            "WARNING:matplotlib.font_manager:findfont: Font family 'Arial' not found.\n",
            "WARNING:matplotlib.font_manager:findfont: Font family 'Arial' not found.\n",
            "WARNING:matplotlib.font_manager:findfont: Font family 'Arial' not found.\n",
            "WARNING:matplotlib.font_manager:findfont: Font family 'Arial' not found.\n",
            "WARNING:matplotlib.font_manager:findfont: Font family 'Arial' not found.\n",
            "WARNING:matplotlib.font_manager:findfont: Font family 'Arial' not found.\n"
          ]
        },
        {
          "output_type": "execute_result",
          "data": {
            "text/plain": [
              "<cirq.contrib.svg.svg.SVGCircuit at 0x7fa3cbd2e290>"
            ],
            "image/svg+xml": "<svg xmlns=\"http://www.w3.org/2000/svg\" width=\"169.517734375\" height=\"450.0\"><line x1=\"34.7588671875\" x2=\"139.517734375\" y1=\"25.0\" y2=\"25.0\" stroke=\"#1967d2\" stroke-width=\"1\" /><line x1=\"34.7588671875\" x2=\"139.517734375\" y1=\"75.0\" y2=\"75.0\" stroke=\"#1967d2\" stroke-width=\"1\" /><line x1=\"34.7588671875\" x2=\"139.517734375\" y1=\"125.0\" y2=\"125.0\" stroke=\"#1967d2\" stroke-width=\"1\" /><line x1=\"34.7588671875\" x2=\"139.517734375\" y1=\"175.0\" y2=\"175.0\" stroke=\"#1967d2\" stroke-width=\"1\" /><line x1=\"34.7588671875\" x2=\"139.517734375\" y1=\"225.0\" y2=\"225.0\" stroke=\"#1967d2\" stroke-width=\"1\" /><line x1=\"34.7588671875\" x2=\"139.517734375\" y1=\"275.0\" y2=\"275.0\" stroke=\"#1967d2\" stroke-width=\"1\" /><line x1=\"34.7588671875\" x2=\"139.517734375\" y1=\"325.0\" y2=\"325.0\" stroke=\"#1967d2\" stroke-width=\"1\" /><line x1=\"34.7588671875\" x2=\"139.517734375\" y1=\"375.0\" y2=\"375.0\" stroke=\"#1967d2\" stroke-width=\"1\" /><line x1=\"34.7588671875\" x2=\"139.517734375\" y1=\"425.0\" y2=\"425.0\" stroke=\"#1967d2\" stroke-width=\"1\" /><rect x=\"10.0\" y=\"5.0\" width=\"49.517734375\" height=\"40\" stroke=\"black\" fill=\"white\" stroke-width=\"0\" /><text x=\"34.7588671875\" y=\"25.0\" dominant-baseline=\"middle\" text-anchor=\"middle\" font-size=\"14px\" font-family=\"Arial:style=normal:variant=normal:weight=normal:stretch=normal:size=10.0\">(0, 1): </text><rect x=\"10.0\" y=\"55.0\" width=\"49.517734375\" height=\"40\" stroke=\"black\" fill=\"white\" stroke-width=\"0\" /><text x=\"34.7588671875\" y=\"75.0\" dominant-baseline=\"middle\" text-anchor=\"middle\" font-size=\"14px\" font-family=\"Arial:style=normal:variant=normal:weight=normal:stretch=normal:size=10.0\">(0, 2): </text><rect x=\"10.0\" y=\"105.0\" width=\"49.517734375\" height=\"40\" stroke=\"black\" fill=\"white\" stroke-width=\"0\" /><text x=\"34.7588671875\" y=\"125.0\" dominant-baseline=\"middle\" text-anchor=\"middle\" font-size=\"14px\" font-family=\"Arial:style=normal:variant=normal:weight=normal:stretch=normal:size=10.0\">(1, 1): </text><rect x=\"10.0\" y=\"155.0\" width=\"49.517734375\" height=\"40\" stroke=\"black\" fill=\"white\" stroke-width=\"0\" /><text x=\"34.7588671875\" y=\"175.0\" dominant-baseline=\"middle\" text-anchor=\"middle\" font-size=\"14px\" font-family=\"Arial:style=normal:variant=normal:weight=normal:stretch=normal:size=10.0\">(1, 2): </text><rect x=\"10.0\" y=\"205.0\" width=\"49.517734375\" height=\"40\" stroke=\"black\" fill=\"white\" stroke-width=\"0\" /><text x=\"34.7588671875\" y=\"225.0\" dominant-baseline=\"middle\" text-anchor=\"middle\" font-size=\"14px\" font-family=\"Arial:style=normal:variant=normal:weight=normal:stretch=normal:size=10.0\">(1, 3): </text><rect x=\"10.0\" y=\"255.0\" width=\"49.517734375\" height=\"40\" stroke=\"black\" fill=\"white\" stroke-width=\"0\" /><text x=\"34.7588671875\" y=\"275.0\" dominant-baseline=\"middle\" text-anchor=\"middle\" font-size=\"14px\" font-family=\"Arial:style=normal:variant=normal:weight=normal:stretch=normal:size=10.0\">(2, 1): </text><rect x=\"10.0\" y=\"305.0\" width=\"49.517734375\" height=\"40\" stroke=\"black\" fill=\"white\" stroke-width=\"0\" /><text x=\"34.7588671875\" y=\"325.0\" dominant-baseline=\"middle\" text-anchor=\"middle\" font-size=\"14px\" font-family=\"Arial:style=normal:variant=normal:weight=normal:stretch=normal:size=10.0\">(2, 2): </text><rect x=\"10.0\" y=\"355.0\" width=\"49.517734375\" height=\"40\" stroke=\"black\" fill=\"white\" stroke-width=\"0\" /><text x=\"34.7588671875\" y=\"375.0\" dominant-baseline=\"middle\" text-anchor=\"middle\" font-size=\"14px\" font-family=\"Arial:style=normal:variant=normal:weight=normal:stretch=normal:size=10.0\">(3, 1): </text><rect x=\"10.0\" y=\"405.0\" width=\"49.517734375\" height=\"40\" stroke=\"black\" fill=\"white\" stroke-width=\"0\" /><text x=\"34.7588671875\" y=\"425.0\" dominant-baseline=\"middle\" text-anchor=\"middle\" font-size=\"14px\" font-family=\"Arial:style=normal:variant=normal:weight=normal:stretch=normal:size=10.0\">(3, 2): </text><rect x=\"79.517734375\" y=\"5.0\" width=\"40\" height=\"40\" stroke=\"black\" fill=\"white\" stroke-width=\"1\" /><text x=\"99.517734375\" y=\"25.0\" dominant-baseline=\"middle\" text-anchor=\"middle\" font-size=\"18px\" font-family=\"Arial:style=normal:variant=normal:weight=normal:stretch=normal:size=10.0\">X</text><rect x=\"79.517734375\" y=\"55.0\" width=\"40\" height=\"40\" stroke=\"black\" fill=\"white\" stroke-width=\"1\" /><text x=\"99.517734375\" y=\"75.0\" dominant-baseline=\"middle\" text-anchor=\"middle\" font-size=\"18px\" font-family=\"Arial:style=normal:variant=normal:weight=normal:stretch=normal:size=10.0\">X</text><rect x=\"79.517734375\" y=\"105.0\" width=\"40\" height=\"40\" stroke=\"black\" fill=\"white\" stroke-width=\"1\" /><text x=\"99.517734375\" y=\"125.0\" dominant-baseline=\"middle\" text-anchor=\"middle\" font-size=\"18px\" font-family=\"Arial:style=normal:variant=normal:weight=normal:stretch=normal:size=10.0\">X</text><rect x=\"79.517734375\" y=\"155.0\" width=\"40\" height=\"40\" stroke=\"black\" fill=\"white\" stroke-width=\"1\" /><text x=\"99.517734375\" y=\"175.0\" dominant-baseline=\"middle\" text-anchor=\"middle\" font-size=\"18px\" font-family=\"Arial:style=normal:variant=normal:weight=normal:stretch=normal:size=10.0\">X</text><rect x=\"79.517734375\" y=\"205.0\" width=\"40\" height=\"40\" stroke=\"black\" fill=\"white\" stroke-width=\"1\" /><text x=\"99.517734375\" y=\"225.0\" dominant-baseline=\"middle\" text-anchor=\"middle\" font-size=\"18px\" font-family=\"Arial:style=normal:variant=normal:weight=normal:stretch=normal:size=10.0\">X</text><rect x=\"79.517734375\" y=\"255.0\" width=\"40\" height=\"40\" stroke=\"black\" fill=\"white\" stroke-width=\"1\" /><text x=\"99.517734375\" y=\"275.0\" dominant-baseline=\"middle\" text-anchor=\"middle\" font-size=\"18px\" font-family=\"Arial:style=normal:variant=normal:weight=normal:stretch=normal:size=10.0\">X</text><rect x=\"79.517734375\" y=\"305.0\" width=\"40\" height=\"40\" stroke=\"black\" fill=\"white\" stroke-width=\"1\" /><text x=\"99.517734375\" y=\"325.0\" dominant-baseline=\"middle\" text-anchor=\"middle\" font-size=\"18px\" font-family=\"Arial:style=normal:variant=normal:weight=normal:stretch=normal:size=10.0\">X</text><rect x=\"79.517734375\" y=\"355.0\" width=\"40\" height=\"40\" stroke=\"black\" fill=\"white\" stroke-width=\"1\" /><text x=\"99.517734375\" y=\"375.0\" dominant-baseline=\"middle\" text-anchor=\"middle\" font-size=\"18px\" font-family=\"Arial:style=normal:variant=normal:weight=normal:stretch=normal:size=10.0\">X</text><rect x=\"79.517734375\" y=\"405.0\" width=\"40\" height=\"40\" stroke=\"black\" fill=\"white\" stroke-width=\"1\" /><text x=\"99.517734375\" y=\"425.0\" dominant-baseline=\"middle\" text-anchor=\"middle\" font-size=\"18px\" font-family=\"Arial:style=normal:variant=normal:weight=normal:stretch=normal:size=10.0\">X</text></svg>"
          },
          "metadata": {},
          "execution_count": 8
        }
      ]
    },
    {
      "cell_type": "code",
      "source": [
        "# تبدیل مدارهای Cirq به تنسورها\n",
        "x_train_tfcirc_clean = tfq.convert_to_tensor(x_train_circ_clean)  # تبدیل مدارهای آموزشی پاک به تنسور\n",
        "x_test_tfcirc_clean = tfq.convert_to_tensor(x_test_circ_clean)      # تبدیل مدارهای آزمایشی پاک به تنسور\n",
        "\n",
        "x_train_tfcirc_noisy = tfq.convert_to_tensor(x_train_circ_noisy)    # تبدیل مدارهای آموزشی نویزی به تنسور\n",
        "x_test_tfcirc_noisy = tfq.convert_to_tensor(x_test_circ_noisy)      # تبدیل مدارهای آزمایشی نویزی به تنسور"
      ],
      "metadata": {
        "id": "bLu3OeaeYqoe"
      },
      "execution_count": null,
      "outputs": []
    },
    {
      "cell_type": "code",
      "source": [
        "# توابعی برای ایجاد لایه‌های مدار کوانتومی\n",
        "class CircuitLayerBuilder():\n",
        "    def __init__(self, data_qubits, readout):\n",
        "        self.data_qubits = data_qubits  # کیوبیت‌های داده\n",
        "        self.readout = readout            # کیوبیت خواندن (readout)\n",
        "\n",
        "    def add_layer(self, circuit, gate, prefix):\n",
        "        # افزودن یک لایه به مدار\n",
        "        for i, qubit in enumerate(self.data_qubits):\n",
        "            symbol = sympy.Symbol(prefix + '-' + str(i))  # ایجاد نماد برای پارامتر گیت\n",
        "            circuit.append(gate(qubit, self.readout)**symbol)  # افزودن گیت به مدار با نماد"
      ],
      "metadata": {
        "id": "xjDDatVXZMym"
      },
      "execution_count": null,
      "outputs": []
    },
    {
      "cell_type": "code",
      "source": [
        "# نمونه‌ای از نحوه ایجاد مدار\n",
        "demo_builder = CircuitLayerBuilder(data_qubits=cirq.GridQubit.rect(4, 1),  # ایجاد کیوبیت‌های داده در یک شبکه 4x1\n",
        "                                   readout=cirq.GridQubit(-1, -1))       # ایجاد کیوبیت خواندن در مختصات (-1, -1)\n",
        "\n",
        "circuit = cirq.Circuit()  # ایجاد مدار کوانتومی جدید\n",
        "demo_builder.add_layer(circuit, gate=cirq.XX, prefix='xx')  # افزودن یک لایه با گیت XX به مدار\n",
        "SVGCircuit(circuit)  # نمایش مدار کوانتومی"
      ],
      "metadata": {
        "colab": {
          "base_uri": "https://localhost:8080/",
          "height": 497
        },
        "id": "Ku6qadowdP-o",
        "outputId": "1b1c51a6-51bb-498f-958b-67331b65fca1"
      },
      "execution_count": null,
      "outputs": [
        {
          "output_type": "stream",
          "name": "stderr",
          "text": [
            "WARNING:matplotlib.font_manager:findfont: Font family 'Arial' not found.\n",
            "WARNING:matplotlib.font_manager:findfont: Font family 'Arial' not found.\n",
            "WARNING:matplotlib.font_manager:findfont: Font family 'Arial' not found.\n",
            "WARNING:matplotlib.font_manager:findfont: Font family 'Arial' not found.\n",
            "WARNING:matplotlib.font_manager:findfont: Font family 'Arial' not found.\n",
            "WARNING:matplotlib.font_manager:findfont: Font family 'Arial' not found.\n",
            "WARNING:matplotlib.font_manager:findfont: Font family 'Arial' not found.\n",
            "WARNING:matplotlib.font_manager:findfont: Font family 'Arial' not found.\n",
            "WARNING:matplotlib.font_manager:findfont: Font family 'Arial' not found.\n",
            "WARNING:matplotlib.font_manager:findfont: Font family 'Arial' not found.\n",
            "WARNING:matplotlib.font_manager:findfont: Font family 'Arial' not found.\n",
            "WARNING:matplotlib.font_manager:findfont: Font family 'Arial' not found.\n",
            "WARNING:matplotlib.font_manager:findfont: Font family 'Arial' not found.\n"
          ]
        },
        {
          "output_type": "execute_result",
          "data": {
            "text/plain": [
              "<cirq.contrib.svg.svg.SVGCircuit at 0x7fa3c99dbe90>"
            ],
            "image/svg+xml": "<svg xmlns=\"http://www.w3.org/2000/svg\" width=\"522.59953125\" height=\"250.0\"><line x1=\"39.810625\" x2=\"492.59953125000004\" y1=\"25.0\" y2=\"25.0\" stroke=\"#1967d2\" stroke-width=\"1\" /><line x1=\"39.810625\" x2=\"492.59953125000004\" y1=\"75.0\" y2=\"75.0\" stroke=\"#1967d2\" stroke-width=\"1\" /><line x1=\"39.810625\" x2=\"492.59953125000004\" y1=\"125.0\" y2=\"125.0\" stroke=\"#1967d2\" stroke-width=\"1\" /><line x1=\"39.810625\" x2=\"492.59953125000004\" y1=\"175.0\" y2=\"175.0\" stroke=\"#1967d2\" stroke-width=\"1\" /><line x1=\"39.810625\" x2=\"492.59953125000004\" y1=\"225.0\" y2=\"225.0\" stroke=\"#1967d2\" stroke-width=\"1\" /><line x1=\"129.99353515625\" x2=\"129.99353515625\" y1=\"25.0\" y2=\"75.0\" stroke=\"black\" stroke-width=\"3\" /><line x1=\"230.73810546875004\" x2=\"230.73810546875004\" y1=\"25.0\" y2=\"125.0\" stroke=\"black\" stroke-width=\"3\" /><line x1=\"331.48267578125007\" x2=\"331.48267578125007\" y1=\"25.0\" y2=\"175.0\" stroke=\"black\" stroke-width=\"3\" /><line x1=\"432.22724609375007\" x2=\"432.22724609375007\" y1=\"25.0\" y2=\"225.0\" stroke=\"black\" stroke-width=\"3\" /><rect x=\"10.0\" y=\"5.0\" width=\"59.62125\" height=\"40\" stroke=\"black\" fill=\"white\" stroke-width=\"0\" /><text x=\"39.810625\" y=\"25.0\" dominant-baseline=\"middle\" text-anchor=\"middle\" font-size=\"14px\" font-family=\"Arial:style=normal:variant=normal:weight=normal:stretch=normal:size=10.0\">(-1, -1): </text><rect x=\"10.0\" y=\"55.0\" width=\"59.62125\" height=\"40\" stroke=\"black\" fill=\"white\" stroke-width=\"0\" /><text x=\"39.810625\" y=\"75.0\" dominant-baseline=\"middle\" text-anchor=\"middle\" font-size=\"14px\" font-family=\"Arial:style=normal:variant=normal:weight=normal:stretch=normal:size=10.0\">(0, 0): </text><rect x=\"10.0\" y=\"105.0\" width=\"59.62125\" height=\"40\" stroke=\"black\" fill=\"white\" stroke-width=\"0\" /><text x=\"39.810625\" y=\"125.0\" dominant-baseline=\"middle\" text-anchor=\"middle\" font-size=\"14px\" font-family=\"Arial:style=normal:variant=normal:weight=normal:stretch=normal:size=10.0\">(1, 0): </text><rect x=\"10.0\" y=\"155.0\" width=\"59.62125\" height=\"40\" stroke=\"black\" fill=\"white\" stroke-width=\"0\" /><text x=\"39.810625\" y=\"175.0\" dominant-baseline=\"middle\" text-anchor=\"middle\" font-size=\"14px\" font-family=\"Arial:style=normal:variant=normal:weight=normal:stretch=normal:size=10.0\">(2, 0): </text><rect x=\"10.0\" y=\"205.0\" width=\"59.62125\" height=\"40\" stroke=\"black\" fill=\"white\" stroke-width=\"0\" /><text x=\"39.810625\" y=\"225.0\" dominant-baseline=\"middle\" text-anchor=\"middle\" font-size=\"14px\" font-family=\"Arial:style=normal:variant=normal:weight=normal:stretch=normal:size=10.0\">(3, 0): </text><rect x=\"89.62125\" y=\"55.0\" width=\"80.74457031250002\" height=\"40\" stroke=\"black\" fill=\"white\" stroke-width=\"1\" /><text x=\"129.99353515625\" y=\"75.0\" dominant-baseline=\"middle\" text-anchor=\"middle\" font-size=\"14px\" font-family=\"Arial:style=normal:variant=normal:weight=normal:stretch=normal:size=10.0\">XX^(xx-0)</text><rect x=\"89.62125\" y=\"5.0\" width=\"80.74457031250002\" height=\"40\" stroke=\"black\" fill=\"white\" stroke-width=\"1\" /><text x=\"129.99353515625\" y=\"25.0\" dominant-baseline=\"middle\" text-anchor=\"middle\" font-size=\"14px\" font-family=\"Arial:style=normal:variant=normal:weight=normal:stretch=normal:size=10.0\">XX</text><rect x=\"190.36582031250003\" y=\"105.0\" width=\"80.74457031250002\" height=\"40\" stroke=\"black\" fill=\"white\" stroke-width=\"1\" /><text x=\"230.73810546875004\" y=\"125.0\" dominant-baseline=\"middle\" text-anchor=\"middle\" font-size=\"14px\" font-family=\"Arial:style=normal:variant=normal:weight=normal:stretch=normal:size=10.0\">XX^(xx-1)</text><rect x=\"190.36582031250003\" y=\"5.0\" width=\"80.74457031250002\" height=\"40\" stroke=\"black\" fill=\"white\" stroke-width=\"1\" /><text x=\"230.73810546875004\" y=\"25.0\" dominant-baseline=\"middle\" text-anchor=\"middle\" font-size=\"14px\" font-family=\"Arial:style=normal:variant=normal:weight=normal:stretch=normal:size=10.0\">XX</text><rect x=\"291.11039062500004\" y=\"155.0\" width=\"80.74457031250002\" height=\"40\" stroke=\"black\" fill=\"white\" stroke-width=\"1\" /><text x=\"331.48267578125007\" y=\"175.0\" dominant-baseline=\"middle\" text-anchor=\"middle\" font-size=\"14px\" font-family=\"Arial:style=normal:variant=normal:weight=normal:stretch=normal:size=10.0\">XX^(xx-2)</text><rect x=\"291.11039062500004\" y=\"5.0\" width=\"80.74457031250002\" height=\"40\" stroke=\"black\" fill=\"white\" stroke-width=\"1\" /><text x=\"331.48267578125007\" y=\"25.0\" dominant-baseline=\"middle\" text-anchor=\"middle\" font-size=\"14px\" font-family=\"Arial:style=normal:variant=normal:weight=normal:stretch=normal:size=10.0\">XX</text><rect x=\"391.85496093750004\" y=\"205.0\" width=\"80.74457031250002\" height=\"40\" stroke=\"black\" fill=\"white\" stroke-width=\"1\" /><text x=\"432.22724609375007\" y=\"225.0\" dominant-baseline=\"middle\" text-anchor=\"middle\" font-size=\"14px\" font-family=\"Arial:style=normal:variant=normal:weight=normal:stretch=normal:size=10.0\">XX^(xx-3)</text><rect x=\"391.85496093750004\" y=\"5.0\" width=\"80.74457031250002\" height=\"40\" stroke=\"black\" fill=\"white\" stroke-width=\"1\" /><text x=\"432.22724609375007\" y=\"25.0\" dominant-baseline=\"middle\" text-anchor=\"middle\" font-size=\"14px\" font-family=\"Arial:style=normal:variant=normal:weight=normal:stretch=normal:size=10.0\">XX</text></svg>"
          },
          "metadata": {},
          "execution_count": 11
        }
      ]
    },
    {
      "cell_type": "code",
      "source": [
        "# ایجاد مدار مدل QCNN و عملیات خواندن\n",
        "def create_quantum_model():\n",
        "    data_qubits = cirq.GridQubit.rect(4, 4)  # ایجاد کیوبیت‌های داده در یک شبکه 4x4\n",
        "    readout = cirq.GridQubit(-1, -1)         # ایجاد یک کیوبیت خواندن در مختصات [-1,-1]\n",
        "    circuit = cirq.Circuit()                  # ایجاد مدار کوانتومی جدید\n",
        "\n",
        "    # آماده‌سازی کیوبیت خواندن\n",
        "    circuit.append(cirq.X(readout))           # اعمال گیت X بر روی کیوبیت خواندن\n",
        "    circuit.append(cirq.H(readout))           # اعمال گیت هادامارد بر روی کیوبیت خواندن\n",
        "\n",
        "    builder = CircuitLayerBuilder(\n",
        "        data_qubits=data_qubits,              # ارسال کیوبیت‌های داده به سازنده\n",
        "        readout=readout                        # ارسال کیوبیت خواندن به سازنده\n",
        "    )\n",
        "\n",
        "    # لایه اول، درهم‌تنیدگی\n",
        "    builder.add_layer(circuit, cirq.XX, \"xx1\")  # افزودن لایه با گیت XX\n",
        "    builder.add_layer(circuit, cirq.ZZ, \"zz1\")  # افزودن لایه با گیت ZZ\n",
        "\n",
        "    # لایه دوم، گیت‌های کوانتومی پارامتری\n",
        "    for q in data_qubits:\n",
        "        theta = sympy.Symbol(f\"theta_{q.row}_{q.col}\", regularizer=regularizers.l2(0.01))  # پارامتر برای چرخش حول محور y\n",
        "        phi = sympy.Symbol(f\"phi_{q.row}_{q.col}\", regularizer=regularizers.l2(0.01))      # پارامتر برای چرخش حول محور z\n",
        "        circuit.append(cirq.ry(theta)(q))  # افزودن گیت چرخش حول محور y با پارامتر theta\n",
        "        circuit.append(cirq.rz(phi)(q))    # افزودن گیت چرخش حول محور z با پارامتر phi\n",
        "\n",
        "    # در نهایت، آماده‌سازی کیوبیت خواندن\n",
        "    circuit.append(cirq.H(readout))  # اعمال گیت هادامارد مجدداً بر روی کیوبیت خواندن\n",
        "\n",
        "    return circuit, cirq.Z(readout)  # بازگشت مدار و عملیات خواندن\n",
        "\n",
        "# اجرای تابع\n",
        "model_circuit, model_readout = create_quantum_model()  # ایجاد مدار و عملیات خواندن"
      ],
      "metadata": {
        "id": "J8o6-oPAZbnM"
      },
      "execution_count": null,
      "outputs": []
    },
    {
      "cell_type": "code",
      "source": [
        "# ساخت مدل پاک\n",
        "clean_model = tf.keras.Sequential([\n",
        "    # ورودی داده‌ها که به عنوان یک رشته tf.string رمزگذاری شده است\n",
        "    tf.keras.layers.Input(shape=(), dtype=tf.string),\n",
        "    # لایه PQC انتظار مقدار گیت خواندن را باز می‌گرداند، در بازه [-1, 1].\n",
        "    tfq.layers.PQC(model_circuit, model_readout),\n",
        "])"
      ],
      "metadata": {
        "id": "EgJRY7OwZtGZ"
      },
      "execution_count": null,
      "outputs": []
    },
    {
      "cell_type": "code",
      "source": [
        "# کامپایل مدل پاک و چاپ خلاصه آن\n",
        "\n",
        "clean_model.compile(\n",
        "    loss=tf.keras.losses.BinaryCrossentropy(from_logits=True),  # تعیین تابع ضرر به عنوان تقاطع باینری\n",
        "    optimizer=tf.keras.optimizers.Adam(),                        # استفاده از بهینه‌ساز آدام\n",
        "    metrics=[tf.keras.metrics.BinaryAccuracy(threshold=0.0)]    # تعیین معیار دقت باینری با آستانه 0.0\n",
        ")\n",
        "\n",
        "print(clean_model.summary())  # چاپ خلاصه مدل شامل تعداد لایه‌ها و پارامترها"
      ],
      "metadata": {
        "colab": {
          "base_uri": "https://localhost:8080/"
        },
        "id": "LD8ifS0Ca291",
        "outputId": "5094b109-32a9-446c-cd55-58147fc265a0"
      },
      "execution_count": null,
      "outputs": [
        {
          "output_type": "stream",
          "name": "stdout",
          "text": [
            "Model: \"sequential\"\n",
            "_________________________________________________________________\n",
            " Layer (type)                Output Shape              Param #   \n",
            "=================================================================\n",
            " pqc (PQC)                   (None, 1)                 64        \n",
            "                                                                 \n",
            "=================================================================\n",
            "Total params: 64 (256.00 Byte)\n",
            "Trainable params: 64 (256.00 Byte)\n",
            "Non-trainable params: 0 (0.00 Byte)\n",
            "_________________________________________________________________\n",
            "None\n"
          ]
        }
      ]
    },
    {
      "cell_type": "code",
      "source": [
        "# آموزش مدل پاک با داده‌های پاک\n",
        "history_clean = clean_model.fit(\n",
        "    x_train_tfcirc_clean, train_labels,  # داده‌های آموزشی و برچسب‌ها\n",
        "    batch_size=128,                       # اندازه دسته برای آموزش\n",
        "    epochs=10,                            # تعداد دوره‌های آموزش\n",
        "    verbose=1,                            # نمایش پیشرفت در حین آموزش\n",
        "    validation_data=(x_test_tfcirc_clean, test_labels)  # داده‌های اعتبارسنجی\n",
        ")\n",
        "\n",
        "# ارزیابی مدل روی داده‌های آزمایشی\n",
        "test_loss_clean, test_acc_clean = clean_model.evaluate(x_test_tfcirc_clean, test_labels, verbose=2)\n",
        "\n",
        "# چاپ دقت و ضرر آزمون\n",
        "print(f\"Clean Data - Test Accuracy: {test_acc_clean:.4f}, Test Loss: {test_loss_clean:.4f}\")\n",
        "print(f\"Clean Data - Training Accuracy: {history_clean.history['binary_accuracy'][-1]:.4f}\")"
      ],
      "metadata": {
        "colab": {
          "base_uri": "https://localhost:8080/"
        },
        "id": "0x6rjI83cTaA",
        "outputId": "a14b736f-f1b7-4591-e6ab-ab381dc4ed83"
      },
      "execution_count": null,
      "outputs": [
        {
          "output_type": "stream",
          "name": "stdout",
          "text": [
            "Epoch 1/10\n",
            "94/94 [==============================] - 1325s 14s/step - loss: 0.6874 - binary_accuracy: 0.5692 - val_loss: 0.6767 - val_binary_accuracy: 0.6335\n",
            "Epoch 2/10\n",
            "94/94 [==============================] - 1121s 12s/step - loss: 0.6486 - binary_accuracy: 0.6557 - val_loss: 0.6303 - val_binary_accuracy: 0.6680\n",
            "Epoch 3/10\n",
            "94/94 [==============================] - 903s 10s/step - loss: 0.6047 - binary_accuracy: 0.6977 - val_loss: 0.5992 - val_binary_accuracy: 0.6870\n",
            "Epoch 4/10\n",
            "94/94 [==============================] - 905s 10s/step - loss: 0.5768 - binary_accuracy: 0.7176 - val_loss: 0.5830 - val_binary_accuracy: 0.6900\n",
            "Epoch 5/10\n",
            "94/94 [==============================] - 921s 10s/step - loss: 0.5664 - binary_accuracy: 0.7212 - val_loss: 0.5794 - val_binary_accuracy: 0.6925\n",
            "Epoch 6/10\n",
            "94/94 [==============================] - 913s 10s/step - loss: 0.5633 - binary_accuracy: 0.7246 - val_loss: 0.5807 - val_binary_accuracy: 0.6985\n",
            "Epoch 7/10\n",
            "94/94 [==============================] - 906s 10s/step - loss: 0.5623 - binary_accuracy: 0.7253 - val_loss: 0.5775 - val_binary_accuracy: 0.7030\n",
            "Epoch 8/10\n",
            "94/94 [==============================] - 904s 10s/step - loss: 0.5618 - binary_accuracy: 0.7278 - val_loss: 0.5783 - val_binary_accuracy: 0.7010\n",
            "Epoch 9/10\n",
            "94/94 [==============================] - 903s 10s/step - loss: 0.5613 - binary_accuracy: 0.7287 - val_loss: 0.5771 - val_binary_accuracy: 0.6990\n",
            "Epoch 10/10\n",
            "94/94 [==============================] - 929s 10s/step - loss: 0.5608 - binary_accuracy: 0.7288 - val_loss: 0.5765 - val_binary_accuracy: 0.6995\n",
            "63/63 - 18s - loss: 0.5765 - binary_accuracy: 0.6995 - 18s/epoch - 292ms/step\n",
            "Clean Data - Test Accuracy: 0.6995, Test Loss: 0.5765\n",
            "Clean Data - Training Accuracy: 0.7288\n"
          ]
        }
      ]
    },
    {
      "cell_type": "code",
      "source": [
        "# تابعی برای رسم معیارها\n",
        "def plot_metrics(history, metric_name, title, ylim=1, xlim=10):\n",
        "    plt.title(title)  # تنظیم عنوان نمودار\n",
        "    plt.ylim(0, ylim)  # تنظیم محدوده محور y\n",
        "    plt.xlim(0, xlim)  # تنظیم محدوده محور x\n",
        "    plt.plot(history.history[metric_name], color='blue', label='Train')  # رسم دقت آموزش\n",
        "    plt.plot(history.history['val_' + metric_name], color='green', label='Validation')  # رسم دقت اعتبارسنجی\n",
        "    plt.legend(loc='lower right')  # قرار دادن لژیند در گوشه پایین راست\n",
        "    plt.xlabel(\"Epoch\")  # برچسب محور x\n",
        "    plt.ylabel(\"Accuracy\")  # برچسب محور y\n",
        "\n",
        "# فراخوانی تابع برای رسم دقت مدل پاک\n",
        "plot_metrics(history_clean, 'binary_accuracy', 'QCNN Accuracy on Clean Data - 4x4 Binary Images')"
      ],
      "metadata": {
        "id": "0UCSrmvcc51-",
        "colab": {
          "base_uri": "https://localhost:8080/",
          "height": 472
        },
        "outputId": "fca4115a-c605-4554-9a1a-679c718a856d"
      },
      "execution_count": null,
      "outputs": [
        {
          "output_type": "display_data",
          "data": {
            "text/plain": [
              "<Figure size 640x480 with 1 Axes>"
            ],
            "image/png": "[encoded data removed]"
          },
          "metadata": {}
        }
      ]
    },
    {
      "cell_type": "code",
      "source": [
        "# ساخت مدل نویز\n",
        "noisy_model = tf.keras.Sequential([\n",
        "    tf.keras.layers.Input(shape=(), dtype=tf.string),  # ورودی داده‌ها به عنوان یک رشته tf.string\n",
        "    # لایه PQC انتظار مقدار گیت خواندن را باز می‌گرداند، در بازه [-1, 1].\n",
        "    tfq.layers.PQC(model_circuit, model_readout),\n",
        "])\n",
        "\n",
        "# کامپایل مدل نویزی\n",
        "noisy_model.compile(\n",
        "    loss=tf.keras.losses.BinaryCrossentropy(from_logits=True),  # تعیین تابع ضرر به عنوان تقاطع باینری\n",
        "    optimizer=tf.keras.optimizers.Adam(),                        # استفاده از بهینه‌ساز آدام\n",
        "    metrics=[tf.keras.metrics.BinaryAccuracy(threshold=0.0)]    # تعیین معیار دقت باینری با آستانه 0.0\n",
        ")\n",
        "\n",
        "print(noisy_model.summary())  # چاپ خلاصه مدل شامل تعداد لایه‌ها و پارامترها"
      ],
      "metadata": {
        "id": "U3Ojahsw3-BZ",
        "colab": {
          "base_uri": "https://localhost:8080/"
        },
        "outputId": "982b2f70-d44f-434c-aebf-bc78b62fbfe2"
      },
      "execution_count": null,
      "outputs": [
        {
          "output_type": "stream",
          "name": "stdout",
          "text": [
            "Model: \"sequential_1\"\n",
            "_________________________________________________________________\n",
            " Layer (type)                Output Shape              Param #   \n",
            "=================================================================\n",
            " pqc_1 (PQC)                 (None, 1)                 64        \n",
            "                                                                 \n",
            "=================================================================\n",
            "Total params: 64 (256.00 Byte)\n",
            "Trainable params: 64 (256.00 Byte)\n",
            "Non-trainable params: 0 (0.00 Byte)\n",
            "_________________________________________________________________\n",
            "None\n"
          ]
        },
        {
          "output_type": "stream",
          "name": "stderr",
          "text": [
            "/usr/local/lib/python3.11/dist-packages/keras/src/initializers/initializers.py:120: UserWarning: The initializer RandomUniform is unseeded and being called multiple times, which will return identical values each time (even if the initializer is unseeded). Please update your code to provide a seed to the initializer, or avoid using the same initializer instance more than once.\n",
            "  warnings.warn(\n"
          ]
        }
      ]
    },
    {
      "cell_type": "code",
      "source": [
        "# آموزش مدل نویزی با داده‌های نویزی\n",
        "history_noisy = noisy_model.fit(\n",
        "    x_train_tfcirc_noisy, train_labels,  # داده‌های آموزشی و برچسب‌ها\n",
        "    batch_size=128,                       # اندازه دسته برای آموزش\n",
        "    epochs=10,                            # تعداد دوره‌های آموزش\n",
        "    verbose=1,                            # نمایش پیشرفت در حین آموزش\n",
        "    validation_data=(x_test_tfcirc_noisy, test_labels)  # داده‌های اعتبارسنجی\n",
        ")\n",
        "\n",
        "# ارزیابی مدل روی داده‌های آزمایشی\n",
        "test_loss_noisy, test_acc_noisy = noisy_model.evaluate(x_test_tfcirc_noisy, test_labels, verbose=2)\n",
        "\n",
        "# چاپ دقت  آزمون\n",
        "print(f\"Noisy Data - Test Accuracy: {test_acc_noisy:.4f}, Test Loss: {test_loss_noisy:.4f}\")\n",
        "print(f\"Noisy Data - Training Accuracy: {history_noisy.history['binary_accuracy'][-1]:.4f}\")"
      ],
      "metadata": {
        "colab": {
          "base_uri": "https://localhost:8080/"
        },
        "id": "imbLzCs5aJvd",
        "outputId": "0af4e145-1b47-49a8-e5d5-3e405db40029"
      },
      "execution_count": null,
      "outputs": [
        {
          "output_type": "stream",
          "name": "stdout",
          "text": [
            "Epoch 1/10\n",
            "94/94 [==============================] - 929s 10s/step - loss: 0.6928 - binary_accuracy: 0.5108 - val_loss: 0.6931 - val_binary_accuracy: 0.5065\n",
            "Epoch 2/10\n",
            "94/94 [==============================] - 923s 10s/step - loss: 0.6925 - binary_accuracy: 0.5207 - val_loss: 0.6931 - val_binary_accuracy: 0.5185\n",
            "Epoch 3/10\n",
            "94/94 [==============================] - 907s 10s/step - loss: 0.6920 - binary_accuracy: 0.5312 - val_loss: 0.6928 - val_binary_accuracy: 0.5120\n",
            "Epoch 4/10\n",
            "94/94 [==============================] - 906s 10s/step - loss: 0.6907 - binary_accuracy: 0.5371 - val_loss: 0.6906 - val_binary_accuracy: 0.5370\n",
            "Epoch 5/10\n",
            "94/94 [==============================] - 924s 10s/step - loss: 0.6836 - binary_accuracy: 0.5636 - val_loss: 0.6765 - val_binary_accuracy: 0.5870\n",
            "Epoch 6/10\n",
            "94/94 [==============================] - 917s 10s/step - loss: 0.6561 - binary_accuracy: 0.6225 - val_loss: 0.6474 - val_binary_accuracy: 0.6285\n",
            "Epoch 7/10\n",
            "94/94 [==============================] - 910s 10s/step - loss: 0.6337 - binary_accuracy: 0.6543 - val_loss: 0.6343 - val_binary_accuracy: 0.6470\n",
            "Epoch 8/10\n",
            "94/94 [==============================] - 894s 10s/step - loss: 0.6248 - binary_accuracy: 0.6658 - val_loss: 0.6291 - val_binary_accuracy: 0.6530\n",
            "Epoch 9/10\n",
            "94/94 [==============================] - 895s 10s/step - loss: 0.6218 - binary_accuracy: 0.6656 - val_loss: 0.6272 - val_binary_accuracy: 0.6585\n",
            "Epoch 10/10\n",
            "94/94 [==============================] - 882s 9s/step - loss: 0.6206 - binary_accuracy: 0.6677 - val_loss: 0.6265 - val_binary_accuracy: 0.6575\n",
            "63/63 - 19s - loss: 0.6265 - binary_accuracy: 0.6575 - 19s/epoch - 303ms/step\n",
            "Noisy Data - Test Accuracy: 0.6575, Test Loss: 0.6265\n",
            "Noisy Data - Training Accuracy: 0.6677\n"
          ]
        }
      ]
    },
    {
      "cell_type": "code",
      "source": [
        "plot_metrics(history_noisy, 'binary_accuracy', 'QCNN Accuracy on Noisy Data - 4x4 Binary Images')"
      ],
      "metadata": {
        "id": "eentFN77dTUk",
        "colab": {
          "base_uri": "https://localhost:8080/",
          "height": 472
        },
        "outputId": "cf97c33c-8ce7-4720-b32d-946270f203bc"
      },
      "execution_count": null,
      "outputs": [
        {
          "output_type": "display_data",
          "data": {
            "text/plain": [
              "<Figure size 640x480 with 1 Axes>"
            ],
            "image/png": "[encoded data removed]"
          },
          "metadata": {}
        }
      ]
    },
    {
      "cell_type": "code",
      "source": [
        "# مقایسه سایر معیارهای عملکرد\n",
        "y_true = test_labels  # برچسب‌های واقعی داده‌های آزمایشی\n",
        "\n",
        "# پیش‌بینی‌های مدل پاک\n",
        "y_pred_clean_bin = clean_model.predict(x_test_tfcirc_clean)  # پیش‌بینی بر اساس مدل پاک\n",
        "y_pred_clean_bin = (y_pred_clean_bin > 0.5).astype(int)  # تبدیل احتمال‌ها به کلاس‌های باینری\n",
        "\n",
        "# پیش‌بینی‌های مدل نویزی\n",
        "y_pred_noisy_bin = noisy_model.predict(x_test_tfcirc_noisy)  # پیش‌بینی بر اساس مدل نویزی\n",
        "y_pred_noisy_bin = (y_pred_noisy_bin > 0.5).astype(int)  # تبدیل احتمال‌ها به کلاس‌های باینری"
      ],
      "metadata": {
        "id": "WoYWrKc2feia",
        "colab": {
          "base_uri": "https://localhost:8080/"
        },
        "outputId": "5e229d39-2943-4b36-ec6a-eebc0efd2a03"
      },
      "execution_count": null,
      "outputs": [
        {
          "output_type": "stream",
          "name": "stdout",
          "text": [
            "63/63 [==============================] - 20s 312ms/step\n",
            "63/63 [==============================] - 18s 291ms/step\n"
          ]
        }
      ]
    },
    {
      "cell_type": "code",
      "source": [
        "from sklearn.metrics import accuracy_score, precision_score, recall_score, f1_score  # وارد کردن متریک‌های مورد نیاز\n",
        "\n",
        "# محاسبه معیارهای مدل پاک\n",
        "accuracy_clean_bin = accuracy_score(y_true, y_pred_clean_bin)  # دقت\n",
        "precision_clean_bin = precision_score(y_true, y_pred_clean_bin, average='weighted')  # دقت مثبت\n",
        "recall_clean_bin = recall_score(y_true, y_pred_clean_bin, average='weighted')  # یادآوری\n",
        "f1_clean_bin = f1_score(y_true, y_pred_clean_bin, average='weighted')  # امتیاز F1\n",
        "\n",
        "# چاپ معیارهای داده‌های پاک\n",
        "print(\"\\nClean Data Metrics:\")\n",
        "print(f\"Accuracy: {accuracy_clean_bin:.4f}\")  # چاپ دقت\n",
        "print(f\"Precision: {precision_clean_bin:.4f}\")  # چاپ دقت مثبت\n",
        "print(f\"Recall: {recall_clean_bin:.4f}\")  # چاپ یادآوری\n",
        "print(f\"F1 Score: {f1_clean_bin:.4f}\")  # چاپ امتیاز F1"
      ],
      "metadata": {
        "id": "bUEv95P2fhjJ",
        "colab": {
          "base_uri": "https://localhost:8080/"
        },
        "outputId": "a65af6aa-fff8-4e6e-e0bd-6d21ccc8ea05"
      },
      "execution_count": null,
      "outputs": [
        {
          "output_type": "stream",
          "name": "stdout",
          "text": [
            "\n",
            "Clean Data Metrics:\n",
            "Accuracy: 0.6565\n",
            "Precision: 0.7600\n",
            "Recall: 0.6565\n",
            "F1 Score: 0.6185\n"
          ]
        }
      ]
    },
    {
      "cell_type": "code",
      "source": [
        "# محاسبه معیارهای مدل نویزی\n",
        "accuracy_noisy_bin = accuracy_score(y_true, y_pred_noisy_bin)  # دقت\n",
        "precision_noisy_bin = precision_score(y_true, y_pred_noisy_bin, average='weighted')  # دقت مثبت\n",
        "recall_noisy_bin = recall_score(y_true, y_pred_noisy_bin, average='weighted')  # یادآوری\n",
        "f1_noisy_bin = f1_score(y_true, y_pred_noisy_bin, average='weighted')  # امتیاز F1\n",
        "\n",
        "# چاپ معیارهای داده‌های نویزی\n",
        "print(\"\\nNoisy Data Metrics:\")\n",
        "print(f\"Accuracy: {accuracy_noisy_bin:.4f}\")  # چاپ دقت\n",
        "print(f\"Precision: {precision_noisy_bin:.4f}\")  # چاپ دقت مثبت\n",
        "print(f\"Recall: {recall_noisy_bin:.4f}\")  # چاپ یادآوری\n",
        "print(f\"F1 Score: {f1_noisy_bin:.4f}\")  # چاپ امتیاز F1"
      ],
      "metadata": {
        "id": "GeX35Nnqfk3I",
        "colab": {
          "base_uri": "https://localhost:8080/"
        },
        "outputId": "f133f5b7-f828-4a1a-d574-ff1b5f2ce59e"
      },
      "execution_count": null,
      "outputs": [
        {
          "output_type": "stream",
          "name": "stdout",
          "text": [
            "\n",
            "Noisy Data Metrics:\n",
            "Accuracy: 0.6265\n",
            "Precision: 0.6425\n",
            "Recall: 0.6265\n",
            "F1 Score: 0.6157\n"
          ]
        }
      ]
    },
    {
      "cell_type": "code",
      "source": [
        "import numpy as np\n",
        "import matplotlib.pyplot as plt  # اطمینان از اینکه matplotlib برای رسم نمودارها وارد شده است\n",
        "\n",
        "# تعریف معیارها و مقادیر\n",
        "metrics = ['Accuracy', 'Precision', 'Recall', 'F1 Score']  # نام معیارها\n",
        "clean_values = [accuracy_clean_bin, precision_clean_bin, recall_clean_bin, f1_clean_bin]  # مقادیر مدل پاک\n",
        "noisy_values = [accuracy_noisy_bin, precision_noisy_bin, recall_noisy_bin, f1_noisy_bin]  # مقادیر مدل نویزی\n",
        "\n",
        "# موقعیت برچسب‌ها\n",
        "x = np.arange(len(metrics))  # موقعیت برچسب‌ها\n",
        "width = 0.35  # عرض میله‌ها\n",
        "\n",
        "# ایجاد نمودار\n",
        "fig, ax = plt.subplots(figsize=(10, 6))  # سایز نمودار\n",
        "rects1 = ax.bar(x - width/2, clean_values, width, label='Clean Model')  # میله‌های مدل پاک\n",
        "rects2 = ax.bar(x + width/2, noisy_values, width, label='Noisy Model')  # میله‌های مدل نویزی\n",
        "\n",
        "# تنظیمات محورهای نمودار\n",
        "ax.set_xlabel('Metrics')  # برچسب محور x\n",
        "ax.set_ylabel('Scores')  # برچسب محور y\n",
        "ax.set_title('Comparison of QCNN Clean and Noisy Model Performance - Binary Images')  # عنوان نمودار\n",
        "ax.set_xticks(x)  # تنظیمات برچسب‌های محور x\n",
        "ax.set_xticklabels(metrics)  # برچسب‌های معیارها\n",
        "ax.legend()  # نمایش لژیند\n",
        "ax.set_ylim(0, 1)  # محدوده ثابت محور y از 0 تا 1\n",
        "\n",
        "# تنظیمات نهایی و نمایش نمودار\n",
        "plt.tight_layout()\n",
        "plt.show()"
      ],
      "metadata": {
        "id": "pW03UeXBfnjV",
        "colab": {
          "base_uri": "https://localhost:8080/",
          "height": 607
        },
        "outputId": "0004afc0-ab4a-47c5-fcfe-b40f10429414"
      },
      "execution_count": null,
      "outputs": [
        {
          "output_type": "display_data",
          "data": {
            "text/plain": [
              "<Figure size 1000x600 with 1 Axes>"
            ],
            "image/png": "[encoded data removed]"
          },
          "metadata": {}
        }
      ]
    },
    {
      "cell_type": "markdown",
      "source": [
        "In the bar plot above it is evident that this QCNN model had a higher robustness to noise compared to some classical CNNs"
      ],
      "metadata": {
        "id": "kO4fGPnNfRNs"
      }
    }
  ],
  "metadata": {
    "accelerator": "GPU",
    "colab": {
      "gpuType": "T4",
      "provenance": []
    },
    "kernelspec": {
      "display_name": "Python 3",
      "name": "python3"
    },
    "language_info": {
      "name": "python"
    }
  },
  "nbformat": 4,
  "nbformat_minor": 0
}