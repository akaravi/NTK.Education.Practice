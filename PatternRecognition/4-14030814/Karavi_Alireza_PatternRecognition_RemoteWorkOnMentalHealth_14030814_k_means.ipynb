{
  "nbformat": 4,
  "nbformat_minor": 0,
  "metadata": {
    "colab": {
      "provenance": []
    },
    "kernelspec": {
      "name": "python3",
      "display_name": "Python 3"
    },
    "language_info": {
      "name": "python"
    }
  },
  "cells": [
    {
      "cell_type": "code",
      "source": [
        "# نصب کتابخانه‌های لازم\n",
        "!pip install matplotlib seaborn"
      ],
      "metadata": {
        "colab": {
          "base_uri": "https://localhost:8080/"
        },
        "id": "aT_AH5fgEITS",
        "outputId": "390ee873-8c15-498f-89d5-289b3b53a2db"
      },
      "execution_count": 88,
      "outputs": [
        {
          "output_type": "stream",
          "name": "stdout",
          "text": [
            "Requirement already satisfied: matplotlib in /usr/local/lib/python3.10/dist-packages (3.8.0)\n",
            "Requirement already satisfied: seaborn in /usr/local/lib/python3.10/dist-packages (0.13.2)\n",
            "Requirement already satisfied: contourpy>=1.0.1 in /usr/local/lib/python3.10/dist-packages (from matplotlib) (1.3.0)\n",
            "Requirement already satisfied: cycler>=0.10 in /usr/local/lib/python3.10/dist-packages (from matplotlib) (0.12.1)\n",
            "Requirement already satisfied: fonttools>=4.22.0 in /usr/local/lib/python3.10/dist-packages (from matplotlib) (4.54.1)\n",
            "Requirement already satisfied: kiwisolver>=1.0.1 in /usr/local/lib/python3.10/dist-packages (from matplotlib) (1.4.7)\n",
            "Requirement already satisfied: numpy<2,>=1.21 in /usr/local/lib/python3.10/dist-packages (from matplotlib) (1.26.4)\n",
            "Requirement already satisfied: packaging>=20.0 in /usr/local/lib/python3.10/dist-packages (from matplotlib) (24.1)\n",
            "Requirement already satisfied: pillow>=6.2.0 in /usr/local/lib/python3.10/dist-packages (from matplotlib) (10.4.0)\n",
            "Requirement already satisfied: pyparsing>=2.3.1 in /usr/local/lib/python3.10/dist-packages (from matplotlib) (3.2.0)\n",
            "Requirement already satisfied: python-dateutil>=2.7 in /usr/local/lib/python3.10/dist-packages (from matplotlib) (2.8.2)\n",
            "Requirement already satisfied: pandas>=1.2 in /usr/local/lib/python3.10/dist-packages (from seaborn) (2.2.2)\n",
            "Requirement already satisfied: pytz>=2020.1 in /usr/local/lib/python3.10/dist-packages (from pandas>=1.2->seaborn) (2024.2)\n",
            "Requirement already satisfied: tzdata>=2022.7 in /usr/local/lib/python3.10/dist-packages (from pandas>=1.2->seaborn) (2024.2)\n",
            "Requirement already satisfied: six>=1.5 in /usr/local/lib/python3.10/dist-packages (from python-dateutil>=2.7->matplotlib) (1.16.0)\n"
          ]
        }
      ]
    },
    {
      "cell_type": "code",
      "execution_count": 146,
      "metadata": {
        "colab": {
          "base_uri": "https://localhost:8080/"
        },
        "id": "p-xx7COpQGu1",
        "outputId": "98379e6e-a95f-4ba6-b335-efcb84705db9"
      },
      "outputs": [
        {
          "output_type": "stream",
          "name": "stdout",
          "text": [
            "Drive already mounted at /content/gdrive; to attempt to forcibly remount, call drive.mount(\"/content/gdrive\", force_remount=True).\n"
          ]
        }
      ],
      "source": [
        "\n",
        "# مرحله 1: لود کردن کتابخانه‌ها\n",
        "import pandas as pd\n",
        "import numpy as np\n",
        "import matplotlib.pyplot as plt\n",
        "import seaborn as sns\n",
        "from sklearn.model_selection import train_test_split\n",
        "from sklearn.naive_bayes import GaussianNB\n",
        "from sklearn.metrics import accuracy_score\n",
        "\n",
        "\n"
      ]
    },
    {
      "cell_type": "code",
      "source": [
        "# مرحله 2: بارگذاری دیتاست\n",
        "# اگر دیتاست در Google Drive است، ابتدا Google Drive را متصل کنید\n",
        "from google.colab import drive\n",
        "drive.mount('/content/gdrive')"
      ],
      "metadata": {
        "id": "D8u12k8cJ411"
      },
      "execution_count": null,
      "outputs": []
    },
    {
      "cell_type": "code",
      "source": [
        "%cd /content/gdrive/MyDrive/SourceKaravi/NTK.Education.Practice/\n",
        "!git pull\n",
        "%cd /content/gdrive/MyDrive/SourceKaravi/NTK.Education.Practice/PatternRecognition/RemoteWorkOnMentalHealth/"
      ],
      "metadata": {
        "colab": {
          "base_uri": "https://localhost:8080/"
        },
        "id": "-i_jOraJQLLC",
        "outputId": "e7506788-600e-40fe-d5c0-5a62c6a726dd"
      },
      "execution_count": 90,
      "outputs": [
        {
          "output_type": "stream",
          "name": "stdout",
          "text": [
            "/content/gdrive/MyDrive/SourceKaravi/NTK.Education.Practice\n",
            "Already up to date.\n",
            "/content/gdrive/MyDrive/SourceKaravi/NTK.Education.Practice/PatternRecognition/RemoteWorkOnMentalHealth\n"
          ]
        }
      ]
    },
    {
      "cell_type": "code",
      "source": [
        "# بارگذاری دیتاست (توجه: آدرس فایل خود را وارد کنید)\n",
        "df = pd.read_csv('/content/gdrive/MyDrive/SourceKaravi/NTK.Education.Practice/PatternRecognition/RemoteWorkOnMentalHealth/Impact_of_Remote_Work_on_Mental_Health.csv')"
      ],
      "metadata": {
        "id": "gXv9BeGjQ9IJ"
      },
      "execution_count": 91,
      "outputs": []
    },
    {
      "cell_type": "code",
      "source": [
        "# مرحله 3: بررسی فیلدهای دیتاست\n",
        "print(df.head())  # نمایش 5 ردیف اول دیتاست"
      ],
      "metadata": {
        "colab": {
          "base_uri": "https://localhost:8080/"
        },
        "id": "tWgxXEtQRYOC",
        "outputId": "7c32e0fa-23a0-4535-cde4-74c949a63b09"
      },
      "execution_count": 92,
      "outputs": [
        {
          "output_type": "stream",
          "name": "stdout",
          "text": [
            "  Employee_ID  Age      Gender           Job_Role    Industry  \\\n",
            "0     EMP0001   32  Non-binary                 HR  Healthcare   \n",
            "1     EMP0002   40      Female     Data Scientist          IT   \n",
            "2     EMP0003   59  Non-binary  Software Engineer   Education   \n",
            "3     EMP0004   27        Male  Software Engineer     Finance   \n",
            "4     EMP0005   49        Male              Sales  Consulting   \n",
            "\n",
            "   Years_of_Experience Work_Location  Hours_Worked_Per_Week  \\\n",
            "0                   13        Hybrid                     47   \n",
            "1                    3        Remote                     52   \n",
            "2                   22        Hybrid                     46   \n",
            "3                   20        Onsite                     32   \n",
            "4                   32        Onsite                     35   \n",
            "\n",
            "   Number_of_Virtual_Meetings  Work_Life_Balance_Rating Stress_Level  \\\n",
            "0                           7                         2       Medium   \n",
            "1                           4                         1       Medium   \n",
            "2                          11                         5       Medium   \n",
            "3                           8                         4         High   \n",
            "4                          12                         2         High   \n",
            "\n",
            "  Mental_Health_Condition Access_to_Mental_Health_Resources  \\\n",
            "0              Depression                                No   \n",
            "1                 Anxiety                                No   \n",
            "2                 Anxiety                                No   \n",
            "3              Depression                               Yes   \n",
            "4                     NaN                               Yes   \n",
            "\n",
            "  Productivity_Change  Social_Isolation_Rating Satisfaction_with_Remote_Work  \\\n",
            "0            Decrease                        1                   Unsatisfied   \n",
            "1            Increase                        3                     Satisfied   \n",
            "2           No Change                        4                   Unsatisfied   \n",
            "3            Increase                        3                   Unsatisfied   \n",
            "4            Decrease                        3                   Unsatisfied   \n",
            "\n",
            "   Company_Support_for_Remote_Work Physical_Activity Sleep_Quality  \\\n",
            "0                                1            Weekly          Good   \n",
            "1                                2            Weekly          Good   \n",
            "2                                5               NaN          Poor   \n",
            "3                                3               NaN          Poor   \n",
            "4                                3            Weekly       Average   \n",
            "\n",
            "          Region  \n",
            "0         Europe  \n",
            "1           Asia  \n",
            "2  North America  \n",
            "3         Europe  \n",
            "4  North America  \n"
          ]
        }
      ]
    },
    {
      "cell_type": "code",
      "source": [
        "print(df.info())  # اطلاعات کلی درباره دیتاست"
      ],
      "metadata": {
        "colab": {
          "base_uri": "https://localhost:8080/"
        },
        "id": "SR9nZjuY-KnV",
        "outputId": "b0c4185e-a919-4a75-fd64-ac5fbdb1314a"
      },
      "execution_count": 93,
      "outputs": [
        {
          "output_type": "stream",
          "name": "stdout",
          "text": [
            "<class 'pandas.core.frame.DataFrame'>\n",
            "RangeIndex: 5000 entries, 0 to 4999\n",
            "Data columns (total 20 columns):\n",
            " #   Column                             Non-Null Count  Dtype \n",
            "---  ------                             --------------  ----- \n",
            " 0   Employee_ID                        5000 non-null   object\n",
            " 1   Age                                5000 non-null   int64 \n",
            " 2   Gender                             5000 non-null   object\n",
            " 3   Job_Role                           5000 non-null   object\n",
            " 4   Industry                           5000 non-null   object\n",
            " 5   Years_of_Experience                5000 non-null   int64 \n",
            " 6   Work_Location                      5000 non-null   object\n",
            " 7   Hours_Worked_Per_Week              5000 non-null   int64 \n",
            " 8   Number_of_Virtual_Meetings         5000 non-null   int64 \n",
            " 9   Work_Life_Balance_Rating           5000 non-null   int64 \n",
            " 10  Stress_Level                       5000 non-null   object\n",
            " 11  Mental_Health_Condition            3804 non-null   object\n",
            " 12  Access_to_Mental_Health_Resources  5000 non-null   object\n",
            " 13  Productivity_Change                5000 non-null   object\n",
            " 14  Social_Isolation_Rating            5000 non-null   int64 \n",
            " 15  Satisfaction_with_Remote_Work      5000 non-null   object\n",
            " 16  Company_Support_for_Remote_Work    5000 non-null   int64 \n",
            " 17  Physical_Activity                  3371 non-null   object\n",
            " 18  Sleep_Quality                      5000 non-null   object\n",
            " 19  Region                             5000 non-null   object\n",
            "dtypes: int64(7), object(13)\n",
            "memory usage: 781.4+ KB\n",
            "None\n"
          ]
        }
      ]
    },
    {
      "cell_type": "code",
      "source": [
        "df.isnull().sum()"
      ],
      "metadata": {
        "colab": {
          "base_uri": "https://localhost:8080/",
          "height": 711
        },
        "id": "lB-wIlzv-bJS",
        "outputId": "15ea1e9a-99e2-4fc8-f0da-baaaa9b748f8"
      },
      "execution_count": 94,
      "outputs": [
        {
          "output_type": "execute_result",
          "data": {
            "text/plain": [
              "Employee_ID                             0\n",
              "Age                                     0\n",
              "Gender                                  0\n",
              "Job_Role                                0\n",
              "Industry                                0\n",
              "Years_of_Experience                     0\n",
              "Work_Location                           0\n",
              "Hours_Worked_Per_Week                   0\n",
              "Number_of_Virtual_Meetings              0\n",
              "Work_Life_Balance_Rating                0\n",
              "Stress_Level                            0\n",
              "Mental_Health_Condition              1196\n",
              "Access_to_Mental_Health_Resources       0\n",
              "Productivity_Change                     0\n",
              "Social_Isolation_Rating                 0\n",
              "Satisfaction_with_Remote_Work           0\n",
              "Company_Support_for_Remote_Work         0\n",
              "Physical_Activity                    1629\n",
              "Sleep_Quality                           0\n",
              "Region                                  0\n",
              "dtype: int64"
            ],
            "text/html": [
              "<div>\n",
              "<style scoped>\n",
              "    .dataframe tbody tr th:only-of-type {\n",
              "        vertical-align: middle;\n",
              "    }\n",
              "\n",
              "    .dataframe tbody tr th {\n",
              "        vertical-align: top;\n",
              "    }\n",
              "\n",
              "    .dataframe thead th {\n",
              "        text-align: right;\n",
              "    }\n",
              "</style>\n",
              "<table border=\"1\" class=\"dataframe\">\n",
              "  <thead>\n",
              "    <tr style=\"text-align: right;\">\n",
              "      <th></th>\n",
              "      <th>0</th>\n",
              "    </tr>\n",
              "  </thead>\n",
              "  <tbody>\n",
              "    <tr>\n",
              "      <th>Employee_ID</th>\n",
              "      <td>0</td>\n",
              "    </tr>\n",
              "    <tr>\n",
              "      <th>Age</th>\n",
              "      <td>0</td>\n",
              "    </tr>\n",
              "    <tr>\n",
              "      <th>Gender</th>\n",
              "      <td>0</td>\n",
              "    </tr>\n",
              "    <tr>\n",
              "      <th>Job_Role</th>\n",
              "      <td>0</td>\n",
              "    </tr>\n",
              "    <tr>\n",
              "      <th>Industry</th>\n",
              "      <td>0</td>\n",
              "    </tr>\n",
              "    <tr>\n",
              "      <th>Years_of_Experience</th>\n",
              "      <td>0</td>\n",
              "    </tr>\n",
              "    <tr>\n",
              "      <th>Work_Location</th>\n",
              "      <td>0</td>\n",
              "    </tr>\n",
              "    <tr>\n",
              "      <th>Hours_Worked_Per_Week</th>\n",
              "      <td>0</td>\n",
              "    </tr>\n",
              "    <tr>\n",
              "      <th>Number_of_Virtual_Meetings</th>\n",
              "      <td>0</td>\n",
              "    </tr>\n",
              "    <tr>\n",
              "      <th>Work_Life_Balance_Rating</th>\n",
              "      <td>0</td>\n",
              "    </tr>\n",
              "    <tr>\n",
              "      <th>Stress_Level</th>\n",
              "      <td>0</td>\n",
              "    </tr>\n",
              "    <tr>\n",
              "      <th>Mental_Health_Condition</th>\n",
              "      <td>1196</td>\n",
              "    </tr>\n",
              "    <tr>\n",
              "      <th>Access_to_Mental_Health_Resources</th>\n",
              "      <td>0</td>\n",
              "    </tr>\n",
              "    <tr>\n",
              "      <th>Productivity_Change</th>\n",
              "      <td>0</td>\n",
              "    </tr>\n",
              "    <tr>\n",
              "      <th>Social_Isolation_Rating</th>\n",
              "      <td>0</td>\n",
              "    </tr>\n",
              "    <tr>\n",
              "      <th>Satisfaction_with_Remote_Work</th>\n",
              "      <td>0</td>\n",
              "    </tr>\n",
              "    <tr>\n",
              "      <th>Company_Support_for_Remote_Work</th>\n",
              "      <td>0</td>\n",
              "    </tr>\n",
              "    <tr>\n",
              "      <th>Physical_Activity</th>\n",
              "      <td>1629</td>\n",
              "    </tr>\n",
              "    <tr>\n",
              "      <th>Sleep_Quality</th>\n",
              "      <td>0</td>\n",
              "    </tr>\n",
              "    <tr>\n",
              "      <th>Region</th>\n",
              "      <td>0</td>\n",
              "    </tr>\n",
              "  </tbody>\n",
              "</table>\n",
              "</div><br><label><b>dtype:</b> int64</label>"
            ]
          },
          "metadata": {},
          "execution_count": 94
        }
      ]
    },
    {
      "cell_type": "code",
      "source": [
        "# تبدیل ستون به نوع int\n",
        "#df['Work_Location'] = df['Work_Location'].map({'Onsite':1, 'Remote': 2,'Hybrid': 3 })\n",
        "#df['Work_Location'] = df['Work_Location'].astype(int)\n",
        "# تبدیل ستون به نوع int\n",
        "#df['Stress_Level'] = df['Stress_Level'].map({'Low': 1, 'Medium': 2, 'High': 3})\n",
        "#df['Stress_Level'] = df['Stress_Level'].astype(int)"
      ],
      "metadata": {
        "id": "krfm7so5CmwX"
      },
      "execution_count": 95,
      "outputs": []
    },
    {
      "cell_type": "code",
      "source": [
        "df  = df.dropna()"
      ],
      "metadata": {
        "id": "IQJQue6S-lgV"
      },
      "execution_count": 96,
      "outputs": []
    },
    {
      "cell_type": "code",
      "source": [
        "df"
      ],
      "metadata": {
        "colab": {
          "base_uri": "https://localhost:8080/",
          "height": 617
        },
        "id": "Fae7ANFW-v33",
        "outputId": "630f4fba-5ce5-4f60-b819-450a7e96cd95"
      },
      "execution_count": 97,
      "outputs": [
        {
          "output_type": "execute_result",
          "data": {
            "text/plain": [
              "     Employee_ID  Age             Gender         Job_Role    Industry  \\\n",
              "0        EMP0001   32         Non-binary               HR  Healthcare   \n",
              "1        EMP0002   40             Female   Data Scientist          IT   \n",
              "6        EMP0007   31  Prefer not to say            Sales          IT   \n",
              "9        EMP0010   30             Female               HR          IT   \n",
              "12       EMP0013   40             Female        Marketing  Consulting   \n",
              "...          ...  ...                ...              ...         ...   \n",
              "4991     EMP4992   60             Female   Data Scientist          IT   \n",
              "4992     EMP4993   55  Prefer not to say  Project Manager  Consulting   \n",
              "4994     EMP4995   40  Prefer not to say        Marketing          IT   \n",
              "4995     EMP4996   32               Male            Sales  Consulting   \n",
              "4997     EMP4998   42             Female            Sales  Healthcare   \n",
              "\n",
              "      Years_of_Experience Work_Location  Hours_Worked_Per_Week  \\\n",
              "0                      13        Hybrid                     47   \n",
              "1                       3        Remote                     52   \n",
              "6                      24        Remote                     51   \n",
              "9                      28        Hybrid                     57   \n",
              "12                      1        Remote                     21   \n",
              "...                   ...           ...                    ...   \n",
              "4991                    9        Hybrid                     57   \n",
              "4992                   21        Hybrid                     45   \n",
              "4994                   17        Hybrid                     52   \n",
              "4995                    4        Onsite                     24   \n",
              "4997                   21        Hybrid                     34   \n",
              "\n",
              "      Number_of_Virtual_Meetings  Work_Life_Balance_Rating Stress_Level  \\\n",
              "0                              7                         2       Medium   \n",
              "1                              4                         1       Medium   \n",
              "6                              7                         3          Low   \n",
              "9                              6                         1          Low   \n",
              "12                             7                         2         High   \n",
              "...                          ...                       ...          ...   \n",
              "4991                           4                         2          Low   \n",
              "4992                           7                         2         High   \n",
              "4994                           1                         2       Medium   \n",
              "4995                           2                         5         High   \n",
              "4997                           1                         4         High   \n",
              "\n",
              "     Mental_Health_Condition Access_to_Mental_Health_Resources  \\\n",
              "0                 Depression                                No   \n",
              "1                    Anxiety                                No   \n",
              "6                    Anxiety                               Yes   \n",
              "9                 Depression                               Yes   \n",
              "12                Depression                               Yes   \n",
              "...                      ...                               ...   \n",
              "4991                 Burnout                               Yes   \n",
              "4992                 Anxiety                                No   \n",
              "4994                 Burnout                               Yes   \n",
              "4995                 Burnout                               Yes   \n",
              "4997                 Burnout                                No   \n",
              "\n",
              "     Productivity_Change  Social_Isolation_Rating  \\\n",
              "0               Decrease                        1   \n",
              "1               Increase                        3   \n",
              "6               Decrease                        5   \n",
              "9               Decrease                        2   \n",
              "12              Decrease                        2   \n",
              "...                  ...                      ...   \n",
              "4991            Increase                        4   \n",
              "4992           No Change                        2   \n",
              "4994            Increase                        3   \n",
              "4995            Decrease                        4   \n",
              "4997            Increase                        3   \n",
              "\n",
              "     Satisfaction_with_Remote_Work  Company_Support_for_Remote_Work  \\\n",
              "0                      Unsatisfied                                1   \n",
              "1                        Satisfied                                2   \n",
              "6                          Neutral                                3   \n",
              "9                          Neutral                                1   \n",
              "12                         Neutral                                1   \n",
              "...                            ...                              ...   \n",
              "4991                     Satisfied                                5   \n",
              "4992                     Satisfied                                3   \n",
              "4994                       Neutral                                5   \n",
              "4995                       Neutral                                1   \n",
              "4997                     Satisfied                                1   \n",
              "\n",
              "     Physical_Activity Sleep_Quality         Region  \n",
              "0               Weekly          Good         Europe  \n",
              "1               Weekly          Good           Asia  \n",
              "6                Daily          Poor           Asia  \n",
              "9               Weekly          Poor  North America  \n",
              "12              Weekly          Good         Europe  \n",
              "...                ...           ...            ...  \n",
              "4991            Weekly       Average        Oceania  \n",
              "4992             Daily          Poor         Africa  \n",
              "4994             Daily          Good        Oceania  \n",
              "4995            Weekly       Average           Asia  \n",
              "4997             Daily          Poor        Oceania  \n",
              "\n",
              "[2577 rows x 20 columns]"
            ],
            "text/html": [
              "\n",
              "  <div id=\"df-ba4ee16c-3cc1-43f1-a3d0-039916d17cdc\" class=\"colab-df-container\">\n",
              "    <div>\n",
              "<style scoped>\n",
              "    .dataframe tbody tr th:only-of-type {\n",
              "        vertical-align: middle;\n",
              "    }\n",
              "\n",
              "    .dataframe tbody tr th {\n",
              "        vertical-align: top;\n",
              "    }\n",
              "\n",
              "    .dataframe thead th {\n",
              "        text-align: right;\n",
              "    }\n",
              "</style>\n",
              "<table border=\"1\" class=\"dataframe\">\n",
              "  <thead>\n",
              "    <tr style=\"text-align: right;\">\n",
              "      <th></th>\n",
              "      <th>Employee_ID</th>\n",
              "      <th>Age</th>\n",
              "      <th>Gender</th>\n",
              "      <th>Job_Role</th>\n",
              "      <th>Industry</th>\n",
              "      <th>Years_of_Experience</th>\n",
              "      <th>Work_Location</th>\n",
              "      <th>Hours_Worked_Per_Week</th>\n",
              "      <th>Number_of_Virtual_Meetings</th>\n",
              "      <th>Work_Life_Balance_Rating</th>\n",
              "      <th>Stress_Level</th>\n",
              "      <th>Mental_Health_Condition</th>\n",
              "      <th>Access_to_Mental_Health_Resources</th>\n",
              "      <th>Productivity_Change</th>\n",
              "      <th>Social_Isolation_Rating</th>\n",
              "      <th>Satisfaction_with_Remote_Work</th>\n",
              "      <th>Company_Support_for_Remote_Work</th>\n",
              "      <th>Physical_Activity</th>\n",
              "      <th>Sleep_Quality</th>\n",
              "      <th>Region</th>\n",
              "    </tr>\n",
              "  </thead>\n",
              "  <tbody>\n",
              "    <tr>\n",
              "      <th>0</th>\n",
              "      <td>EMP0001</td>\n",
              "      <td>32</td>\n",
              "      <td>Non-binary</td>\n",
              "      <td>HR</td>\n",
              "      <td>Healthcare</td>\n",
              "      <td>13</td>\n",
              "      <td>Hybrid</td>\n",
              "      <td>47</td>\n",
              "      <td>7</td>\n",
              "      <td>2</td>\n",
              "      <td>Medium</td>\n",
              "      <td>Depression</td>\n",
              "      <td>No</td>\n",
              "      <td>Decrease</td>\n",
              "      <td>1</td>\n",
              "      <td>Unsatisfied</td>\n",
              "      <td>1</td>\n",
              "      <td>Weekly</td>\n",
              "      <td>Good</td>\n",
              "      <td>Europe</td>\n",
              "    </tr>\n",
              "    <tr>\n",
              "      <th>1</th>\n",
              "      <td>EMP0002</td>\n",
              "      <td>40</td>\n",
              "      <td>Female</td>\n",
              "      <td>Data Scientist</td>\n",
              "      <td>IT</td>\n",
              "      <td>3</td>\n",
              "      <td>Remote</td>\n",
              "      <td>52</td>\n",
              "      <td>4</td>\n",
              "      <td>1</td>\n",
              "      <td>Medium</td>\n",
              "      <td>Anxiety</td>\n",
              "      <td>No</td>\n",
              "      <td>Increase</td>\n",
              "      <td>3</td>\n",
              "      <td>Satisfied</td>\n",
              "      <td>2</td>\n",
              "      <td>Weekly</td>\n",
              "      <td>Good</td>\n",
              "      <td>Asia</td>\n",
              "    </tr>\n",
              "    <tr>\n",
              "      <th>6</th>\n",
              "      <td>EMP0007</td>\n",
              "      <td>31</td>\n",
              "      <td>Prefer not to say</td>\n",
              "      <td>Sales</td>\n",
              "      <td>IT</td>\n",
              "      <td>24</td>\n",
              "      <td>Remote</td>\n",
              "      <td>51</td>\n",
              "      <td>7</td>\n",
              "      <td>3</td>\n",
              "      <td>Low</td>\n",
              "      <td>Anxiety</td>\n",
              "      <td>Yes</td>\n",
              "      <td>Decrease</td>\n",
              "      <td>5</td>\n",
              "      <td>Neutral</td>\n",
              "      <td>3</td>\n",
              "      <td>Daily</td>\n",
              "      <td>Poor</td>\n",
              "      <td>Asia</td>\n",
              "    </tr>\n",
              "    <tr>\n",
              "      <th>9</th>\n",
              "      <td>EMP0010</td>\n",
              "      <td>30</td>\n",
              "      <td>Female</td>\n",
              "      <td>HR</td>\n",
              "      <td>IT</td>\n",
              "      <td>28</td>\n",
              "      <td>Hybrid</td>\n",
              "      <td>57</td>\n",
              "      <td>6</td>\n",
              "      <td>1</td>\n",
              "      <td>Low</td>\n",
              "      <td>Depression</td>\n",
              "      <td>Yes</td>\n",
              "      <td>Decrease</td>\n",
              "      <td>2</td>\n",
              "      <td>Neutral</td>\n",
              "      <td>1</td>\n",
              "      <td>Weekly</td>\n",
              "      <td>Poor</td>\n",
              "      <td>North America</td>\n",
              "    </tr>\n",
              "    <tr>\n",
              "      <th>12</th>\n",
              "      <td>EMP0013</td>\n",
              "      <td>40</td>\n",
              "      <td>Female</td>\n",
              "      <td>Marketing</td>\n",
              "      <td>Consulting</td>\n",
              "      <td>1</td>\n",
              "      <td>Remote</td>\n",
              "      <td>21</td>\n",
              "      <td>7</td>\n",
              "      <td>2</td>\n",
              "      <td>High</td>\n",
              "      <td>Depression</td>\n",
              "      <td>Yes</td>\n",
              "      <td>Decrease</td>\n",
              "      <td>2</td>\n",
              "      <td>Neutral</td>\n",
              "      <td>1</td>\n",
              "      <td>Weekly</td>\n",
              "      <td>Good</td>\n",
              "      <td>Europe</td>\n",
              "    </tr>\n",
              "    <tr>\n",
              "      <th>...</th>\n",
              "      <td>...</td>\n",
              "      <td>...</td>\n",
              "      <td>...</td>\n",
              "      <td>...</td>\n",
              "      <td>...</td>\n",
              "      <td>...</td>\n",
              "      <td>...</td>\n",
              "      <td>...</td>\n",
              "      <td>...</td>\n",
              "      <td>...</td>\n",
              "      <td>...</td>\n",
              "      <td>...</td>\n",
              "      <td>...</td>\n",
              "      <td>...</td>\n",
              "      <td>...</td>\n",
              "      <td>...</td>\n",
              "      <td>...</td>\n",
              "      <td>...</td>\n",
              "      <td>...</td>\n",
              "      <td>...</td>\n",
              "    </tr>\n",
              "    <tr>\n",
              "      <th>4991</th>\n",
              "      <td>EMP4992</td>\n",
              "      <td>60</td>\n",
              "      <td>Female</td>\n",
              "      <td>Data Scientist</td>\n",
              "      <td>IT</td>\n",
              "      <td>9</td>\n",
              "      <td>Hybrid</td>\n",
              "      <td>57</td>\n",
              "      <td>4</td>\n",
              "      <td>2</td>\n",
              "      <td>Low</td>\n",
              "      <td>Burnout</td>\n",
              "      <td>Yes</td>\n",
              "      <td>Increase</td>\n",
              "      <td>4</td>\n",
              "      <td>Satisfied</td>\n",
              "      <td>5</td>\n",
              "      <td>Weekly</td>\n",
              "      <td>Average</td>\n",
              "      <td>Oceania</td>\n",
              "    </tr>\n",
              "    <tr>\n",
              "      <th>4992</th>\n",
              "      <td>EMP4993</td>\n",
              "      <td>55</td>\n",
              "      <td>Prefer not to say</td>\n",
              "      <td>Project Manager</td>\n",
              "      <td>Consulting</td>\n",
              "      <td>21</td>\n",
              "      <td>Hybrid</td>\n",
              "      <td>45</td>\n",
              "      <td>7</td>\n",
              "      <td>2</td>\n",
              "      <td>High</td>\n",
              "      <td>Anxiety</td>\n",
              "      <td>No</td>\n",
              "      <td>No Change</td>\n",
              "      <td>2</td>\n",
              "      <td>Satisfied</td>\n",
              "      <td>3</td>\n",
              "      <td>Daily</td>\n",
              "      <td>Poor</td>\n",
              "      <td>Africa</td>\n",
              "    </tr>\n",
              "    <tr>\n",
              "      <th>4994</th>\n",
              "      <td>EMP4995</td>\n",
              "      <td>40</td>\n",
              "      <td>Prefer not to say</td>\n",
              "      <td>Marketing</td>\n",
              "      <td>IT</td>\n",
              "      <td>17</td>\n",
              "      <td>Hybrid</td>\n",
              "      <td>52</td>\n",
              "      <td>1</td>\n",
              "      <td>2</td>\n",
              "      <td>Medium</td>\n",
              "      <td>Burnout</td>\n",
              "      <td>Yes</td>\n",
              "      <td>Increase</td>\n",
              "      <td>3</td>\n",
              "      <td>Neutral</td>\n",
              "      <td>5</td>\n",
              "      <td>Daily</td>\n",
              "      <td>Good</td>\n",
              "      <td>Oceania</td>\n",
              "    </tr>\n",
              "    <tr>\n",
              "      <th>4995</th>\n",
              "      <td>EMP4996</td>\n",
              "      <td>32</td>\n",
              "      <td>Male</td>\n",
              "      <td>Sales</td>\n",
              "      <td>Consulting</td>\n",
              "      <td>4</td>\n",
              "      <td>Onsite</td>\n",
              "      <td>24</td>\n",
              "      <td>2</td>\n",
              "      <td>5</td>\n",
              "      <td>High</td>\n",
              "      <td>Burnout</td>\n",
              "      <td>Yes</td>\n",
              "      <td>Decrease</td>\n",
              "      <td>4</td>\n",
              "      <td>Neutral</td>\n",
              "      <td>1</td>\n",
              "      <td>Weekly</td>\n",
              "      <td>Average</td>\n",
              "      <td>Asia</td>\n",
              "    </tr>\n",
              "    <tr>\n",
              "      <th>4997</th>\n",
              "      <td>EMP4998</td>\n",
              "      <td>42</td>\n",
              "      <td>Female</td>\n",
              "      <td>Sales</td>\n",
              "      <td>Healthcare</td>\n",
              "      <td>21</td>\n",
              "      <td>Hybrid</td>\n",
              "      <td>34</td>\n",
              "      <td>1</td>\n",
              "      <td>4</td>\n",
              "      <td>High</td>\n",
              "      <td>Burnout</td>\n",
              "      <td>No</td>\n",
              "      <td>Increase</td>\n",
              "      <td>3</td>\n",
              "      <td>Satisfied</td>\n",
              "      <td>1</td>\n",
              "      <td>Daily</td>\n",
              "      <td>Poor</td>\n",
              "      <td>Oceania</td>\n",
              "    </tr>\n",
              "  </tbody>\n",
              "</table>\n",
              "<p>2577 rows × 20 columns</p>\n",
              "</div>\n",
              "    <div class=\"colab-df-buttons\">\n",
              "\n",
              "  <div class=\"colab-df-container\">\n",
              "    <button class=\"colab-df-convert\" onclick=\"convertToInteractive('df-ba4ee16c-3cc1-43f1-a3d0-039916d17cdc')\"\n",
              "            title=\"Convert this dataframe to an interactive table.\"\n",
              "            style=\"display:none;\">\n",
              "\n",
              "  <svg xmlns=\"http://www.w3.org/2000/svg\" height=\"24px\" viewBox=\"0 -960 960 960\">\n",
              "    <path d=\"M120-120v-720h720v720H120Zm60-500h600v-160H180v160Zm220 220h160v-160H400v160Zm0 220h160v-160H400v160ZM180-400h160v-160H180v160Zm440 0h160v-160H620v160ZM180-180h160v-160H180v160Zm440 0h160v-160H620v160Z\"/>\n",
              "  </svg>\n",
              "    </button>\n",
              "\n",
              "  <style>\n",
              "    .colab-df-container {\n",
              "      display:flex;\n",
              "      gap: 12px;\n",
              "    }\n",
              "\n",
              "    .colab-df-convert {\n",
              "      background-color: #E8F0FE;\n",
              "      border: none;\n",
              "      border-radius: 50%;\n",
              "      cursor: pointer;\n",
              "      display: none;\n",
              "      fill: #1967D2;\n",
              "      height: 32px;\n",
              "      padding: 0 0 0 0;\n",
              "      width: 32px;\n",
              "    }\n",
              "\n",
              "    .colab-df-convert:hover {\n",
              "      background-color: #E2EBFA;\n",
              "      box-shadow: 0px 1px 2px rgba(60, 64, 67, 0.3), 0px 1px 3px 1px rgba(60, 64, 67, 0.15);\n",
              "      fill: #174EA6;\n",
              "    }\n",
              "\n",
              "    .colab-df-buttons div {\n",
              "      margin-bottom: 4px;\n",
              "    }\n",
              "\n",
              "    [theme=dark] .colab-df-convert {\n",
              "      background-color: #3B4455;\n",
              "      fill: #D2E3FC;\n",
              "    }\n",
              "\n",
              "    [theme=dark] .colab-df-convert:hover {\n",
              "      background-color: #434B5C;\n",
              "      box-shadow: 0px 1px 3px 1px rgba(0, 0, 0, 0.15);\n",
              "      filter: drop-shadow(0px 1px 2px rgba(0, 0, 0, 0.3));\n",
              "      fill: #FFFFFF;\n",
              "    }\n",
              "  </style>\n",
              "\n",
              "    <script>\n",
              "      const buttonEl =\n",
              "        document.querySelector('#df-ba4ee16c-3cc1-43f1-a3d0-039916d17cdc button.colab-df-convert');\n",
              "      buttonEl.style.display =\n",
              "        google.colab.kernel.accessAllowed ? 'block' : 'none';\n",
              "\n",
              "      async function convertToInteractive(key) {\n",
              "        const element = document.querySelector('#df-ba4ee16c-3cc1-43f1-a3d0-039916d17cdc');\n",
              "        const dataTable =\n",
              "          await google.colab.kernel.invokeFunction('convertToInteractive',\n",
              "                                                    [key], {});\n",
              "        if (!dataTable) return;\n",
              "\n",
              "        const docLinkHtml = 'Like what you see? Visit the ' +\n",
              "          '<a target=\"_blank\" href=https://colab.research.google.com/notebooks/data_table.ipynb>data table notebook</a>'\n",
              "          + ' to learn more about interactive tables.';\n",
              "        element.innerHTML = '';\n",
              "        dataTable['output_type'] = 'display_data';\n",
              "        await google.colab.output.renderOutput(dataTable, element);\n",
              "        const docLink = document.createElement('div');\n",
              "        docLink.innerHTML = docLinkHtml;\n",
              "        element.appendChild(docLink);\n",
              "      }\n",
              "    </script>\n",
              "  </div>\n",
              "\n",
              "\n",
              "<div id=\"df-9c8f8eb9-e644-4b73-aeca-6f9c1e23f130\">\n",
              "  <button class=\"colab-df-quickchart\" onclick=\"quickchart('df-9c8f8eb9-e644-4b73-aeca-6f9c1e23f130')\"\n",
              "            title=\"Suggest charts\"\n",
              "            style=\"display:none;\">\n",
              "\n",
              "<svg xmlns=\"http://www.w3.org/2000/svg\" height=\"24px\"viewBox=\"0 0 24 24\"\n",
              "     width=\"24px\">\n",
              "    <g>\n",
              "        <path d=\"M19 3H5c-1.1 0-2 .9-2 2v14c0 1.1.9 2 2 2h14c1.1 0 2-.9 2-2V5c0-1.1-.9-2-2-2zM9 17H7v-7h2v7zm4 0h-2V7h2v10zm4 0h-2v-4h2v4z\"/>\n",
              "    </g>\n",
              "</svg>\n",
              "  </button>\n",
              "\n",
              "<style>\n",
              "  .colab-df-quickchart {\n",
              "      --bg-color: #E8F0FE;\n",
              "      --fill-color: #1967D2;\n",
              "      --hover-bg-color: #E2EBFA;\n",
              "      --hover-fill-color: #174EA6;\n",
              "      --disabled-fill-color: #AAA;\n",
              "      --disabled-bg-color: #DDD;\n",
              "  }\n",
              "\n",
              "  [theme=dark] .colab-df-quickchart {\n",
              "      --bg-color: #3B4455;\n",
              "      --fill-color: #D2E3FC;\n",
              "      --hover-bg-color: #434B5C;\n",
              "      --hover-fill-color: #FFFFFF;\n",
              "      --disabled-bg-color: #3B4455;\n",
              "      --disabled-fill-color: #666;\n",
              "  }\n",
              "\n",
              "  .colab-df-quickchart {\n",
              "    background-color: var(--bg-color);\n",
              "    border: none;\n",
              "    border-radius: 50%;\n",
              "    cursor: pointer;\n",
              "    display: none;\n",
              "    fill: var(--fill-color);\n",
              "    height: 32px;\n",
              "    padding: 0;\n",
              "    width: 32px;\n",
              "  }\n",
              "\n",
              "  .colab-df-quickchart:hover {\n",
              "    background-color: var(--hover-bg-color);\n",
              "    box-shadow: 0 1px 2px rgba(60, 64, 67, 0.3), 0 1px 3px 1px rgba(60, 64, 67, 0.15);\n",
              "    fill: var(--button-hover-fill-color);\n",
              "  }\n",
              "\n",
              "  .colab-df-quickchart-complete:disabled,\n",
              "  .colab-df-quickchart-complete:disabled:hover {\n",
              "    background-color: var(--disabled-bg-color);\n",
              "    fill: var(--disabled-fill-color);\n",
              "    box-shadow: none;\n",
              "  }\n",
              "\n",
              "  .colab-df-spinner {\n",
              "    border: 2px solid var(--fill-color);\n",
              "    border-color: transparent;\n",
              "    border-bottom-color: var(--fill-color);\n",
              "    animation:\n",
              "      spin 1s steps(1) infinite;\n",
              "  }\n",
              "\n",
              "  @keyframes spin {\n",
              "    0% {\n",
              "      border-color: transparent;\n",
              "      border-bottom-color: var(--fill-color);\n",
              "      border-left-color: var(--fill-color);\n",
              "    }\n",
              "    20% {\n",
              "      border-color: transparent;\n",
              "      border-left-color: var(--fill-color);\n",
              "      border-top-color: var(--fill-color);\n",
              "    }\n",
              "    30% {\n",
              "      border-color: transparent;\n",
              "      border-left-color: var(--fill-color);\n",
              "      border-top-color: var(--fill-color);\n",
              "      border-right-color: var(--fill-color);\n",
              "    }\n",
              "    40% {\n",
              "      border-color: transparent;\n",
              "      border-right-color: var(--fill-color);\n",
              "      border-top-color: var(--fill-color);\n",
              "    }\n",
              "    60% {\n",
              "      border-color: transparent;\n",
              "      border-right-color: var(--fill-color);\n",
              "    }\n",
              "    80% {\n",
              "      border-color: transparent;\n",
              "      border-right-color: var(--fill-color);\n",
              "      border-bottom-color: var(--fill-color);\n",
              "    }\n",
              "    90% {\n",
              "      border-color: transparent;\n",
              "      border-bottom-color: var(--fill-color);\n",
              "    }\n",
              "  }\n",
              "</style>\n",
              "\n",
              "  <script>\n",
              "    async function quickchart(key) {\n",
              "      const quickchartButtonEl =\n",
              "        document.querySelector('#' + key + ' button');\n",
              "      quickchartButtonEl.disabled = true;  // To prevent multiple clicks.\n",
              "      quickchartButtonEl.classList.add('colab-df-spinner');\n",
              "      try {\n",
              "        const charts = await google.colab.kernel.invokeFunction(\n",
              "            'suggestCharts', [key], {});\n",
              "      } catch (error) {\n",
              "        console.error('Error during call to suggestCharts:', error);\n",
              "      }\n",
              "      quickchartButtonEl.classList.remove('colab-df-spinner');\n",
              "      quickchartButtonEl.classList.add('colab-df-quickchart-complete');\n",
              "    }\n",
              "    (() => {\n",
              "      let quickchartButtonEl =\n",
              "        document.querySelector('#df-9c8f8eb9-e644-4b73-aeca-6f9c1e23f130 button');\n",
              "      quickchartButtonEl.style.display =\n",
              "        google.colab.kernel.accessAllowed ? 'block' : 'none';\n",
              "    })();\n",
              "  </script>\n",
              "</div>\n",
              "    </div>\n",
              "  </div>\n"
            ],
            "application/vnd.google.colaboratory.intrinsic+json": {
              "type": "dataframe",
              "variable_name": "df",
              "summary": "{\n  \"name\": \"df\",\n  \"rows\": 2577,\n  \"fields\": [\n    {\n      \"column\": \"Employee_ID\",\n      \"properties\": {\n        \"dtype\": \"string\",\n        \"num_unique_values\": 2577,\n        \"samples\": [\n          \"EMP2203\",\n          \"EMP1814\",\n          \"EMP1477\"\n        ],\n        \"semantic_type\": \"\",\n        \"description\": \"\"\n      }\n    },\n    {\n      \"column\": \"Age\",\n      \"properties\": {\n        \"dtype\": \"number\",\n        \"std\": 11,\n        \"min\": 22,\n        \"max\": 60,\n        \"num_unique_values\": 39,\n        \"samples\": [\n          52,\n          39,\n          51\n        ],\n        \"semantic_type\": \"\",\n        \"description\": \"\"\n      }\n    },\n    {\n      \"column\": \"Gender\",\n      \"properties\": {\n        \"dtype\": \"category\",\n        \"num_unique_values\": 4,\n        \"samples\": [\n          \"Female\",\n          \"Male\",\n          \"Non-binary\"\n        ],\n        \"semantic_type\": \"\",\n        \"description\": \"\"\n      }\n    },\n    {\n      \"column\": \"Job_Role\",\n      \"properties\": {\n        \"dtype\": \"category\",\n        \"num_unique_values\": 7,\n        \"samples\": [\n          \"HR\",\n          \"Data Scientist\",\n          \"Project Manager\"\n        ],\n        \"semantic_type\": \"\",\n        \"description\": \"\"\n      }\n    },\n    {\n      \"column\": \"Industry\",\n      \"properties\": {\n        \"dtype\": \"category\",\n        \"num_unique_values\": 7,\n        \"samples\": [\n          \"Healthcare\",\n          \"IT\",\n          \"Education\"\n        ],\n        \"semantic_type\": \"\",\n        \"description\": \"\"\n      }\n    },\n    {\n      \"column\": \"Years_of_Experience\",\n      \"properties\": {\n        \"dtype\": \"number\",\n        \"std\": 9,\n        \"min\": 1,\n        \"max\": 35,\n        \"num_unique_values\": 35,\n        \"samples\": [\n          2,\n          22,\n          32\n        ],\n        \"semantic_type\": \"\",\n        \"description\": \"\"\n      }\n    },\n    {\n      \"column\": \"Work_Location\",\n      \"properties\": {\n        \"dtype\": \"category\",\n        \"num_unique_values\": 3,\n        \"samples\": [\n          \"Hybrid\",\n          \"Remote\",\n          \"Onsite\"\n        ],\n        \"semantic_type\": \"\",\n        \"description\": \"\"\n      }\n    },\n    {\n      \"column\": \"Hours_Worked_Per_Week\",\n      \"properties\": {\n        \"dtype\": \"number\",\n        \"std\": 11,\n        \"min\": 20,\n        \"max\": 60,\n        \"num_unique_values\": 41,\n        \"samples\": [\n          46,\n          25,\n          37\n        ],\n        \"semantic_type\": \"\",\n        \"description\": \"\"\n      }\n    },\n    {\n      \"column\": \"Number_of_Virtual_Meetings\",\n      \"properties\": {\n        \"dtype\": \"number\",\n        \"std\": 4,\n        \"min\": 0,\n        \"max\": 15,\n        \"num_unique_values\": 16,\n        \"samples\": [\n          7,\n          4,\n          8\n        ],\n        \"semantic_type\": \"\",\n        \"description\": \"\"\n      }\n    },\n    {\n      \"column\": \"Work_Life_Balance_Rating\",\n      \"properties\": {\n        \"dtype\": \"number\",\n        \"std\": 1,\n        \"min\": 1,\n        \"max\": 5,\n        \"num_unique_values\": 5,\n        \"samples\": [\n          1,\n          5,\n          3\n        ],\n        \"semantic_type\": \"\",\n        \"description\": \"\"\n      }\n    },\n    {\n      \"column\": \"Stress_Level\",\n      \"properties\": {\n        \"dtype\": \"category\",\n        \"num_unique_values\": 3,\n        \"samples\": [\n          \"Medium\",\n          \"Low\",\n          \"High\"\n        ],\n        \"semantic_type\": \"\",\n        \"description\": \"\"\n      }\n    },\n    {\n      \"column\": \"Mental_Health_Condition\",\n      \"properties\": {\n        \"dtype\": \"category\",\n        \"num_unique_values\": 3,\n        \"samples\": [\n          \"Depression\",\n          \"Anxiety\",\n          \"Burnout\"\n        ],\n        \"semantic_type\": \"\",\n        \"description\": \"\"\n      }\n    },\n    {\n      \"column\": \"Access_to_Mental_Health_Resources\",\n      \"properties\": {\n        \"dtype\": \"category\",\n        \"num_unique_values\": 2,\n        \"samples\": [\n          \"Yes\",\n          \"No\"\n        ],\n        \"semantic_type\": \"\",\n        \"description\": \"\"\n      }\n    },\n    {\n      \"column\": \"Productivity_Change\",\n      \"properties\": {\n        \"dtype\": \"category\",\n        \"num_unique_values\": 3,\n        \"samples\": [\n          \"Decrease\",\n          \"Increase\"\n        ],\n        \"semantic_type\": \"\",\n        \"description\": \"\"\n      }\n    },\n    {\n      \"column\": \"Social_Isolation_Rating\",\n      \"properties\": {\n        \"dtype\": \"number\",\n        \"std\": 1,\n        \"min\": 1,\n        \"max\": 5,\n        \"num_unique_values\": 5,\n        \"samples\": [\n          3,\n          4\n        ],\n        \"semantic_type\": \"\",\n        \"description\": \"\"\n      }\n    },\n    {\n      \"column\": \"Satisfaction_with_Remote_Work\",\n      \"properties\": {\n        \"dtype\": \"category\",\n        \"num_unique_values\": 3,\n        \"samples\": [\n          \"Unsatisfied\",\n          \"Satisfied\"\n        ],\n        \"semantic_type\": \"\",\n        \"description\": \"\"\n      }\n    },\n    {\n      \"column\": \"Company_Support_for_Remote_Work\",\n      \"properties\": {\n        \"dtype\": \"number\",\n        \"std\": 1,\n        \"min\": 1,\n        \"max\": 5,\n        \"num_unique_values\": 5,\n        \"samples\": [\n          2,\n          4\n        ],\n        \"semantic_type\": \"\",\n        \"description\": \"\"\n      }\n    },\n    {\n      \"column\": \"Physical_Activity\",\n      \"properties\": {\n        \"dtype\": \"category\",\n        \"num_unique_values\": 2,\n        \"samples\": [\n          \"Daily\",\n          \"Weekly\"\n        ],\n        \"semantic_type\": \"\",\n        \"description\": \"\"\n      }\n    },\n    {\n      \"column\": \"Sleep_Quality\",\n      \"properties\": {\n        \"dtype\": \"category\",\n        \"num_unique_values\": 3,\n        \"samples\": [\n          \"Good\",\n          \"Poor\"\n        ],\n        \"semantic_type\": \"\",\n        \"description\": \"\"\n      }\n    },\n    {\n      \"column\": \"Region\",\n      \"properties\": {\n        \"dtype\": \"category\",\n        \"num_unique_values\": 6,\n        \"samples\": [\n          \"Europe\",\n          \"Asia\"\n        ],\n        \"semantic_type\": \"\",\n        \"description\": \"\"\n      }\n    }\n  ]\n}"
            }
          },
          "metadata": {},
          "execution_count": 97
        }
      ]
    },
    {
      "cell_type": "code",
      "source": [
        "df.shape"
      ],
      "metadata": {
        "colab": {
          "base_uri": "https://localhost:8080/"
        },
        "id": "fQehg_ix-2NM",
        "outputId": "6d29ced3-fcc3-4df3-f8b0-8b2a0071d745"
      },
      "execution_count": 98,
      "outputs": [
        {
          "output_type": "execute_result",
          "data": {
            "text/plain": [
              "(2577, 20)"
            ]
          },
          "metadata": {},
          "execution_count": 98
        }
      ]
    },
    {
      "cell_type": "code",
      "source": [
        "df.columns"
      ],
      "metadata": {
        "colab": {
          "base_uri": "https://localhost:8080/"
        },
        "id": "7zIMWEhT-7c2",
        "outputId": "bdec4168-3ba7-462b-93e4-de0a93e2c34a"
      },
      "execution_count": 99,
      "outputs": [
        {
          "output_type": "execute_result",
          "data": {
            "text/plain": [
              "Index(['Employee_ID', 'Age', 'Gender', 'Job_Role', 'Industry',\n",
              "       'Years_of_Experience', 'Work_Location', 'Hours_Worked_Per_Week',\n",
              "       'Number_of_Virtual_Meetings', 'Work_Life_Balance_Rating',\n",
              "       'Stress_Level', 'Mental_Health_Condition',\n",
              "       'Access_to_Mental_Health_Resources', 'Productivity_Change',\n",
              "       'Social_Isolation_Rating', 'Satisfaction_with_Remote_Work',\n",
              "       'Company_Support_for_Remote_Work', 'Physical_Activity', 'Sleep_Quality',\n",
              "       'Region'],\n",
              "      dtype='object')"
            ]
          },
          "metadata": {},
          "execution_count": 99
        }
      ]
    },
    {
      "cell_type": "code",
      "source": [
        "df['Age']"
      ],
      "metadata": {
        "colab": {
          "base_uri": "https://localhost:8080/",
          "height": 458
        },
        "id": "KQO7Ir7N_E86",
        "outputId": "ed3c8e85-6711-42b3-95bc-caacbfa6bb07"
      },
      "execution_count": 100,
      "outputs": [
        {
          "output_type": "execute_result",
          "data": {
            "text/plain": [
              "0       32\n",
              "1       40\n",
              "6       31\n",
              "9       30\n",
              "12      40\n",
              "        ..\n",
              "4991    60\n",
              "4992    55\n",
              "4994    40\n",
              "4995    32\n",
              "4997    42\n",
              "Name: Age, Length: 2577, dtype: int64"
            ],
            "text/html": [
              "<div>\n",
              "<style scoped>\n",
              "    .dataframe tbody tr th:only-of-type {\n",
              "        vertical-align: middle;\n",
              "    }\n",
              "\n",
              "    .dataframe tbody tr th {\n",
              "        vertical-align: top;\n",
              "    }\n",
              "\n",
              "    .dataframe thead th {\n",
              "        text-align: right;\n",
              "    }\n",
              "</style>\n",
              "<table border=\"1\" class=\"dataframe\">\n",
              "  <thead>\n",
              "    <tr style=\"text-align: right;\">\n",
              "      <th></th>\n",
              "      <th>Age</th>\n",
              "    </tr>\n",
              "  </thead>\n",
              "  <tbody>\n",
              "    <tr>\n",
              "      <th>0</th>\n",
              "      <td>32</td>\n",
              "    </tr>\n",
              "    <tr>\n",
              "      <th>1</th>\n",
              "      <td>40</td>\n",
              "    </tr>\n",
              "    <tr>\n",
              "      <th>6</th>\n",
              "      <td>31</td>\n",
              "    </tr>\n",
              "    <tr>\n",
              "      <th>9</th>\n",
              "      <td>30</td>\n",
              "    </tr>\n",
              "    <tr>\n",
              "      <th>12</th>\n",
              "      <td>40</td>\n",
              "    </tr>\n",
              "    <tr>\n",
              "      <th>...</th>\n",
              "      <td>...</td>\n",
              "    </tr>\n",
              "    <tr>\n",
              "      <th>4991</th>\n",
              "      <td>60</td>\n",
              "    </tr>\n",
              "    <tr>\n",
              "      <th>4992</th>\n",
              "      <td>55</td>\n",
              "    </tr>\n",
              "    <tr>\n",
              "      <th>4994</th>\n",
              "      <td>40</td>\n",
              "    </tr>\n",
              "    <tr>\n",
              "      <th>4995</th>\n",
              "      <td>32</td>\n",
              "    </tr>\n",
              "    <tr>\n",
              "      <th>4997</th>\n",
              "      <td>42</td>\n",
              "    </tr>\n",
              "  </tbody>\n",
              "</table>\n",
              "<p>2577 rows × 1 columns</p>\n",
              "</div><br><label><b>dtype:</b> int64</label>"
            ]
          },
          "metadata": {},
          "execution_count": 100
        }
      ]
    },
    {
      "cell_type": "code",
      "source": [
        "plt.figure(figsize=(10,6))\n",
        "plt.hist(df['Age'],bins=range(1,101,10),edgecolor='black',color='green')\n",
        "plt.title('Age Distribution')\n",
        "plt.xlabel('Age Range')\n",
        "plt.ylabel('Count of Age')\n",
        "plt.show()"
      ],
      "metadata": {
        "colab": {
          "base_uri": "https://localhost:8080/",
          "height": 564
        },
        "id": "Vx_JrUZ8_IVJ",
        "outputId": "980f996f-d02f-4406-b28a-e1310ffb187d"
      },
      "execution_count": 101,
      "outputs": [
        {
          "output_type": "display_data",
          "data": {
            "text/plain": [
              "<Figure size 1000x600 with 1 Axes>"
            ],
            "image/png": "[encoded data removed]"
          },
          "metadata": {}
        }
      ]
    },
    {
      "cell_type": "code",
      "source": [
        "df['Age'].describe()"
      ],
      "metadata": {
        "colab": {
          "base_uri": "https://localhost:8080/",
          "height": 335
        },
        "id": "a9t2bQzj_fSx",
        "outputId": "b13121ce-b4f2-40cb-b212-5550a561cf62"
      },
      "execution_count": 102,
      "outputs": [
        {
          "output_type": "execute_result",
          "data": {
            "text/plain": [
              "count    2577.000000\n",
              "mean       40.910749\n",
              "std        11.258183\n",
              "min        22.000000\n",
              "25%        31.000000\n",
              "50%        41.000000\n",
              "75%        51.000000\n",
              "max        60.000000\n",
              "Name: Age, dtype: float64"
            ],
            "text/html": [
              "<div>\n",
              "<style scoped>\n",
              "    .dataframe tbody tr th:only-of-type {\n",
              "        vertical-align: middle;\n",
              "    }\n",
              "\n",
              "    .dataframe tbody tr th {\n",
              "        vertical-align: top;\n",
              "    }\n",
              "\n",
              "    .dataframe thead th {\n",
              "        text-align: right;\n",
              "    }\n",
              "</style>\n",
              "<table border=\"1\" class=\"dataframe\">\n",
              "  <thead>\n",
              "    <tr style=\"text-align: right;\">\n",
              "      <th></th>\n",
              "      <th>Age</th>\n",
              "    </tr>\n",
              "  </thead>\n",
              "  <tbody>\n",
              "    <tr>\n",
              "      <th>count</th>\n",
              "      <td>2577.000000</td>\n",
              "    </tr>\n",
              "    <tr>\n",
              "      <th>mean</th>\n",
              "      <td>40.910749</td>\n",
              "    </tr>\n",
              "    <tr>\n",
              "      <th>std</th>\n",
              "      <td>11.258183</td>\n",
              "    </tr>\n",
              "    <tr>\n",
              "      <th>min</th>\n",
              "      <td>22.000000</td>\n",
              "    </tr>\n",
              "    <tr>\n",
              "      <th>25%</th>\n",
              "      <td>31.000000</td>\n",
              "    </tr>\n",
              "    <tr>\n",
              "      <th>50%</th>\n",
              "      <td>41.000000</td>\n",
              "    </tr>\n",
              "    <tr>\n",
              "      <th>75%</th>\n",
              "      <td>51.000000</td>\n",
              "    </tr>\n",
              "    <tr>\n",
              "      <th>max</th>\n",
              "      <td>60.000000</td>\n",
              "    </tr>\n",
              "  </tbody>\n",
              "</table>\n",
              "</div><br><label><b>dtype:</b> float64</label>"
            ]
          },
          "metadata": {},
          "execution_count": 102
        }
      ]
    },
    {
      "cell_type": "code",
      "source": [
        "df['Gender'].unique()"
      ],
      "metadata": {
        "colab": {
          "base_uri": "https://localhost:8080/"
        },
        "id": "rFRO_Nya_jtr",
        "outputId": "050dafc4-7657-47c1-cdc4-d4761fb8aba0"
      },
      "execution_count": 103,
      "outputs": [
        {
          "output_type": "execute_result",
          "data": {
            "text/plain": [
              "array(['Non-binary', 'Female', 'Prefer not to say', 'Male'], dtype=object)"
            ]
          },
          "metadata": {},
          "execution_count": 103
        }
      ]
    },
    {
      "cell_type": "code",
      "source": [
        "df['Gender'].value_counts().plot(kind='bar', color='pink', edgecolor='black')\n",
        "plt.title('Gender Distribution')\n",
        "plt.xlabel('Gender')\n",
        "plt.ylabel('Count')\n",
        "plt.show()"
      ],
      "metadata": {
        "colab": {
          "base_uri": "https://localhost:8080/",
          "height": 573
        },
        "id": "AR9BpM6s_vHN",
        "outputId": "69240cf2-0156-4480-d0b2-5c0378c6a5cf"
      },
      "execution_count": 104,
      "outputs": [
        {
          "output_type": "display_data",
          "data": {
            "text/plain": [
              "<Figure size 640x480 with 1 Axes>"
            ],
            "image/png": "[encoded data removed]"
          },
          "metadata": {}
        }
      ]
    },
    {
      "cell_type": "code",
      "source": [
        "df['Industry'].value_counts().plot(kind='bar', color='lightgreen', edgecolor='black')\n",
        "plt.title('Industry Distribution')\n",
        "plt.xlabel('Industry')\n",
        "plt.ylabel('Count')\n",
        "plt.xticks(rotation=45)\n",
        "plt.show()"
      ],
      "metadata": {
        "colab": {
          "base_uri": "https://localhost:8080/",
          "height": 539
        },
        "id": "1Q1E3Yw8_zjx",
        "outputId": "d2800108-93b1-4d3c-bbb6-061647ede3ad"
      },
      "execution_count": 105,
      "outputs": [
        {
          "output_type": "display_data",
          "data": {
            "text/plain": [
              "<Figure size 640x480 with 1 Axes>"
            ],
            "image/png": "[encoded data removed]"
          },
          "metadata": {}
        }
      ]
    },
    {
      "cell_type": "code",
      "source": [
        "plt.hist(df['Years_of_Experience'], bins=10, color='purple', edgecolor='black')\n",
        "plt.title('Years of Experience Distribution')\n",
        "plt.xlabel('Years of Experience')\n",
        "plt.ylabel('Frequency')\n",
        "plt.show()"
      ],
      "metadata": {
        "colab": {
          "base_uri": "https://localhost:8080/",
          "height": 472
        },
        "id": "BmCG-Bbl_3nR",
        "outputId": "201a67d1-cef6-4d8e-ca06-3d7947b5a3f2"
      },
      "execution_count": 106,
      "outputs": [
        {
          "output_type": "display_data",
          "data": {
            "text/plain": [
              "<Figure size 640x480 with 1 Axes>"
            ],
            "image/png": "[encoded data removed]"
          },
          "metadata": {}
        }
      ]
    },
    {
      "cell_type": "code",
      "source": [
        "df['Work_Location'].value_counts().plot(kind='bar', color='cyan', edgecolor='black')\n",
        "plt.title('Work Location Distribution')\n",
        "plt.xlabel('Work Location')\n",
        "plt.ylabel('Count')\n",
        "plt.xticks(rotation=45)\n",
        "plt.show()"
      ],
      "metadata": {
        "colab": {
          "base_uri": "https://localhost:8080/",
          "height": 505
        },
        "id": "tOKwfse2_7RF",
        "outputId": "99faaffa-7d14-4ede-b7e4-3b686fc741b1"
      },
      "execution_count": 107,
      "outputs": [
        {
          "output_type": "display_data",
          "data": {
            "text/plain": [
              "<Figure size 640x480 with 1 Axes>"
            ],
            "image/png": "[encoded data removed]"
          },
          "metadata": {}
        }
      ]
    },
    {
      "cell_type": "code",
      "source": [
        "plt.hist(df['Hours_Worked_Per_Week'], bins=10, color='orange', edgecolor='black')\n",
        "plt.title('Hours Worked Per Week Distribution')\n",
        "plt.xlabel('Hours Worked Per Week')\n",
        "plt.ylabel('Frequency')\n",
        "plt.show()"
      ],
      "metadata": {
        "colab": {
          "base_uri": "https://localhost:8080/",
          "height": 472
        },
        "id": "Qy7x-MGy__O_",
        "outputId": "7bc79d5d-74f4-48cc-eb69-8d3abf18558f"
      },
      "execution_count": 108,
      "outputs": [
        {
          "output_type": "display_data",
          "data": {
            "text/plain": [
              "<Figure size 640x480 with 1 Axes>"
            ],
            "image/png": "[encoded data removed]"
          },
          "metadata": {}
        }
      ]
    },
    {
      "cell_type": "code",
      "source": [
        "plt.hist(df['Number_of_Virtual_Meetings'], bins=10, color='yellow', edgecolor='black')\n",
        "plt.title('Number of Virtual Meetings')\n",
        "plt.xlabel('Virtual Meetings per Week')\n",
        "plt.ylabel('Frequency')\n",
        "plt.show()"
      ],
      "metadata": {
        "colab": {
          "base_uri": "https://localhost:8080/",
          "height": 472
        },
        "id": "LXojc9gIACtc",
        "outputId": "aefb124e-3728-49d9-c47d-fb38345b5a7b"
      },
      "execution_count": 109,
      "outputs": [
        {
          "output_type": "display_data",
          "data": {
            "text/plain": [
              "<Figure size 640x480 with 1 Axes>"
            ],
            "image/png": "[encoded data removed]"
          },
          "metadata": {}
        }
      ]
    },
    {
      "cell_type": "code",
      "source": [
        "df['Work_Life_Balance_Rating'].value_counts().plot(kind='bar', color='lightblue', edgecolor='black')\n",
        "plt.title('Work-Life Balance Rating')\n",
        "plt.xlabel('Rating')\n",
        "plt.ylabel('Count')\n",
        "plt.show()"
      ],
      "metadata": {
        "colab": {
          "base_uri": "https://localhost:8080/",
          "height": 467
        },
        "id": "6iytFVN5AGIF",
        "outputId": "de5335b3-e43e-42d3-be34-8232bdd39b23"
      },
      "execution_count": 110,
      "outputs": [
        {
          "output_type": "display_data",
          "data": {
            "text/plain": [
              "<Figure size 640x480 with 1 Axes>"
            ],
            "image/png": "[encoded data removed]"
          },
          "metadata": {}
        }
      ]
    },
    {
      "cell_type": "code",
      "source": [
        "df['Stress_Level'].value_counts().plot(kind='bar', color='red', edgecolor='black')\n",
        "plt.title('Stress Level Distribution')\n",
        "plt.xlabel('Stress Level')\n",
        "plt.ylabel('Count')\n",
        "plt.show()"
      ],
      "metadata": {
        "colab": {
          "base_uri": "https://localhost:8080/",
          "height": 513
        },
        "id": "ta3r-Dt_ALjY",
        "outputId": "c7b50728-2d83-4b4a-fdb2-eeb4ac05310e"
      },
      "execution_count": 111,
      "outputs": [
        {
          "output_type": "display_data",
          "data": {
            "text/plain": [
              "<Figure size 640x480 with 1 Axes>"
            ],
            "image/png": "[encoded data removed]"
          },
          "metadata": {}
        }
      ]
    },
    {
      "cell_type": "code",
      "source": [
        "df['Mental_Health_Condition'].value_counts().plot(kind='bar', color='purple', edgecolor='black')\n",
        "plt.title('Mental Health Condition')\n",
        "plt.xlabel('Mental Health Condition')\n",
        "plt.ylabel('Count')\n",
        "plt.show()"
      ],
      "metadata": {
        "colab": {
          "base_uri": "https://localhost:8080/",
          "height": 535
        },
        "id": "cDRFf88NAOTH",
        "outputId": "0996fa76-be5a-4b82-cbe1-b64367449eac"
      },
      "execution_count": 112,
      "outputs": [
        {
          "output_type": "display_data",
          "data": {
            "text/plain": [
              "<Figure size 640x480 with 1 Axes>"
            ],
            "image/png": "[encoded data removed]"
          },
          "metadata": {}
        }
      ]
    },
    {
      "cell_type": "code",
      "source": [
        "df['Access_to_Mental_Health_Resources'].value_counts().plot(kind='pie', autopct='%1.1f%%', colors=['green', 'lightcoral'])\n",
        "plt.title('Access to Mental Health Resources')\n",
        "plt.show()"
      ],
      "metadata": {
        "colab": {
          "base_uri": "https://localhost:8080/",
          "height": 428
        },
        "id": "6NT8JIm9ARkh",
        "outputId": "e99b4f67-e463-4f23-9511-5168f733984e"
      },
      "execution_count": 113,
      "outputs": [
        {
          "output_type": "display_data",
          "data": {
            "text/plain": [
              "<Figure size 640x480 with 1 Axes>"
            ],
            "image/png": "[encoded data removed]"
          },
          "metadata": {}
        }
      ]
    },
    {
      "cell_type": "code",
      "source": [
        "plt.hist(df['Productivity_Change'], bins=10, color='magenta', edgecolor='black')\n",
        "plt.title('Productivity Change')\n",
        "plt.xlabel('Productivity Change')\n",
        "plt.ylabel('Frequency')\n",
        "plt.show()"
      ],
      "metadata": {
        "colab": {
          "base_uri": "https://localhost:8080/",
          "height": 472
        },
        "id": "vZjWyA8pAVUq",
        "outputId": "85dce230-6abc-47ec-d36a-d1b0b357db16"
      },
      "execution_count": 114,
      "outputs": [
        {
          "output_type": "display_data",
          "data": {
            "text/plain": [
              "<Figure size 640x480 with 1 Axes>"
            ],
            "image/png": "[encoded data removed]"
          },
          "metadata": {}
        }
      ]
    },
    {
      "cell_type": "code",
      "source": [
        "df['Social_Isolation_Rating'].value_counts().plot(kind='bar', color='blue', edgecolor='black')\n",
        "plt.title('Social Isolation Rating')\n",
        "plt.xlabel('Rating')\n",
        "plt.ylabel('Count')\n",
        "plt.show()"
      ],
      "metadata": {
        "colab": {
          "base_uri": "https://localhost:8080/",
          "height": 467
        },
        "id": "quqUowkiAaMU",
        "outputId": "f8321181-64ff-44ff-fe5f-70ef14f6dad1"
      },
      "execution_count": 115,
      "outputs": [
        {
          "output_type": "display_data",
          "data": {
            "text/plain": [
              "<Figure size 640x480 with 1 Axes>"
            ],
            "image/png": "[encoded data removed]"
          },
          "metadata": {}
        }
      ]
    },
    {
      "cell_type": "code",
      "source": [
        "df['Satisfaction_with_Remote_Work'].value_counts().plot(kind='bar', color='orange', edgecolor='black')\n",
        "plt.title('Satisfaction with Remote Work')\n",
        "plt.xlabel('Satisfaction Level')\n",
        "plt.ylabel('Count')\n",
        "plt.show()"
      ],
      "metadata": {
        "colab": {
          "base_uri": "https://localhost:8080/",
          "height": 535
        },
        "id": "myEGJ__VAc_i",
        "outputId": "b97e75dc-6cac-4a79-cd29-c8baf46f0163"
      },
      "execution_count": 116,
      "outputs": [
        {
          "output_type": "display_data",
          "data": {
            "text/plain": [
              "<Figure size 640x480 with 1 Axes>"
            ],
            "image/png": "[encoded data removed]"
          },
          "metadata": {}
        }
      ]
    },
    {
      "cell_type": "code",
      "source": [
        "df['Company_Support_for_Remote_Work'].value_counts().plot(kind='bar', color='green', edgecolor='black')\n",
        "plt.title('Company Support for Remote Work')\n",
        "plt.xlabel('Support Level')\n",
        "plt.ylabel('Count')\n",
        "plt.show()"
      ],
      "metadata": {
        "colab": {
          "base_uri": "https://localhost:8080/",
          "height": 467
        },
        "id": "CKD55MCOAgJV",
        "outputId": "99496d30-8052-401b-f8ff-f8989b464a96"
      },
      "execution_count": 117,
      "outputs": [
        {
          "output_type": "display_data",
          "data": {
            "text/plain": [
              "<Figure size 640x480 with 1 Axes>"
            ],
            "image/png": "[encoded data removed]"
          },
          "metadata": {}
        }
      ]
    },
    {
      "cell_type": "code",
      "source": [
        "plt.hist(df['Physical_Activity'], bins=10, color='lightgreen', edgecolor='black')\n",
        "plt.title('Physical Activity')\n",
        "plt.xlabel('Physical Activity Level')\n",
        "plt.ylabel('Frequency')\n",
        "plt.show()"
      ],
      "metadata": {
        "colab": {
          "base_uri": "https://localhost:8080/",
          "height": 472
        },
        "id": "Md2I9CujAi2g",
        "outputId": "71232133-0164-4775-d307-1f0a362bd611"
      },
      "execution_count": 118,
      "outputs": [
        {
          "output_type": "display_data",
          "data": {
            "text/plain": [
              "<Figure size 640x480 with 1 Axes>"
            ],
            "image/png": "[encoded data removed]"
          },
          "metadata": {}
        }
      ]
    },
    {
      "cell_type": "code",
      "source": [
        "df['Region'].value_counts().plot(kind='bar', color='lightblue', edgecolor='black')\n",
        "plt.title('Region Distribution')\n",
        "plt.xlabel('Region')\n",
        "plt.ylabel('Count')\n",
        "plt.xticks(rotation=45)\n",
        "plt.show()"
      ],
      "metadata": {
        "colab": {
          "base_uri": "https://localhost:8080/",
          "height": 540
        },
        "id": "qkp7dg1QAmOx",
        "outputId": "d698e7f5-f9bc-4020-f855-637986b2d2ef"
      },
      "execution_count": 119,
      "outputs": [
        {
          "output_type": "display_data",
          "data": {
            "text/plain": [
              "<Figure size 640x480 with 1 Axes>"
            ],
            "image/png": "[encoded data removed]"
          },
          "metadata": {}
        }
      ]
    },
    {
      "cell_type": "code",
      "source": [
        "df.info()"
      ],
      "metadata": {
        "colab": {
          "base_uri": "https://localhost:8080/"
        },
        "id": "mCnfShuYAqLa",
        "outputId": "ef90948d-3194-4781-f3a4-06b9e12b5044"
      },
      "execution_count": 120,
      "outputs": [
        {
          "output_type": "stream",
          "name": "stdout",
          "text": [
            "<class 'pandas.core.frame.DataFrame'>\n",
            "Index: 2577 entries, 0 to 4997\n",
            "Data columns (total 20 columns):\n",
            " #   Column                             Non-Null Count  Dtype \n",
            "---  ------                             --------------  ----- \n",
            " 0   Employee_ID                        2577 non-null   object\n",
            " 1   Age                                2577 non-null   int64 \n",
            " 2   Gender                             2577 non-null   object\n",
            " 3   Job_Role                           2577 non-null   object\n",
            " 4   Industry                           2577 non-null   object\n",
            " 5   Years_of_Experience                2577 non-null   int64 \n",
            " 6   Work_Location                      2577 non-null   object\n",
            " 7   Hours_Worked_Per_Week              2577 non-null   int64 \n",
            " 8   Number_of_Virtual_Meetings         2577 non-null   int64 \n",
            " 9   Work_Life_Balance_Rating           2577 non-null   int64 \n",
            " 10  Stress_Level                       2577 non-null   object\n",
            " 11  Mental_Health_Condition            2577 non-null   object\n",
            " 12  Access_to_Mental_Health_Resources  2577 non-null   object\n",
            " 13  Productivity_Change                2577 non-null   object\n",
            " 14  Social_Isolation_Rating            2577 non-null   int64 \n",
            " 15  Satisfaction_with_Remote_Work      2577 non-null   object\n",
            " 16  Company_Support_for_Remote_Work    2577 non-null   int64 \n",
            " 17  Physical_Activity                  2577 non-null   object\n",
            " 18  Sleep_Quality                      2577 non-null   object\n",
            " 19  Region                             2577 non-null   object\n",
            "dtypes: int64(7), object(13)\n",
            "memory usage: 422.8+ KB\n"
          ]
        }
      ]
    },
    {
      "cell_type": "code",
      "source": [
        "# Drop Employee_ID\n",
        "df = df.drop('Employee_ID', axis=1)"
      ],
      "metadata": {
        "id": "qql-5muoAvU5"
      },
      "execution_count": 121,
      "outputs": []
    },
    {
      "cell_type": "code",
      "source": [
        "from sklearn.preprocessing import LabelEncoder\n",
        "\n",
        "# Initialize LabelEncoder\n",
        "le = LabelEncoder()\n",
        "\n",
        "# Apply label encoding to the 'Physical_Activity' column\n",
        "df['Physical_Activity'] = le.fit_transform(df['Physical_Activity'])"
      ],
      "metadata": {
        "id": "eGY76sIAA1IW"
      },
      "execution_count": 122,
      "outputs": []
    },
    {
      "cell_type": "code",
      "source": [
        "df.info()"
      ],
      "metadata": {
        "colab": {
          "base_uri": "https://localhost:8080/"
        },
        "id": "eLsxp609BB8W",
        "outputId": "2273eb6f-53e6-4dd3-eba8-3ded214b6ac5"
      },
      "execution_count": 124,
      "outputs": [
        {
          "output_type": "stream",
          "name": "stdout",
          "text": [
            "<class 'pandas.core.frame.DataFrame'>\n",
            "Index: 2577 entries, 0 to 4997\n",
            "Data columns (total 19 columns):\n",
            " #   Column                             Non-Null Count  Dtype \n",
            "---  ------                             --------------  ----- \n",
            " 0   Age                                2577 non-null   int64 \n",
            " 1   Gender                             2577 non-null   object\n",
            " 2   Job_Role                           2577 non-null   object\n",
            " 3   Industry                           2577 non-null   object\n",
            " 4   Years_of_Experience                2577 non-null   int64 \n",
            " 5   Work_Location                      2577 non-null   object\n",
            " 6   Hours_Worked_Per_Week              2577 non-null   int64 \n",
            " 7   Number_of_Virtual_Meetings         2577 non-null   int64 \n",
            " 8   Work_Life_Balance_Rating           2577 non-null   int64 \n",
            " 9   Stress_Level                       2577 non-null   object\n",
            " 10  Mental_Health_Condition            2577 non-null   object\n",
            " 11  Access_to_Mental_Health_Resources  2577 non-null   object\n",
            " 12  Productivity_Change                2577 non-null   object\n",
            " 13  Social_Isolation_Rating            2577 non-null   int64 \n",
            " 14  Satisfaction_with_Remote_Work      2577 non-null   object\n",
            " 15  Company_Support_for_Remote_Work    2577 non-null   int64 \n",
            " 16  Physical_Activity                  2577 non-null   int64 \n",
            " 17  Sleep_Quality                      2577 non-null   object\n",
            " 18  Region                             2577 non-null   object\n",
            "dtypes: int64(8), object(11)\n",
            "memory usage: 402.7+ KB\n"
          ]
        }
      ]
    },
    {
      "cell_type": "code",
      "source": [
        "from sklearn.preprocessing import StandardScaler\n",
        "\n",
        "# List of numerical columns\n",
        "numerical_cols = df.select_dtypes(include=['int64']).columns\n",
        "\n",
        "# Initialize StandardScaler\n",
        "scaler = StandardScaler()\n",
        "\n",
        "# Apply scaling to numerical columns\n",
        "df[numerical_cols] = scaler.fit_transform(df[numerical_cols])"
      ],
      "metadata": {
        "id": "1S65Q97TA88I"
      },
      "execution_count": 125,
      "outputs": []
    },
    {
      "cell_type": "code",
      "source": [
        "print(df.head())\n",
        "print(df.info())"
      ],
      "metadata": {
        "colab": {
          "base_uri": "https://localhost:8080/"
        },
        "id": "HAiiizjrBEBY",
        "outputId": "90ec991c-d160-47cf-b141-afccb2d3a8b1"
      },
      "execution_count": 126,
      "outputs": [
        {
          "output_type": "stream",
          "name": "stdout",
          "text": [
            "         Age             Gender        Job_Role    Industry  \\\n",
            "0  -0.791644         Non-binary              HR  Healthcare   \n",
            "1  -0.080912             Female  Data Scientist          IT   \n",
            "6  -0.880486  Prefer not to say           Sales          IT   \n",
            "9  -0.969327             Female              HR          IT   \n",
            "12 -0.080912             Female       Marketing  Consulting   \n",
            "\n",
            "    Years_of_Experience Work_Location  Hours_Worked_Per_Week  \\\n",
            "0             -0.477010        Hybrid               0.619797   \n",
            "1             -1.479012        Remote               1.040538   \n",
            "6              0.625192        Remote               0.956390   \n",
            "9              1.025992        Hybrid               1.461279   \n",
            "12            -1.679413        Remote              -1.568056   \n",
            "\n",
            "    Number_of_Virtual_Meetings  Work_Life_Balance_Rating Stress_Level  \\\n",
            "0                     -0.09727                 -0.697464       Medium   \n",
            "1                     -0.75061                 -1.405088       Medium   \n",
            "6                     -0.09727                  0.010160          Low   \n",
            "9                     -0.31505                 -1.405088          Low   \n",
            "12                    -0.09727                 -0.697464         High   \n",
            "\n",
            "   Mental_Health_Condition Access_to_Mental_Health_Resources  \\\n",
            "0               Depression                                No   \n",
            "1                  Anxiety                                No   \n",
            "6                  Anxiety                               Yes   \n",
            "9               Depression                               Yes   \n",
            "12              Depression                               Yes   \n",
            "\n",
            "   Productivity_Change  Social_Isolation_Rating Satisfaction_with_Remote_Work  \\\n",
            "0             Decrease                -1.443961                   Unsatisfied   \n",
            "1             Increase                -0.003075                     Satisfied   \n",
            "6             Decrease                 1.437811                       Neutral   \n",
            "9             Decrease                -0.723518                       Neutral   \n",
            "12            Decrease                -0.723518                       Neutral   \n",
            "\n",
            "    Company_Support_for_Remote_Work  Physical_Activity Sleep_Quality  \\\n",
            "0                         -1.435221           0.949655          Good   \n",
            "1                         -0.718167           0.949655          Good   \n",
            "6                         -0.001113          -1.053014          Poor   \n",
            "9                         -1.435221           0.949655          Poor   \n",
            "12                        -1.435221           0.949655          Good   \n",
            "\n",
            "           Region  \n",
            "0          Europe  \n",
            "1            Asia  \n",
            "6            Asia  \n",
            "9   North America  \n",
            "12         Europe  \n",
            "<class 'pandas.core.frame.DataFrame'>\n",
            "Index: 2577 entries, 0 to 4997\n",
            "Data columns (total 19 columns):\n",
            " #   Column                             Non-Null Count  Dtype  \n",
            "---  ------                             --------------  -----  \n",
            " 0   Age                                2577 non-null   float64\n",
            " 1   Gender                             2577 non-null   object \n",
            " 2   Job_Role                           2577 non-null   object \n",
            " 3   Industry                           2577 non-null   object \n",
            " 4   Years_of_Experience                2577 non-null   float64\n",
            " 5   Work_Location                      2577 non-null   object \n",
            " 6   Hours_Worked_Per_Week              2577 non-null   float64\n",
            " 7   Number_of_Virtual_Meetings         2577 non-null   float64\n",
            " 8   Work_Life_Balance_Rating           2577 non-null   float64\n",
            " 9   Stress_Level                       2577 non-null   object \n",
            " 10  Mental_Health_Condition            2577 non-null   object \n",
            " 11  Access_to_Mental_Health_Resources  2577 non-null   object \n",
            " 12  Productivity_Change                2577 non-null   object \n",
            " 13  Social_Isolation_Rating            2577 non-null   float64\n",
            " 14  Satisfaction_with_Remote_Work      2577 non-null   object \n",
            " 15  Company_Support_for_Remote_Work    2577 non-null   float64\n",
            " 16  Physical_Activity                  2577 non-null   float64\n",
            " 17  Sleep_Quality                      2577 non-null   object \n",
            " 18  Region                             2577 non-null   object \n",
            "dtypes: float64(8), object(11)\n",
            "memory usage: 402.7+ KB\n",
            "None\n"
          ]
        }
      ]
    },
    {
      "cell_type": "code",
      "source": [
        "print(df['Mental_Health_Condition'].unique())"
      ],
      "metadata": {
        "colab": {
          "base_uri": "https://localhost:8080/"
        },
        "id": "5Q6wX37hBMp6",
        "outputId": "3a216bd8-bb69-4629-89b3-860fa9118c80"
      },
      "execution_count": 127,
      "outputs": [
        {
          "output_type": "stream",
          "name": "stdout",
          "text": [
            "['Depression' 'Anxiety' 'Burnout']\n"
          ]
        }
      ]
    },
    {
      "cell_type": "code",
      "source": [
        "print(df['Mental_Health_Condition'].isnull().sum())"
      ],
      "metadata": {
        "colab": {
          "base_uri": "https://localhost:8080/"
        },
        "id": "XiE-7rZ9BaBm",
        "outputId": "f5c5991c-c24c-45e6-bb0a-ba22ceaaef9c"
      },
      "execution_count": 128,
      "outputs": [
        {
          "output_type": "stream",
          "name": "stdout",
          "text": [
            "0\n"
          ]
        }
      ]
    },
    {
      "cell_type": "code",
      "source": [
        "df = df.dropna(subset=['Mental_Health_Condition'])\n"
      ],
      "metadata": {
        "id": "rBwJKcmYBd69"
      },
      "execution_count": 129,
      "outputs": []
    },
    {
      "cell_type": "code",
      "source": [
        "from sklearn.model_selection import train_test_split\n",
        "from sklearn.preprocessing import StandardScaler, LabelEncoder\n",
        "from sklearn.ensemble import RandomForestClassifier\n",
        "from sklearn.multioutput import MultiOutputClassifier\n",
        "from sklearn.metrics import classification_report\n",
        "from sklearn.metrics import ConfusionMatrixDisplay"
      ],
      "metadata": {
        "id": "gyiyJD6QBl6i"
      },
      "execution_count": 130,
      "outputs": []
    },
    {
      "cell_type": "code",
      "source": [
        "categorical_columns = ['Gender', 'Job_Role', 'Industry', 'Work_Location',\n",
        "                       'Stress_Level', 'Mental_Health_Condition',\n",
        "                       'Access_to_Mental_Health_Resources',\n",
        "                       'Productivity_Change', 'Satisfaction_with_Remote_Work',\n",
        "                       'Sleep_Quality', 'Region']"
      ],
      "metadata": {
        "id": "ywb_bNsfBn2H"
      },
      "execution_count": 131,
      "outputs": []
    },
    {
      "cell_type": "code",
      "source": [
        "df_encoded = pd.get_dummies(df, columns=categorical_columns, drop_first=True)\n"
      ],
      "metadata": {
        "id": "IxBFuL-NBq_I"
      },
      "execution_count": 132,
      "outputs": []
    },
    {
      "cell_type": "code",
      "source": [
        "# Separate features and targets\n",
        "X = df_encoded.drop(['Stress_Level_Medium', 'Productivity_Change_Increase'], axis=1)\n",
        "y = df_encoded[['Stress_Level_Medium', 'Productivity_Change_Increase']]  # Adjust based on your needs"
      ],
      "metadata": {
        "id": "Ml9dMWUVBv1K"
      },
      "execution_count": 133,
      "outputs": []
    },
    {
      "cell_type": "code",
      "source": [
        "# Split into train and test sets\n",
        "X_train, X_test, y_train, y_test = train_test_split(X, y, test_size=0.3, random_state=42)"
      ],
      "metadata": {
        "id": "GQquTHGrBzeV"
      },
      "execution_count": 134,
      "outputs": []
    },
    {
      "cell_type": "code",
      "source": [
        "scaler = StandardScaler()\n",
        "X_train = scaler.fit_transform(X_train)\n",
        "X_test = scaler.transform(X_test)"
      ],
      "metadata": {
        "id": "Mo-rGlQ2B3a7"
      },
      "execution_count": 135,
      "outputs": []
    },
    {
      "cell_type": "code",
      "source": [
        "rf_model = RandomForestClassifier(n_estimators=100, random_state=42)\n",
        "multi_target_model = MultiOutputClassifier(rf_model, n_jobs=-1)"
      ],
      "metadata": {
        "id": "B_sxMbL5B6K_"
      },
      "execution_count": 136,
      "outputs": []
    },
    {
      "cell_type": "code",
      "source": [
        "multi_target_model.fit(X_train, y_train)\n"
      ],
      "metadata": {
        "colab": {
          "base_uri": "https://localhost:8080/",
          "height": 136
        },
        "id": "QgqIMNCXB78s",
        "outputId": "9137ff87-d3da-4dc9-ace3-e0e744951dc4"
      },
      "execution_count": 137,
      "outputs": [
        {
          "output_type": "execute_result",
          "data": {
            "text/plain": [
              "MultiOutputClassifier(estimator=RandomForestClassifier(random_state=42),\n",
              "                      n_jobs=-1)"
            ],
            "text/html": [
              "<style>#sk-container-id-2 {\n",
              "  /* Definition of color scheme common for light and dark mode */\n",
              "  --sklearn-color-text: black;\n",
              "  --sklearn-color-line: gray;\n",
              "  /* Definition of color scheme for unfitted estimators */\n",
              "  --sklearn-color-unfitted-level-0: #fff5e6;\n",
              "  --sklearn-color-unfitted-level-1: #f6e4d2;\n",
              "  --sklearn-color-unfitted-level-2: #ffe0b3;\n",
              "  --sklearn-color-unfitted-level-3: chocolate;\n",
              "  /* Definition of color scheme for fitted estimators */\n",
              "  --sklearn-color-fitted-level-0: #f0f8ff;\n",
              "  --sklearn-color-fitted-level-1: #d4ebff;\n",
              "  --sklearn-color-fitted-level-2: #b3dbfd;\n",
              "  --sklearn-color-fitted-level-3: cornflowerblue;\n",
              "\n",
              "  /* Specific color for light theme */\n",
              "  --sklearn-color-text-on-default-background: var(--sg-text-color, var(--theme-code-foreground, var(--jp-content-font-color1, black)));\n",
              "  --sklearn-color-background: var(--sg-background-color, var(--theme-background, var(--jp-layout-color0, white)));\n",
              "  --sklearn-color-border-box: var(--sg-text-color, var(--theme-code-foreground, var(--jp-content-font-color1, black)));\n",
              "  --sklearn-color-icon: #696969;\n",
              "\n",
              "  @media (prefers-color-scheme: dark) {\n",
              "    /* Redefinition of color scheme for dark theme */\n",
              "    --sklearn-color-text-on-default-background: var(--sg-text-color, var(--theme-code-foreground, var(--jp-content-font-color1, white)));\n",
              "    --sklearn-color-background: var(--sg-background-color, var(--theme-background, var(--jp-layout-color0, #111)));\n",
              "    --sklearn-color-border-box: var(--sg-text-color, var(--theme-code-foreground, var(--jp-content-font-color1, white)));\n",
              "    --sklearn-color-icon: #878787;\n",
              "  }\n",
              "}\n",
              "\n",
              "#sk-container-id-2 {\n",
              "  color: var(--sklearn-color-text);\n",
              "}\n",
              "\n",
              "#sk-container-id-2 pre {\n",
              "  padding: 0;\n",
              "}\n",
              "\n",
              "#sk-container-id-2 input.sk-hidden--visually {\n",
              "  border: 0;\n",
              "  clip: rect(1px 1px 1px 1px);\n",
              "  clip: rect(1px, 1px, 1px, 1px);\n",
              "  height: 1px;\n",
              "  margin: -1px;\n",
              "  overflow: hidden;\n",
              "  padding: 0;\n",
              "  position: absolute;\n",
              "  width: 1px;\n",
              "}\n",
              "\n",
              "#sk-container-id-2 div.sk-dashed-wrapped {\n",
              "  border: 1px dashed var(--sklearn-color-line);\n",
              "  margin: 0 0.4em 0.5em 0.4em;\n",
              "  box-sizing: border-box;\n",
              "  padding-bottom: 0.4em;\n",
              "  background-color: var(--sklearn-color-background);\n",
              "}\n",
              "\n",
              "#sk-container-id-2 div.sk-container {\n",
              "  /* jupyter's `normalize.less` sets `[hidden] { display: none; }`\n",
              "     but bootstrap.min.css set `[hidden] { display: none !important; }`\n",
              "     so we also need the `!important` here to be able to override the\n",
              "     default hidden behavior on the sphinx rendered scikit-learn.org.\n",
              "     See: https://github.com/scikit-learn/scikit-learn/issues/21755 */\n",
              "  display: inline-block !important;\n",
              "  position: relative;\n",
              "}\n",
              "\n",
              "#sk-container-id-2 div.sk-text-repr-fallback {\n",
              "  display: none;\n",
              "}\n",
              "\n",
              "div.sk-parallel-item,\n",
              "div.sk-serial,\n",
              "div.sk-item {\n",
              "  /* draw centered vertical line to link estimators */\n",
              "  background-image: linear-gradient(var(--sklearn-color-text-on-default-background), var(--sklearn-color-text-on-default-background));\n",
              "  background-size: 2px 100%;\n",
              "  background-repeat: no-repeat;\n",
              "  background-position: center center;\n",
              "}\n",
              "\n",
              "/* Parallel-specific style estimator block */\n",
              "\n",
              "#sk-container-id-2 div.sk-parallel-item::after {\n",
              "  content: \"\";\n",
              "  width: 100%;\n",
              "  border-bottom: 2px solid var(--sklearn-color-text-on-default-background);\n",
              "  flex-grow: 1;\n",
              "}\n",
              "\n",
              "#sk-container-id-2 div.sk-parallel {\n",
              "  display: flex;\n",
              "  align-items: stretch;\n",
              "  justify-content: center;\n",
              "  background-color: var(--sklearn-color-background);\n",
              "  position: relative;\n",
              "}\n",
              "\n",
              "#sk-container-id-2 div.sk-parallel-item {\n",
              "  display: flex;\n",
              "  flex-direction: column;\n",
              "}\n",
              "\n",
              "#sk-container-id-2 div.sk-parallel-item:first-child::after {\n",
              "  align-self: flex-end;\n",
              "  width: 50%;\n",
              "}\n",
              "\n",
              "#sk-container-id-2 div.sk-parallel-item:last-child::after {\n",
              "  align-self: flex-start;\n",
              "  width: 50%;\n",
              "}\n",
              "\n",
              "#sk-container-id-2 div.sk-parallel-item:only-child::after {\n",
              "  width: 0;\n",
              "}\n",
              "\n",
              "/* Serial-specific style estimator block */\n",
              "\n",
              "#sk-container-id-2 div.sk-serial {\n",
              "  display: flex;\n",
              "  flex-direction: column;\n",
              "  align-items: center;\n",
              "  background-color: var(--sklearn-color-background);\n",
              "  padding-right: 1em;\n",
              "  padding-left: 1em;\n",
              "}\n",
              "\n",
              "\n",
              "/* Toggleable style: style used for estimator/Pipeline/ColumnTransformer box that is\n",
              "clickable and can be expanded/collapsed.\n",
              "- Pipeline and ColumnTransformer use this feature and define the default style\n",
              "- Estimators will overwrite some part of the style using the `sk-estimator` class\n",
              "*/\n",
              "\n",
              "/* Pipeline and ColumnTransformer style (default) */\n",
              "\n",
              "#sk-container-id-2 div.sk-toggleable {\n",
              "  /* Default theme specific background. It is overwritten whether we have a\n",
              "  specific estimator or a Pipeline/ColumnTransformer */\n",
              "  background-color: var(--sklearn-color-background);\n",
              "}\n",
              "\n",
              "/* Toggleable label */\n",
              "#sk-container-id-2 label.sk-toggleable__label {\n",
              "  cursor: pointer;\n",
              "  display: block;\n",
              "  width: 100%;\n",
              "  margin-bottom: 0;\n",
              "  padding: 0.5em;\n",
              "  box-sizing: border-box;\n",
              "  text-align: center;\n",
              "}\n",
              "\n",
              "#sk-container-id-2 label.sk-toggleable__label-arrow:before {\n",
              "  /* Arrow on the left of the label */\n",
              "  content: \"▸\";\n",
              "  float: left;\n",
              "  margin-right: 0.25em;\n",
              "  color: var(--sklearn-color-icon);\n",
              "}\n",
              "\n",
              "#sk-container-id-2 label.sk-toggleable__label-arrow:hover:before {\n",
              "  color: var(--sklearn-color-text);\n",
              "}\n",
              "\n",
              "/* Toggleable content - dropdown */\n",
              "\n",
              "#sk-container-id-2 div.sk-toggleable__content {\n",
              "  max-height: 0;\n",
              "  max-width: 0;\n",
              "  overflow: hidden;\n",
              "  text-align: left;\n",
              "  /* unfitted */\n",
              "  background-color: var(--sklearn-color-unfitted-level-0);\n",
              "}\n",
              "\n",
              "#sk-container-id-2 div.sk-toggleable__content.fitted {\n",
              "  /* fitted */\n",
              "  background-color: var(--sklearn-color-fitted-level-0);\n",
              "}\n",
              "\n",
              "#sk-container-id-2 div.sk-toggleable__content pre {\n",
              "  margin: 0.2em;\n",
              "  border-radius: 0.25em;\n",
              "  color: var(--sklearn-color-text);\n",
              "  /* unfitted */\n",
              "  background-color: var(--sklearn-color-unfitted-level-0);\n",
              "}\n",
              "\n",
              "#sk-container-id-2 div.sk-toggleable__content.fitted pre {\n",
              "  /* unfitted */\n",
              "  background-color: var(--sklearn-color-fitted-level-0);\n",
              "}\n",
              "\n",
              "#sk-container-id-2 input.sk-toggleable__control:checked~div.sk-toggleable__content {\n",
              "  /* Expand drop-down */\n",
              "  max-height: 200px;\n",
              "  max-width: 100%;\n",
              "  overflow: auto;\n",
              "}\n",
              "\n",
              "#sk-container-id-2 input.sk-toggleable__control:checked~label.sk-toggleable__label-arrow:before {\n",
              "  content: \"▾\";\n",
              "}\n",
              "\n",
              "/* Pipeline/ColumnTransformer-specific style */\n",
              "\n",
              "#sk-container-id-2 div.sk-label input.sk-toggleable__control:checked~label.sk-toggleable__label {\n",
              "  color: var(--sklearn-color-text);\n",
              "  background-color: var(--sklearn-color-unfitted-level-2);\n",
              "}\n",
              "\n",
              "#sk-container-id-2 div.sk-label.fitted input.sk-toggleable__control:checked~label.sk-toggleable__label {\n",
              "  background-color: var(--sklearn-color-fitted-level-2);\n",
              "}\n",
              "\n",
              "/* Estimator-specific style */\n",
              "\n",
              "/* Colorize estimator box */\n",
              "#sk-container-id-2 div.sk-estimator input.sk-toggleable__control:checked~label.sk-toggleable__label {\n",
              "  /* unfitted */\n",
              "  background-color: var(--sklearn-color-unfitted-level-2);\n",
              "}\n",
              "\n",
              "#sk-container-id-2 div.sk-estimator.fitted input.sk-toggleable__control:checked~label.sk-toggleable__label {\n",
              "  /* fitted */\n",
              "  background-color: var(--sklearn-color-fitted-level-2);\n",
              "}\n",
              "\n",
              "#sk-container-id-2 div.sk-label label.sk-toggleable__label,\n",
              "#sk-container-id-2 div.sk-label label {\n",
              "  /* The background is the default theme color */\n",
              "  color: var(--sklearn-color-text-on-default-background);\n",
              "}\n",
              "\n",
              "/* On hover, darken the color of the background */\n",
              "#sk-container-id-2 div.sk-label:hover label.sk-toggleable__label {\n",
              "  color: var(--sklearn-color-text);\n",
              "  background-color: var(--sklearn-color-unfitted-level-2);\n",
              "}\n",
              "\n",
              "/* Label box, darken color on hover, fitted */\n",
              "#sk-container-id-2 div.sk-label.fitted:hover label.sk-toggleable__label.fitted {\n",
              "  color: var(--sklearn-color-text);\n",
              "  background-color: var(--sklearn-color-fitted-level-2);\n",
              "}\n",
              "\n",
              "/* Estimator label */\n",
              "\n",
              "#sk-container-id-2 div.sk-label label {\n",
              "  font-family: monospace;\n",
              "  font-weight: bold;\n",
              "  display: inline-block;\n",
              "  line-height: 1.2em;\n",
              "}\n",
              "\n",
              "#sk-container-id-2 div.sk-label-container {\n",
              "  text-align: center;\n",
              "}\n",
              "\n",
              "/* Estimator-specific */\n",
              "#sk-container-id-2 div.sk-estimator {\n",
              "  font-family: monospace;\n",
              "  border: 1px dotted var(--sklearn-color-border-box);\n",
              "  border-radius: 0.25em;\n",
              "  box-sizing: border-box;\n",
              "  margin-bottom: 0.5em;\n",
              "  /* unfitted */\n",
              "  background-color: var(--sklearn-color-unfitted-level-0);\n",
              "}\n",
              "\n",
              "#sk-container-id-2 div.sk-estimator.fitted {\n",
              "  /* fitted */\n",
              "  background-color: var(--sklearn-color-fitted-level-0);\n",
              "}\n",
              "\n",
              "/* on hover */\n",
              "#sk-container-id-2 div.sk-estimator:hover {\n",
              "  /* unfitted */\n",
              "  background-color: var(--sklearn-color-unfitted-level-2);\n",
              "}\n",
              "\n",
              "#sk-container-id-2 div.sk-estimator.fitted:hover {\n",
              "  /* fitted */\n",
              "  background-color: var(--sklearn-color-fitted-level-2);\n",
              "}\n",
              "\n",
              "/* Specification for estimator info (e.g. \"i\" and \"?\") */\n",
              "\n",
              "/* Common style for \"i\" and \"?\" */\n",
              "\n",
              ".sk-estimator-doc-link,\n",
              "a:link.sk-estimator-doc-link,\n",
              "a:visited.sk-estimator-doc-link {\n",
              "  float: right;\n",
              "  font-size: smaller;\n",
              "  line-height: 1em;\n",
              "  font-family: monospace;\n",
              "  background-color: var(--sklearn-color-background);\n",
              "  border-radius: 1em;\n",
              "  height: 1em;\n",
              "  width: 1em;\n",
              "  text-decoration: none !important;\n",
              "  margin-left: 1ex;\n",
              "  /* unfitted */\n",
              "  border: var(--sklearn-color-unfitted-level-1) 1pt solid;\n",
              "  color: var(--sklearn-color-unfitted-level-1);\n",
              "}\n",
              "\n",
              ".sk-estimator-doc-link.fitted,\n",
              "a:link.sk-estimator-doc-link.fitted,\n",
              "a:visited.sk-estimator-doc-link.fitted {\n",
              "  /* fitted */\n",
              "  border: var(--sklearn-color-fitted-level-1) 1pt solid;\n",
              "  color: var(--sklearn-color-fitted-level-1);\n",
              "}\n",
              "\n",
              "/* On hover */\n",
              "div.sk-estimator:hover .sk-estimator-doc-link:hover,\n",
              ".sk-estimator-doc-link:hover,\n",
              "div.sk-label-container:hover .sk-estimator-doc-link:hover,\n",
              ".sk-estimator-doc-link:hover {\n",
              "  /* unfitted */\n",
              "  background-color: var(--sklearn-color-unfitted-level-3);\n",
              "  color: var(--sklearn-color-background);\n",
              "  text-decoration: none;\n",
              "}\n",
              "\n",
              "div.sk-estimator.fitted:hover .sk-estimator-doc-link.fitted:hover,\n",
              ".sk-estimator-doc-link.fitted:hover,\n",
              "div.sk-label-container:hover .sk-estimator-doc-link.fitted:hover,\n",
              ".sk-estimator-doc-link.fitted:hover {\n",
              "  /* fitted */\n",
              "  background-color: var(--sklearn-color-fitted-level-3);\n",
              "  color: var(--sklearn-color-background);\n",
              "  text-decoration: none;\n",
              "}\n",
              "\n",
              "/* Span, style for the box shown on hovering the info icon */\n",
              ".sk-estimator-doc-link span {\n",
              "  display: none;\n",
              "  z-index: 9999;\n",
              "  position: relative;\n",
              "  font-weight: normal;\n",
              "  right: .2ex;\n",
              "  padding: .5ex;\n",
              "  margin: .5ex;\n",
              "  width: min-content;\n",
              "  min-width: 20ex;\n",
              "  max-width: 50ex;\n",
              "  color: var(--sklearn-color-text);\n",
              "  box-shadow: 2pt 2pt 4pt #999;\n",
              "  /* unfitted */\n",
              "  background: var(--sklearn-color-unfitted-level-0);\n",
              "  border: .5pt solid var(--sklearn-color-unfitted-level-3);\n",
              "}\n",
              "\n",
              ".sk-estimator-doc-link.fitted span {\n",
              "  /* fitted */\n",
              "  background: var(--sklearn-color-fitted-level-0);\n",
              "  border: var(--sklearn-color-fitted-level-3);\n",
              "}\n",
              "\n",
              ".sk-estimator-doc-link:hover span {\n",
              "  display: block;\n",
              "}\n",
              "\n",
              "/* \"?\"-specific style due to the `<a>` HTML tag */\n",
              "\n",
              "#sk-container-id-2 a.estimator_doc_link {\n",
              "  float: right;\n",
              "  font-size: 1rem;\n",
              "  line-height: 1em;\n",
              "  font-family: monospace;\n",
              "  background-color: var(--sklearn-color-background);\n",
              "  border-radius: 1rem;\n",
              "  height: 1rem;\n",
              "  width: 1rem;\n",
              "  text-decoration: none;\n",
              "  /* unfitted */\n",
              "  color: var(--sklearn-color-unfitted-level-1);\n",
              "  border: var(--sklearn-color-unfitted-level-1) 1pt solid;\n",
              "}\n",
              "\n",
              "#sk-container-id-2 a.estimator_doc_link.fitted {\n",
              "  /* fitted */\n",
              "  border: var(--sklearn-color-fitted-level-1) 1pt solid;\n",
              "  color: var(--sklearn-color-fitted-level-1);\n",
              "}\n",
              "\n",
              "/* On hover */\n",
              "#sk-container-id-2 a.estimator_doc_link:hover {\n",
              "  /* unfitted */\n",
              "  background-color: var(--sklearn-color-unfitted-level-3);\n",
              "  color: var(--sklearn-color-background);\n",
              "  text-decoration: none;\n",
              "}\n",
              "\n",
              "#sk-container-id-2 a.estimator_doc_link.fitted:hover {\n",
              "  /* fitted */\n",
              "  background-color: var(--sklearn-color-fitted-level-3);\n",
              "}\n",
              "</style><div id=\"sk-container-id-2\" class=\"sk-top-container\"><div class=\"sk-text-repr-fallback\"><pre>MultiOutputClassifier(estimator=RandomForestClassifier(random_state=42),\n",
              "                      n_jobs=-1)</pre><b>In a Jupyter environment, please rerun this cell to show the HTML representation or trust the notebook. <br />On GitHub, the HTML representation is unable to render, please try loading this page with nbviewer.org.</b></div><div class=\"sk-container\" hidden><div class=\"sk-item sk-dashed-wrapped\"><div class=\"sk-label-container\"><div class=\"sk-label fitted sk-toggleable\"><input class=\"sk-toggleable__control sk-hidden--visually\" id=\"sk-estimator-id-4\" type=\"checkbox\" ><label for=\"sk-estimator-id-4\" class=\"sk-toggleable__label fitted sk-toggleable__label-arrow fitted\">&nbsp;&nbsp;MultiOutputClassifier<a class=\"sk-estimator-doc-link fitted\" rel=\"noreferrer\" target=\"_blank\" href=\"https://scikit-learn.org/1.5/modules/generated/sklearn.multioutput.MultiOutputClassifier.html\">?<span>Documentation for MultiOutputClassifier</span></a><span class=\"sk-estimator-doc-link fitted\">i<span>Fitted</span></span></label><div class=\"sk-toggleable__content fitted\"><pre>MultiOutputClassifier(estimator=RandomForestClassifier(random_state=42),\n",
              "                      n_jobs=-1)</pre></div> </div></div><div class=\"sk-parallel\"><div class=\"sk-parallel-item\"><div class=\"sk-item\"><div class=\"sk-label-container\"><div class=\"sk-label fitted sk-toggleable\"><input class=\"sk-toggleable__control sk-hidden--visually\" id=\"sk-estimator-id-5\" type=\"checkbox\" ><label for=\"sk-estimator-id-5\" class=\"sk-toggleable__label fitted sk-toggleable__label-arrow fitted\">estimator: RandomForestClassifier</label><div class=\"sk-toggleable__content fitted\"><pre>RandomForestClassifier(random_state=42)</pre></div> </div></div><div class=\"sk-serial\"><div class=\"sk-item\"><div class=\"sk-estimator fitted sk-toggleable\"><input class=\"sk-toggleable__control sk-hidden--visually\" id=\"sk-estimator-id-6\" type=\"checkbox\" ><label for=\"sk-estimator-id-6\" class=\"sk-toggleable__label fitted sk-toggleable__label-arrow fitted\">&nbsp;RandomForestClassifier<a class=\"sk-estimator-doc-link fitted\" rel=\"noreferrer\" target=\"_blank\" href=\"https://scikit-learn.org/1.5/modules/generated/sklearn.ensemble.RandomForestClassifier.html\">?<span>Documentation for RandomForestClassifier</span></a></label><div class=\"sk-toggleable__content fitted\"><pre>RandomForestClassifier(random_state=42)</pre></div> </div></div></div></div></div></div></div></div></div>"
            ]
          },
          "metadata": {},
          "execution_count": 137
        }
      ]
    },
    {
      "cell_type": "code",
      "source": [
        "y_pred = multi_target_model.predict(X_test)\n"
      ],
      "metadata": {
        "id": "QD6QWKYgB_YA"
      },
      "execution_count": 138,
      "outputs": []
    },
    {
      "cell_type": "code",
      "source": [
        "print(\"Classification Report for Stress Level:\")\n",
        "print(classification_report(y_test['Stress_Level_Medium'], y_pred[:, 0], target_names=['Low_Stress', 'High_Stress']))"
      ],
      "metadata": {
        "colab": {
          "base_uri": "https://localhost:8080/"
        },
        "id": "wagH200mCBUQ",
        "outputId": "17e97451-1acc-4273-ccd5-cae76a3566a4"
      },
      "execution_count": 139,
      "outputs": [
        {
          "output_type": "stream",
          "name": "stdout",
          "text": [
            "Classification Report for Stress Level:\n",
            "              precision    recall  f1-score   support\n",
            "\n",
            "  Low_Stress       0.70      0.84      0.77       510\n",
            " High_Stress       0.51      0.32      0.39       264\n",
            "\n",
            "    accuracy                           0.66       774\n",
            "   macro avg       0.61      0.58      0.58       774\n",
            "weighted avg       0.64      0.66      0.64       774\n",
            "\n"
          ]
        }
      ]
    },
    {
      "cell_type": "code",
      "source": [
        "print(\"\\nClassification Report for Productivity Change:\")\n",
        "print(classification_report(y_test['Productivity_Change_Increase'], y_pred[:, 1], target_names=['Decrease_Prod', 'Increase_Prod']))"
      ],
      "metadata": {
        "colab": {
          "base_uri": "https://localhost:8080/"
        },
        "id": "p-Oe73qtCFHg",
        "outputId": "cced736e-1435-428b-ca4a-71b23674af31"
      },
      "execution_count": 140,
      "outputs": [
        {
          "output_type": "stream",
          "name": "stdout",
          "text": [
            "\n",
            "Classification Report for Productivity Change:\n",
            "               precision    recall  f1-score   support\n",
            "\n",
            "Decrease_Prod       0.73      0.88      0.80       546\n",
            "Increase_Prod       0.43      0.21      0.29       228\n",
            "\n",
            "     accuracy                           0.68       774\n",
            "    macro avg       0.58      0.55      0.54       774\n",
            " weighted avg       0.64      0.68      0.65       774\n",
            "\n"
          ]
        }
      ]
    },
    {
      "cell_type": "code",
      "source": [
        "fig, ax = plt.subplots(1, 2, figsize=(14, 5))\n",
        "\n",
        "ConfusionMatrixDisplay.from_predictions(\n",
        "    y_test['Stress_Level_Medium'],\n",
        "    y_pred[:, 0],\n",
        "    display_labels=['Low_Stress', 'High_Stress'],\n",
        "    cmap='Blues',\n",
        "    ax=ax[0]\n",
        ")\n",
        "ax[0].set_title(\"Confusion Matrix for Stress Level\")\n",
        "\n",
        "\n",
        "# Plot confusion matrix for Productivity Change\n",
        "ConfusionMatrixDisplay.from_predictions(\n",
        "    y_test['Productivity_Change_Increase'],\n",
        "    y_pred[:, 1],\n",
        "    display_labels=['Decrease_Prod', 'Increase_Prod'],\n",
        "    cmap='Greens',\n",
        "    ax=ax[1]\n",
        ")\n",
        "ax[1].set_title(\"Confusion Matrix for Productivity Change\")\n",
        "\n",
        "plt.tight_layout()\n",
        "plt.show()"
      ],
      "metadata": {
        "colab": {
          "base_uri": "https://localhost:8080/",
          "height": 507
        },
        "id": "Mos1DtuCCMdK",
        "outputId": "709786c0-4184-47e9-fa97-5fd0c6ce44f3"
      },
      "execution_count": 141,
      "outputs": [
        {
          "output_type": "display_data",
          "data": {
            "text/plain": [
              "<Figure size 1400x500 with 4 Axes>"
            ],
            "image/png": "[encoded data removed]"
          },
          "metadata": {}
        }
      ]
    },
    {
      "cell_type": "code",
      "source": [],
      "metadata": {
        "id": "sQromTtFKwYK"
      },
      "execution_count": null,
      "outputs": []
    },
    {
      "cell_type": "code",
      "source": [
        "from sklearn.cluster import KMeans\n",
        "\n",
        "# تعداد خوشه‌ها\n",
        "n_clusters = 3\n",
        "\n",
        "# اجرای الگوریتم K-Means\n",
        "kmeans = KMeans(n_clusters=n_clusters, random_state=42)\n",
        "kmeans.fit(X)\n",
        "y_kmeans = kmeans.predict(X)"
      ],
      "metadata": {
        "id": "vNp91Bi2DbQI"
      },
      "execution_count": 151,
      "outputs": []
    },
    {
      "cell_type": "code",
      "source": [
        "from sklearn.metrics import silhouette_score\n",
        "\n",
        "# محاسبه نمره سیلوئت\n",
        "silhouette_avg = silhouette_score(X, y_kmeans)\n",
        "print(f'Silhouette Score: {silhouette_avg}')"
      ],
      "metadata": {
        "colab": {
          "base_uri": "https://localhost:8080/"
        },
        "id": "MCUj5Lf3DzAD",
        "outputId": "eb50e624-c884-4346-a0ad-c0634f665974"
      },
      "execution_count": 143,
      "outputs": [
        {
          "output_type": "stream",
          "name": "stdout",
          "text": [
            "Silhouette Score: 0.05377391351382272\n"
          ]
        }
      ]
    },
    {
      "cell_type": "code",
      "source": [
        "from sklearn.metrics import mean_squared_error\n",
        "# محاسبه MSE\n",
        "mse_list = []\n",
        "for i in range(n_clusters):\n",
        "    cluster_points = X[y_kmeans == i]\n",
        "    cluster_center = kmeans.cluster_centers_[i]\n",
        "    mse = mean_squared_error(cluster_points, [cluster_center] * len(cluster_points))\n",
        "    mse_list.append(mse)\n",
        "\n",
        "print(\"Mean Squared Error for each cluster:\")\n",
        "for i, mse in enumerate(mse_list):\n",
        "    print(f\"Cluster {i}: MSE = {mse}\")"
      ],
      "metadata": {
        "colab": {
          "base_uri": "https://localhost:8080/"
        },
        "id": "_0JdXCmnImAL",
        "outputId": "41f04a01-d513-4735-80b4-292b4ed9d65b"
      },
      "execution_count": 144,
      "outputs": [
        {
          "output_type": "stream",
          "name": "stdout",
          "text": [
            "Mean Squared Error for each cluster:\n",
            "Cluster 0: MSE = 0.31369922897311814\n",
            "Cluster 1: MSE = 0.29928168172501185\n",
            "Cluster 2: MSE = 0.2978800155301072\n"
          ]
        }
      ]
    },
    {
      "cell_type": "code",
      "source": [
        "X"
      ],
      "metadata": {
        "colab": {
          "base_uri": "https://localhost:8080/",
          "height": 461
        },
        "id": "D9xJB1amMe90",
        "outputId": "7b832000-419f-400d-905f-da68ad83f26d"
      },
      "execution_count": 156,
      "outputs": [
        {
          "output_type": "execute_result",
          "data": {
            "text/plain": [
              "           Age  Years_of_Experience  Hours_Worked_Per_Week  \\\n",
              "0    -0.791644            -0.477010               0.619797   \n",
              "1    -0.080912            -1.479012               1.040538   \n",
              "6    -0.880486             0.625192               0.956390   \n",
              "9    -0.969327             1.025992               1.461279   \n",
              "12   -0.080912            -1.679413              -1.568056   \n",
              "...        ...                  ...                    ...   \n",
              "4991  1.695918            -0.877811               1.461279   \n",
              "4992  1.251710             0.324591               0.451501   \n",
              "4994 -0.080912            -0.076210               1.040538   \n",
              "4995 -0.791644            -1.378812              -1.315612   \n",
              "4997  0.096771             0.324591              -0.474130   \n",
              "\n",
              "      Number_of_Virtual_Meetings  Work_Life_Balance_Rating  \\\n",
              "0                      -0.097270                 -0.697464   \n",
              "1                      -0.750610                 -1.405088   \n",
              "6                      -0.097270                  0.010160   \n",
              "9                      -0.315050                 -1.405088   \n",
              "12                     -0.097270                 -0.697464   \n",
              "...                          ...                       ...   \n",
              "4991                   -0.750610                 -0.697464   \n",
              "4992                   -0.097270                 -0.697464   \n",
              "4994                   -1.403949                 -0.697464   \n",
              "4995                   -1.186169                  1.425408   \n",
              "4997                   -1.403949                  0.717784   \n",
              "\n",
              "      Social_Isolation_Rating  Company_Support_for_Remote_Work  \\\n",
              "0                   -1.443961                        -1.435221   \n",
              "1                   -0.003075                        -0.718167   \n",
              "6                    1.437811                        -0.001113   \n",
              "9                   -0.723518                        -1.435221   \n",
              "12                  -0.723518                        -1.435221   \n",
              "...                       ...                              ...   \n",
              "4991                 0.717368                         1.432995   \n",
              "4992                -0.723518                        -0.001113   \n",
              "4994                -0.003075                         1.432995   \n",
              "4995                 0.717368                        -1.435221   \n",
              "4997                -0.003075                        -1.435221   \n",
              "\n",
              "      Physical_Activity  Gender_Male  Gender_Non-binary  ...  \\\n",
              "0              0.949655        False               True  ...   \n",
              "1              0.949655        False              False  ...   \n",
              "6             -1.053014        False              False  ...   \n",
              "9              0.949655        False              False  ...   \n",
              "12             0.949655        False              False  ...   \n",
              "...                 ...          ...                ...  ...   \n",
              "4991           0.949655        False              False  ...   \n",
              "4992          -1.053014        False              False  ...   \n",
              "4994          -1.053014        False              False  ...   \n",
              "4995           0.949655         True              False  ...   \n",
              "4997          -1.053014        False              False  ...   \n",
              "\n",
              "      Productivity_Change_No Change  Satisfaction_with_Remote_Work_Satisfied  \\\n",
              "0                             False                                    False   \n",
              "1                             False                                     True   \n",
              "6                             False                                    False   \n",
              "9                             False                                    False   \n",
              "12                            False                                    False   \n",
              "...                             ...                                      ...   \n",
              "4991                          False                                     True   \n",
              "4992                           True                                     True   \n",
              "4994                          False                                    False   \n",
              "4995                          False                                    False   \n",
              "4997                          False                                     True   \n",
              "\n",
              "      Satisfaction_with_Remote_Work_Unsatisfied  Sleep_Quality_Good  \\\n",
              "0                                          True                True   \n",
              "1                                         False                True   \n",
              "6                                         False               False   \n",
              "9                                         False               False   \n",
              "12                                        False                True   \n",
              "...                                         ...                 ...   \n",
              "4991                                      False               False   \n",
              "4992                                      False               False   \n",
              "4994                                      False                True   \n",
              "4995                                      False               False   \n",
              "4997                                      False               False   \n",
              "\n",
              "      Sleep_Quality_Poor  Region_Asia  Region_Europe  Region_North America  \\\n",
              "0                  False        False           True                 False   \n",
              "1                  False         True          False                 False   \n",
              "6                   True         True          False                 False   \n",
              "9                   True        False          False                  True   \n",
              "12                 False        False           True                 False   \n",
              "...                  ...          ...            ...                   ...   \n",
              "4991               False        False          False                 False   \n",
              "4992                True        False          False                 False   \n",
              "4994               False        False          False                 False   \n",
              "4995               False         True          False                 False   \n",
              "4997                True        False          False                 False   \n",
              "\n",
              "      Region_Oceania  Region_South America  \n",
              "0              False                 False  \n",
              "1              False                 False  \n",
              "6              False                 False  \n",
              "9              False                 False  \n",
              "12             False                 False  \n",
              "...              ...                   ...  \n",
              "4991            True                 False  \n",
              "4992           False                 False  \n",
              "4994            True                 False  \n",
              "4995           False                 False  \n",
              "4997            True                 False  \n",
              "\n",
              "[2577 rows x 39 columns]"
            ],
            "text/html": [
              "\n",
              "  <div id=\"df-cfa43634-7bb6-48ae-b1c8-7ffaae500888\" class=\"colab-df-container\">\n",
              "    <div>\n",
              "<style scoped>\n",
              "    .dataframe tbody tr th:only-of-type {\n",
              "        vertical-align: middle;\n",
              "    }\n",
              "\n",
              "    .dataframe tbody tr th {\n",
              "        vertical-align: top;\n",
              "    }\n",
              "\n",
              "    .dataframe thead th {\n",
              "        text-align: right;\n",
              "    }\n",
              "</style>\n",
              "<table border=\"1\" class=\"dataframe\">\n",
              "  <thead>\n",
              "    <tr style=\"text-align: right;\">\n",
              "      <th></th>\n",
              "      <th>Age</th>\n",
              "      <th>Years_of_Experience</th>\n",
              "      <th>Hours_Worked_Per_Week</th>\n",
              "      <th>Number_of_Virtual_Meetings</th>\n",
              "      <th>Work_Life_Balance_Rating</th>\n",
              "      <th>Social_Isolation_Rating</th>\n",
              "      <th>Company_Support_for_Remote_Work</th>\n",
              "      <th>Physical_Activity</th>\n",
              "      <th>Gender_Male</th>\n",
              "      <th>Gender_Non-binary</th>\n",
              "      <th>...</th>\n",
              "      <th>Productivity_Change_No Change</th>\n",
              "      <th>Satisfaction_with_Remote_Work_Satisfied</th>\n",
              "      <th>Satisfaction_with_Remote_Work_Unsatisfied</th>\n",
              "      <th>Sleep_Quality_Good</th>\n",
              "      <th>Sleep_Quality_Poor</th>\n",
              "      <th>Region_Asia</th>\n",
              "      <th>Region_Europe</th>\n",
              "      <th>Region_North America</th>\n",
              "      <th>Region_Oceania</th>\n",
              "      <th>Region_South America</th>\n",
              "    </tr>\n",
              "  </thead>\n",
              "  <tbody>\n",
              "    <tr>\n",
              "      <th>0</th>\n",
              "      <td>-0.791644</td>\n",
              "      <td>-0.477010</td>\n",
              "      <td>0.619797</td>\n",
              "      <td>-0.097270</td>\n",
              "      <td>-0.697464</td>\n",
              "      <td>-1.443961</td>\n",
              "      <td>-1.435221</td>\n",
              "      <td>0.949655</td>\n",
              "      <td>False</td>\n",
              "      <td>True</td>\n",
              "      <td>...</td>\n",
              "      <td>False</td>\n",
              "      <td>False</td>\n",
              "      <td>True</td>\n",
              "      <td>True</td>\n",
              "      <td>False</td>\n",
              "      <td>False</td>\n",
              "      <td>True</td>\n",
              "      <td>False</td>\n",
              "      <td>False</td>\n",
              "      <td>False</td>\n",
              "    </tr>\n",
              "    <tr>\n",
              "      <th>1</th>\n",
              "      <td>-0.080912</td>\n",
              "      <td>-1.479012</td>\n",
              "      <td>1.040538</td>\n",
              "      <td>-0.750610</td>\n",
              "      <td>-1.405088</td>\n",
              "      <td>-0.003075</td>\n",
              "      <td>-0.718167</td>\n",
              "      <td>0.949655</td>\n",
              "      <td>False</td>\n",
              "      <td>False</td>\n",
              "      <td>...</td>\n",
              "      <td>False</td>\n",
              "      <td>True</td>\n",
              "      <td>False</td>\n",
              "      <td>True</td>\n",
              "      <td>False</td>\n",
              "      <td>True</td>\n",
              "      <td>False</td>\n",
              "      <td>False</td>\n",
              "      <td>False</td>\n",
              "      <td>False</td>\n",
              "    </tr>\n",
              "    <tr>\n",
              "      <th>6</th>\n",
              "      <td>-0.880486</td>\n",
              "      <td>0.625192</td>\n",
              "      <td>0.956390</td>\n",
              "      <td>-0.097270</td>\n",
              "      <td>0.010160</td>\n",
              "      <td>1.437811</td>\n",
              "      <td>-0.001113</td>\n",
              "      <td>-1.053014</td>\n",
              "      <td>False</td>\n",
              "      <td>False</td>\n",
              "      <td>...</td>\n",
              "      <td>False</td>\n",
              "      <td>False</td>\n",
              "      <td>False</td>\n",
              "      <td>False</td>\n",
              "      <td>True</td>\n",
              "      <td>True</td>\n",
              "      <td>False</td>\n",
              "      <td>False</td>\n",
              "      <td>False</td>\n",
              "      <td>False</td>\n",
              "    </tr>\n",
              "    <tr>\n",
              "      <th>9</th>\n",
              "      <td>-0.969327</td>\n",
              "      <td>1.025992</td>\n",
              "      <td>1.461279</td>\n",
              "      <td>-0.315050</td>\n",
              "      <td>-1.405088</td>\n",
              "      <td>-0.723518</td>\n",
              "      <td>-1.435221</td>\n",
              "      <td>0.949655</td>\n",
              "      <td>False</td>\n",
              "      <td>False</td>\n",
              "      <td>...</td>\n",
              "      <td>False</td>\n",
              "      <td>False</td>\n",
              "      <td>False</td>\n",
              "      <td>False</td>\n",
              "      <td>True</td>\n",
              "      <td>False</td>\n",
              "      <td>False</td>\n",
              "      <td>True</td>\n",
              "      <td>False</td>\n",
              "      <td>False</td>\n",
              "    </tr>\n",
              "    <tr>\n",
              "      <th>12</th>\n",
              "      <td>-0.080912</td>\n",
              "      <td>-1.679413</td>\n",
              "      <td>-1.568056</td>\n",
              "      <td>-0.097270</td>\n",
              "      <td>-0.697464</td>\n",
              "      <td>-0.723518</td>\n",
              "      <td>-1.435221</td>\n",
              "      <td>0.949655</td>\n",
              "      <td>False</td>\n",
              "      <td>False</td>\n",
              "      <td>...</td>\n",
              "      <td>False</td>\n",
              "      <td>False</td>\n",
              "      <td>False</td>\n",
              "      <td>True</td>\n",
              "      <td>False</td>\n",
              "      <td>False</td>\n",
              "      <td>True</td>\n",
              "      <td>False</td>\n",
              "      <td>False</td>\n",
              "      <td>False</td>\n",
              "    </tr>\n",
              "    <tr>\n",
              "      <th>...</th>\n",
              "      <td>...</td>\n",
              "      <td>...</td>\n",
              "      <td>...</td>\n",
              "      <td>...</td>\n",
              "      <td>...</td>\n",
              "      <td>...</td>\n",
              "      <td>...</td>\n",
              "      <td>...</td>\n",
              "      <td>...</td>\n",
              "      <td>...</td>\n",
              "      <td>...</td>\n",
              "      <td>...</td>\n",
              "      <td>...</td>\n",
              "      <td>...</td>\n",
              "      <td>...</td>\n",
              "      <td>...</td>\n",
              "      <td>...</td>\n",
              "      <td>...</td>\n",
              "      <td>...</td>\n",
              "      <td>...</td>\n",
              "      <td>...</td>\n",
              "    </tr>\n",
              "    <tr>\n",
              "      <th>4991</th>\n",
              "      <td>1.695918</td>\n",
              "      <td>-0.877811</td>\n",
              "      <td>1.461279</td>\n",
              "      <td>-0.750610</td>\n",
              "      <td>-0.697464</td>\n",
              "      <td>0.717368</td>\n",
              "      <td>1.432995</td>\n",
              "      <td>0.949655</td>\n",
              "      <td>False</td>\n",
              "      <td>False</td>\n",
              "      <td>...</td>\n",
              "      <td>False</td>\n",
              "      <td>True</td>\n",
              "      <td>False</td>\n",
              "      <td>False</td>\n",
              "      <td>False</td>\n",
              "      <td>False</td>\n",
              "      <td>False</td>\n",
              "      <td>False</td>\n",
              "      <td>True</td>\n",
              "      <td>False</td>\n",
              "    </tr>\n",
              "    <tr>\n",
              "      <th>4992</th>\n",
              "      <td>1.251710</td>\n",
              "      <td>0.324591</td>\n",
              "      <td>0.451501</td>\n",
              "      <td>-0.097270</td>\n",
              "      <td>-0.697464</td>\n",
              "      <td>-0.723518</td>\n",
              "      <td>-0.001113</td>\n",
              "      <td>-1.053014</td>\n",
              "      <td>False</td>\n",
              "      <td>False</td>\n",
              "      <td>...</td>\n",
              "      <td>True</td>\n",
              "      <td>True</td>\n",
              "      <td>False</td>\n",
              "      <td>False</td>\n",
              "      <td>True</td>\n",
              "      <td>False</td>\n",
              "      <td>False</td>\n",
              "      <td>False</td>\n",
              "      <td>False</td>\n",
              "      <td>False</td>\n",
              "    </tr>\n",
              "    <tr>\n",
              "      <th>4994</th>\n",
              "      <td>-0.080912</td>\n",
              "      <td>-0.076210</td>\n",
              "      <td>1.040538</td>\n",
              "      <td>-1.403949</td>\n",
              "      <td>-0.697464</td>\n",
              "      <td>-0.003075</td>\n",
              "      <td>1.432995</td>\n",
              "      <td>-1.053014</td>\n",
              "      <td>False</td>\n",
              "      <td>False</td>\n",
              "      <td>...</td>\n",
              "      <td>False</td>\n",
              "      <td>False</td>\n",
              "      <td>False</td>\n",
              "      <td>True</td>\n",
              "      <td>False</td>\n",
              "      <td>False</td>\n",
              "      <td>False</td>\n",
              "      <td>False</td>\n",
              "      <td>True</td>\n",
              "      <td>False</td>\n",
              "    </tr>\n",
              "    <tr>\n",
              "      <th>4995</th>\n",
              "      <td>-0.791644</td>\n",
              "      <td>-1.378812</td>\n",
              "      <td>-1.315612</td>\n",
              "      <td>-1.186169</td>\n",
              "      <td>1.425408</td>\n",
              "      <td>0.717368</td>\n",
              "      <td>-1.435221</td>\n",
              "      <td>0.949655</td>\n",
              "      <td>True</td>\n",
              "      <td>False</td>\n",
              "      <td>...</td>\n",
              "      <td>False</td>\n",
              "      <td>False</td>\n",
              "      <td>False</td>\n",
              "      <td>False</td>\n",
              "      <td>False</td>\n",
              "      <td>True</td>\n",
              "      <td>False</td>\n",
              "      <td>False</td>\n",
              "      <td>False</td>\n",
              "      <td>False</td>\n",
              "    </tr>\n",
              "    <tr>\n",
              "      <th>4997</th>\n",
              "      <td>0.096771</td>\n",
              "      <td>0.324591</td>\n",
              "      <td>-0.474130</td>\n",
              "      <td>-1.403949</td>\n",
              "      <td>0.717784</td>\n",
              "      <td>-0.003075</td>\n",
              "      <td>-1.435221</td>\n",
              "      <td>-1.053014</td>\n",
              "      <td>False</td>\n",
              "      <td>False</td>\n",
              "      <td>...</td>\n",
              "      <td>False</td>\n",
              "      <td>True</td>\n",
              "      <td>False</td>\n",
              "      <td>False</td>\n",
              "      <td>True</td>\n",
              "      <td>False</td>\n",
              "      <td>False</td>\n",
              "      <td>False</td>\n",
              "      <td>True</td>\n",
              "      <td>False</td>\n",
              "    </tr>\n",
              "  </tbody>\n",
              "</table>\n",
              "<p>2577 rows × 39 columns</p>\n",
              "</div>\n",
              "    <div class=\"colab-df-buttons\">\n",
              "\n",
              "  <div class=\"colab-df-container\">\n",
              "    <button class=\"colab-df-convert\" onclick=\"convertToInteractive('df-cfa43634-7bb6-48ae-b1c8-7ffaae500888')\"\n",
              "            title=\"Convert this dataframe to an interactive table.\"\n",
              "            style=\"display:none;\">\n",
              "\n",
              "  <svg xmlns=\"http://www.w3.org/2000/svg\" height=\"24px\" viewBox=\"0 -960 960 960\">\n",
              "    <path d=\"M120-120v-720h720v720H120Zm60-500h600v-160H180v160Zm220 220h160v-160H400v160Zm0 220h160v-160H400v160ZM180-400h160v-160H180v160Zm440 0h160v-160H620v160ZM180-180h160v-160H180v160Zm440 0h160v-160H620v160Z\"/>\n",
              "  </svg>\n",
              "    </button>\n",
              "\n",
              "  <style>\n",
              "    .colab-df-container {\n",
              "      display:flex;\n",
              "      gap: 12px;\n",
              "    }\n",
              "\n",
              "    .colab-df-convert {\n",
              "      background-color: #E8F0FE;\n",
              "      border: none;\n",
              "      border-radius: 50%;\n",
              "      cursor: pointer;\n",
              "      display: none;\n",
              "      fill: #1967D2;\n",
              "      height: 32px;\n",
              "      padding: 0 0 0 0;\n",
              "      width: 32px;\n",
              "    }\n",
              "\n",
              "    .colab-df-convert:hover {\n",
              "      background-color: #E2EBFA;\n",
              "      box-shadow: 0px 1px 2px rgba(60, 64, 67, 0.3), 0px 1px 3px 1px rgba(60, 64, 67, 0.15);\n",
              "      fill: #174EA6;\n",
              "    }\n",
              "\n",
              "    .colab-df-buttons div {\n",
              "      margin-bottom: 4px;\n",
              "    }\n",
              "\n",
              "    [theme=dark] .colab-df-convert {\n",
              "      background-color: #3B4455;\n",
              "      fill: #D2E3FC;\n",
              "    }\n",
              "\n",
              "    [theme=dark] .colab-df-convert:hover {\n",
              "      background-color: #434B5C;\n",
              "      box-shadow: 0px 1px 3px 1px rgba(0, 0, 0, 0.15);\n",
              "      filter: drop-shadow(0px 1px 2px rgba(0, 0, 0, 0.3));\n",
              "      fill: #FFFFFF;\n",
              "    }\n",
              "  </style>\n",
              "\n",
              "    <script>\n",
              "      const buttonEl =\n",
              "        document.querySelector('#df-cfa43634-7bb6-48ae-b1c8-7ffaae500888 button.colab-df-convert');\n",
              "      buttonEl.style.display =\n",
              "        google.colab.kernel.accessAllowed ? 'block' : 'none';\n",
              "\n",
              "      async function convertToInteractive(key) {\n",
              "        const element = document.querySelector('#df-cfa43634-7bb6-48ae-b1c8-7ffaae500888');\n",
              "        const dataTable =\n",
              "          await google.colab.kernel.invokeFunction('convertToInteractive',\n",
              "                                                    [key], {});\n",
              "        if (!dataTable) return;\n",
              "\n",
              "        const docLinkHtml = 'Like what you see? Visit the ' +\n",
              "          '<a target=\"_blank\" href=https://colab.research.google.com/notebooks/data_table.ipynb>data table notebook</a>'\n",
              "          + ' to learn more about interactive tables.';\n",
              "        element.innerHTML = '';\n",
              "        dataTable['output_type'] = 'display_data';\n",
              "        await google.colab.output.renderOutput(dataTable, element);\n",
              "        const docLink = document.createElement('div');\n",
              "        docLink.innerHTML = docLinkHtml;\n",
              "        element.appendChild(docLink);\n",
              "      }\n",
              "    </script>\n",
              "  </div>\n",
              "\n",
              "\n",
              "<div id=\"df-2723772e-eb17-4b2b-b677-b98138c5fc5c\">\n",
              "  <button class=\"colab-df-quickchart\" onclick=\"quickchart('df-2723772e-eb17-4b2b-b677-b98138c5fc5c')\"\n",
              "            title=\"Suggest charts\"\n",
              "            style=\"display:none;\">\n",
              "\n",
              "<svg xmlns=\"http://www.w3.org/2000/svg\" height=\"24px\"viewBox=\"0 0 24 24\"\n",
              "     width=\"24px\">\n",
              "    <g>\n",
              "        <path d=\"M19 3H5c-1.1 0-2 .9-2 2v14c0 1.1.9 2 2 2h14c1.1 0 2-.9 2-2V5c0-1.1-.9-2-2-2zM9 17H7v-7h2v7zm4 0h-2V7h2v10zm4 0h-2v-4h2v4z\"/>\n",
              "    </g>\n",
              "</svg>\n",
              "  </button>\n",
              "\n",
              "<style>\n",
              "  .colab-df-quickchart {\n",
              "      --bg-color: #E8F0FE;\n",
              "      --fill-color: #1967D2;\n",
              "      --hover-bg-color: #E2EBFA;\n",
              "      --hover-fill-color: #174EA6;\n",
              "      --disabled-fill-color: #AAA;\n",
              "      --disabled-bg-color: #DDD;\n",
              "  }\n",
              "\n",
              "  [theme=dark] .colab-df-quickchart {\n",
              "      --bg-color: #3B4455;\n",
              "      --fill-color: #D2E3FC;\n",
              "      --hover-bg-color: #434B5C;\n",
              "      --hover-fill-color: #FFFFFF;\n",
              "      --disabled-bg-color: #3B4455;\n",
              "      --disabled-fill-color: #666;\n",
              "  }\n",
              "\n",
              "  .colab-df-quickchart {\n",
              "    background-color: var(--bg-color);\n",
              "    border: none;\n",
              "    border-radius: 50%;\n",
              "    cursor: pointer;\n",
              "    display: none;\n",
              "    fill: var(--fill-color);\n",
              "    height: 32px;\n",
              "    padding: 0;\n",
              "    width: 32px;\n",
              "  }\n",
              "\n",
              "  .colab-df-quickchart:hover {\n",
              "    background-color: var(--hover-bg-color);\n",
              "    box-shadow: 0 1px 2px rgba(60, 64, 67, 0.3), 0 1px 3px 1px rgba(60, 64, 67, 0.15);\n",
              "    fill: var(--button-hover-fill-color);\n",
              "  }\n",
              "\n",
              "  .colab-df-quickchart-complete:disabled,\n",
              "  .colab-df-quickchart-complete:disabled:hover {\n",
              "    background-color: var(--disabled-bg-color);\n",
              "    fill: var(--disabled-fill-color);\n",
              "    box-shadow: none;\n",
              "  }\n",
              "\n",
              "  .colab-df-spinner {\n",
              "    border: 2px solid var(--fill-color);\n",
              "    border-color: transparent;\n",
              "    border-bottom-color: var(--fill-color);\n",
              "    animation:\n",
              "      spin 1s steps(1) infinite;\n",
              "  }\n",
              "\n",
              "  @keyframes spin {\n",
              "    0% {\n",
              "      border-color: transparent;\n",
              "      border-bottom-color: var(--fill-color);\n",
              "      border-left-color: var(--fill-color);\n",
              "    }\n",
              "    20% {\n",
              "      border-color: transparent;\n",
              "      border-left-color: var(--fill-color);\n",
              "      border-top-color: var(--fill-color);\n",
              "    }\n",
              "    30% {\n",
              "      border-color: transparent;\n",
              "      border-left-color: var(--fill-color);\n",
              "      border-top-color: var(--fill-color);\n",
              "      border-right-color: var(--fill-color);\n",
              "    }\n",
              "    40% {\n",
              "      border-color: transparent;\n",
              "      border-right-color: var(--fill-color);\n",
              "      border-top-color: var(--fill-color);\n",
              "    }\n",
              "    60% {\n",
              "      border-color: transparent;\n",
              "      border-right-color: var(--fill-color);\n",
              "    }\n",
              "    80% {\n",
              "      border-color: transparent;\n",
              "      border-right-color: var(--fill-color);\n",
              "      border-bottom-color: var(--fill-color);\n",
              "    }\n",
              "    90% {\n",
              "      border-color: transparent;\n",
              "      border-bottom-color: var(--fill-color);\n",
              "    }\n",
              "  }\n",
              "</style>\n",
              "\n",
              "  <script>\n",
              "    async function quickchart(key) {\n",
              "      const quickchartButtonEl =\n",
              "        document.querySelector('#' + key + ' button');\n",
              "      quickchartButtonEl.disabled = true;  // To prevent multiple clicks.\n",
              "      quickchartButtonEl.classList.add('colab-df-spinner');\n",
              "      try {\n",
              "        const charts = await google.colab.kernel.invokeFunction(\n",
              "            'suggestCharts', [key], {});\n",
              "      } catch (error) {\n",
              "        console.error('Error during call to suggestCharts:', error);\n",
              "      }\n",
              "      quickchartButtonEl.classList.remove('colab-df-spinner');\n",
              "      quickchartButtonEl.classList.add('colab-df-quickchart-complete');\n",
              "    }\n",
              "    (() => {\n",
              "      let quickchartButtonEl =\n",
              "        document.querySelector('#df-2723772e-eb17-4b2b-b677-b98138c5fc5c button');\n",
              "      quickchartButtonEl.style.display =\n",
              "        google.colab.kernel.accessAllowed ? 'block' : 'none';\n",
              "    })();\n",
              "  </script>\n",
              "</div>\n",
              "    </div>\n",
              "  </div>\n"
            ],
            "application/vnd.google.colaboratory.intrinsic+json": {
              "type": "dataframe",
              "variable_name": "X"
            }
          },
          "metadata": {},
          "execution_count": 156
        }
      ]
    },
    {
      "cell_type": "code",
      "source": [
        "# نمایش نتایج\n",
        "plt.figure(figsize=(10, 6))\n",
        "#plt.scatter(X[:, 0], X[:, 1], c=y_kmeans, cmap='viridis', marker='o', edgecolor='k', s=100)\n",
        "plt.scatter(X[:, 0], X.[:, 1], c=y_kmeans, cmap='viridis', marker='o', edgecolor='k', s=100)\n",
        "plt.scatter(kmeans.cluster_centers_[:, 0], kmeans.cluster_centers_[:, 1], c='red', s=300, alpha=0.75, marker='X')\n",
        "plt.title('K-Means Clustering on  Dataset')\n",
        "plt.xlabel('y')\n",
        "plt.ylabel('x')\n",
        "plt.show()"
      ],
      "metadata": {
        "colab": {
          "base_uri": "https://localhost:8080/",
          "height": 373
        },
        "id": "g1KPzdWbD5g9",
        "outputId": "0ae6d05e-0aa8-4268-f2de-02088ef5d2b4"
      },
      "execution_count": 157,
      "outputs": [
        {
          "output_type": "error",
          "ename": "KeyError",
          "evalue": "'key of type tuple not found and not a MultiIndex'",
          "traceback": [
            "\u001b[0;31m---------------------------------------------------------------------------\u001b[0m",
            "\u001b[0;31mKeyError\u001b[0m                                  Traceback (most recent call last)",
            "\u001b[0;32m<ipython-input-157-9e5d9479b094>\u001b[0m in \u001b[0;36m<cell line: 4>\u001b[0;34m()\u001b[0m\n\u001b[1;32m      2\u001b[0m \u001b[0mplt\u001b[0m\u001b[0;34m.\u001b[0m\u001b[0mfigure\u001b[0m\u001b[0;34m(\u001b[0m\u001b[0mfigsize\u001b[0m\u001b[0;34m=\u001b[0m\u001b[0;34m(\u001b[0m\u001b[0;36m10\u001b[0m\u001b[0;34m,\u001b[0m \u001b[0;36m6\u001b[0m\u001b[0;34m)\u001b[0m\u001b[0;34m)\u001b[0m\u001b[0;34m\u001b[0m\u001b[0;34m\u001b[0m\u001b[0m\n\u001b[1;32m      3\u001b[0m \u001b[0;31m#plt.scatter(X[:, 0], X[:, 1], c=y_kmeans, cmap='viridis', marker='o', edgecolor='k', s=100)\u001b[0m\u001b[0;34m\u001b[0m\u001b[0;34m\u001b[0m\u001b[0m\n\u001b[0;32m----> 4\u001b[0;31m \u001b[0mplt\u001b[0m\u001b[0;34m.\u001b[0m\u001b[0mscatter\u001b[0m\u001b[0;34m(\u001b[0m\u001b[0mX\u001b[0m\u001b[0;34m.\u001b[0m\u001b[0mHours_Worked_Per_Week\u001b[0m\u001b[0;34m[\u001b[0m\u001b[0;34m:\u001b[0m\u001b[0;34m,\u001b[0m \u001b[0;36m0\u001b[0m\u001b[0;34m]\u001b[0m\u001b[0;34m,\u001b[0m \u001b[0mX\u001b[0m\u001b[0;34m.\u001b[0m\u001b[0mHours_Worked_Per_Week\u001b[0m\u001b[0;34m[\u001b[0m\u001b[0;34m:\u001b[0m\u001b[0;34m,\u001b[0m \u001b[0;36m1\u001b[0m\u001b[0;34m]\u001b[0m\u001b[0;34m,\u001b[0m \u001b[0mc\u001b[0m\u001b[0;34m=\u001b[0m\u001b[0my_kmeans\u001b[0m\u001b[0;34m,\u001b[0m \u001b[0mcmap\u001b[0m\u001b[0;34m=\u001b[0m\u001b[0;34m'viridis'\u001b[0m\u001b[0;34m,\u001b[0m \u001b[0mmarker\u001b[0m\u001b[0;34m=\u001b[0m\u001b[0;34m'o'\u001b[0m\u001b[0;34m,\u001b[0m \u001b[0medgecolor\u001b[0m\u001b[0;34m=\u001b[0m\u001b[0;34m'k'\u001b[0m\u001b[0;34m,\u001b[0m \u001b[0ms\u001b[0m\u001b[0;34m=\u001b[0m\u001b[0;36m100\u001b[0m\u001b[0;34m)\u001b[0m\u001b[0;34m\u001b[0m\u001b[0;34m\u001b[0m\u001b[0m\n\u001b[0m\u001b[1;32m      5\u001b[0m \u001b[0mplt\u001b[0m\u001b[0;34m.\u001b[0m\u001b[0mscatter\u001b[0m\u001b[0;34m(\u001b[0m\u001b[0mkmeans\u001b[0m\u001b[0;34m.\u001b[0m\u001b[0mcluster_centers_\u001b[0m\u001b[0;34m[\u001b[0m\u001b[0;34m:\u001b[0m\u001b[0;34m,\u001b[0m \u001b[0;36m0\u001b[0m\u001b[0;34m]\u001b[0m\u001b[0;34m,\u001b[0m \u001b[0mkmeans\u001b[0m\u001b[0;34m.\u001b[0m\u001b[0mcluster_centers_\u001b[0m\u001b[0;34m[\u001b[0m\u001b[0;34m:\u001b[0m\u001b[0;34m,\u001b[0m \u001b[0;36m1\u001b[0m\u001b[0;34m]\u001b[0m\u001b[0;34m,\u001b[0m \u001b[0mc\u001b[0m\u001b[0;34m=\u001b[0m\u001b[0;34m'red'\u001b[0m\u001b[0;34m,\u001b[0m \u001b[0ms\u001b[0m\u001b[0;34m=\u001b[0m\u001b[0;36m300\u001b[0m\u001b[0;34m,\u001b[0m \u001b[0malpha\u001b[0m\u001b[0;34m=\u001b[0m\u001b[0;36m0.75\u001b[0m\u001b[0;34m,\u001b[0m \u001b[0mmarker\u001b[0m\u001b[0;34m=\u001b[0m\u001b[0;34m'X'\u001b[0m\u001b[0;34m)\u001b[0m\u001b[0;34m\u001b[0m\u001b[0;34m\u001b[0m\u001b[0m\n\u001b[1;32m      6\u001b[0m \u001b[0mplt\u001b[0m\u001b[0;34m.\u001b[0m\u001b[0mtitle\u001b[0m\u001b[0;34m(\u001b[0m\u001b[0;34m'K-Means Clustering on  Dataset'\u001b[0m\u001b[0;34m)\u001b[0m\u001b[0;34m\u001b[0m\u001b[0;34m\u001b[0m\u001b[0m\n",
            "\u001b[0;32m/usr/local/lib/python3.10/dist-packages/pandas/core/series.py\u001b[0m in \u001b[0;36m__getitem__\u001b[0;34m(self, key)\u001b[0m\n\u001b[1;32m   1151\u001b[0m             \u001b[0;32mreturn\u001b[0m \u001b[0mself\u001b[0m\u001b[0;34m.\u001b[0m\u001b[0m_get_rows_with_mask\u001b[0m\u001b[0;34m(\u001b[0m\u001b[0mkey\u001b[0m\u001b[0;34m)\u001b[0m\u001b[0;34m\u001b[0m\u001b[0;34m\u001b[0m\u001b[0m\n\u001b[1;32m   1152\u001b[0m \u001b[0;34m\u001b[0m\u001b[0m\n\u001b[0;32m-> 1153\u001b[0;31m         \u001b[0;32mreturn\u001b[0m \u001b[0mself\u001b[0m\u001b[0;34m.\u001b[0m\u001b[0m_get_with\u001b[0m\u001b[0;34m(\u001b[0m\u001b[0mkey\u001b[0m\u001b[0;34m)\u001b[0m\u001b[0;34m\u001b[0m\u001b[0;34m\u001b[0m\u001b[0m\n\u001b[0m\u001b[1;32m   1154\u001b[0m \u001b[0;34m\u001b[0m\u001b[0m\n\u001b[1;32m   1155\u001b[0m     \u001b[0;32mdef\u001b[0m \u001b[0m_get_with\u001b[0m\u001b[0;34m(\u001b[0m\u001b[0mself\u001b[0m\u001b[0;34m,\u001b[0m \u001b[0mkey\u001b[0m\u001b[0;34m)\u001b[0m\u001b[0;34m:\u001b[0m\u001b[0;34m\u001b[0m\u001b[0;34m\u001b[0m\u001b[0m\n",
            "\u001b[0;32m/usr/local/lib/python3.10/dist-packages/pandas/core/series.py\u001b[0m in \u001b[0;36m_get_with\u001b[0;34m(self, key)\u001b[0m\n\u001b[1;32m   1161\u001b[0m             )\n\u001b[1;32m   1162\u001b[0m         \u001b[0;32melif\u001b[0m \u001b[0misinstance\u001b[0m\u001b[0;34m(\u001b[0m\u001b[0mkey\u001b[0m\u001b[0;34m,\u001b[0m \u001b[0mtuple\u001b[0m\u001b[0;34m)\u001b[0m\u001b[0;34m:\u001b[0m\u001b[0;34m\u001b[0m\u001b[0;34m\u001b[0m\u001b[0m\n\u001b[0;32m-> 1163\u001b[0;31m             \u001b[0;32mreturn\u001b[0m \u001b[0mself\u001b[0m\u001b[0;34m.\u001b[0m\u001b[0m_get_values_tuple\u001b[0m\u001b[0;34m(\u001b[0m\u001b[0mkey\u001b[0m\u001b[0;34m)\u001b[0m\u001b[0;34m\u001b[0m\u001b[0;34m\u001b[0m\u001b[0m\n\u001b[0m\u001b[1;32m   1164\u001b[0m \u001b[0;34m\u001b[0m\u001b[0m\n\u001b[1;32m   1165\u001b[0m         \u001b[0;32melif\u001b[0m \u001b[0;32mnot\u001b[0m \u001b[0mis_list_like\u001b[0m\u001b[0;34m(\u001b[0m\u001b[0mkey\u001b[0m\u001b[0;34m)\u001b[0m\u001b[0;34m:\u001b[0m\u001b[0;34m\u001b[0m\u001b[0;34m\u001b[0m\u001b[0m\n",
            "\u001b[0;32m/usr/local/lib/python3.10/dist-packages/pandas/core/series.py\u001b[0m in \u001b[0;36m_get_values_tuple\u001b[0;34m(self, key)\u001b[0m\n\u001b[1;32m   1205\u001b[0m \u001b[0;34m\u001b[0m\u001b[0m\n\u001b[1;32m   1206\u001b[0m         \u001b[0;32mif\u001b[0m \u001b[0;32mnot\u001b[0m \u001b[0misinstance\u001b[0m\u001b[0;34m(\u001b[0m\u001b[0mself\u001b[0m\u001b[0;34m.\u001b[0m\u001b[0mindex\u001b[0m\u001b[0;34m,\u001b[0m \u001b[0mMultiIndex\u001b[0m\u001b[0;34m)\u001b[0m\u001b[0;34m:\u001b[0m\u001b[0;34m\u001b[0m\u001b[0;34m\u001b[0m\u001b[0m\n\u001b[0;32m-> 1207\u001b[0;31m             \u001b[0;32mraise\u001b[0m \u001b[0mKeyError\u001b[0m\u001b[0;34m(\u001b[0m\u001b[0;34m\"key of type tuple not found and not a MultiIndex\"\u001b[0m\u001b[0;34m)\u001b[0m\u001b[0;34m\u001b[0m\u001b[0;34m\u001b[0m\u001b[0m\n\u001b[0m\u001b[1;32m   1208\u001b[0m \u001b[0;34m\u001b[0m\u001b[0m\n\u001b[1;32m   1209\u001b[0m         \u001b[0;31m# If key is contained, would have returned by now\u001b[0m\u001b[0;34m\u001b[0m\u001b[0;34m\u001b[0m\u001b[0m\n",
            "\u001b[0;31mKeyError\u001b[0m: 'key of type tuple not found and not a MultiIndex'"
          ]
        },
        {
          "output_type": "display_data",
          "data": {
            "text/plain": [
              "<Figure size 1000x600 with 0 Axes>"
            ]
          },
          "metadata": {}
        }
      ]
    },
    {
      "cell_type": "code",
      "source": [
        "# مرحله 6: ارزیابی مدل\n",
        "accuracy = accuracy_score(y_test, y_pred)\n",
        "print(f'Accuracy: {accuracy * 100:.2f}%')"
      ],
      "metadata": {
        "id": "KvM5PN35Ri07"
      },
      "execution_count": null,
      "outputs": []
    }
  ]
}