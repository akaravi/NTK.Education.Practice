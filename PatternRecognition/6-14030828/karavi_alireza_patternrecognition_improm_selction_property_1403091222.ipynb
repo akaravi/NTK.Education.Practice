{
  "nbformat": 4,
  "nbformat_minor": 0,
  "metadata": {
    "colab": {
      "provenance": []
    },
    "kernelspec": {
      "name": "python3",
      "display_name": "Python 3"
    },
    "language_info": {
      "name": "python"
    }
  },
  "cells": [
    {
      "cell_type": "code",
      "execution_count": 1,
      "metadata": {
        "colab": {
          "base_uri": "https://localhost:8080/"
        },
        "id": "sr6DY1XGIiFg",
        "outputId": "39b7b2a4-3628-4e43-83c3-53eb451486ba"
      },
      "outputs": [
        {
          "output_type": "stream",
          "name": "stdout",
          "text": [
            "Accuracy without feature selection:\n",
            "Random Forest: 0.87\n",
            "KNN: 0.88\n",
            "SVM: 0.66\n",
            "\n",
            "Accuracy with feature selection:\n",
            "Random Forest: 0.83\n",
            "KNN: 0.84\n",
            "SVM: 0.66\n"
          ]
        }
      ],
      "source": [
        "# Import necessary libraries\n",
        "import pandas as pd\n",
        "from sklearn.datasets import make_classification\n",
        "from sklearn.model_selection import train_test_split\n",
        "from sklearn.ensemble import RandomForestClassifier\n",
        "from sklearn.neighbors import KNeighborsClassifier\n",
        "from sklearn.svm import SVC\n",
        "from sklearn.feature_selection import SelectFromModel\n",
        "from sklearn.metrics import accuracy_score\n",
        "\n",
        "# Generate a synthetic dataset with 1000 samples and 10 features\n",
        "X, y = make_classification(n_samples=1000, n_features=10, n_informative=8, n_redundant=2, random_state=42)\n",
        "\n",
        "# Split the dataset into training and testing sets\n",
        "X_train, X_test, y_train, y_test = train_test_split(X, y, test_size=0.2, random_state=42)\n",
        "\n",
        "# Define models\n",
        "models = {\n",
        "    \"Random Forest\": RandomForestClassifier(random_state=42),\n",
        "    \"KNN\": KNeighborsClassifier(),\n",
        "    \"SVM\": SVC(kernel='linear', random_state=42)\n",
        "}\n",
        "\n",
        "# Function to evaluate model accuracy\n",
        "def evaluate_model(model, X_train, X_test, y_train, y_test):\n",
        "    model.fit(X_train, y_train)\n",
        "    y_pred = model.predict(X_test)\n",
        "    return accuracy_score(y_test, y_pred)\n",
        "\n",
        "# Evaluate models without feature selection\n",
        "print(\"Accuracy without feature selection:\")\n",
        "for name, model in models.items():\n",
        "    accuracy = evaluate_model(model, X_train, X_test, y_train, y_test)\n",
        "    print(f\"{name}: {accuracy:.2f}\")\n",
        "\n",
        "# Perform feature selection using Random Forest\n",
        "selector = SelectFromModel(RandomForestClassifier(n_estimators=100, random_state=42))\n",
        "selector.fit(X_train, y_train)\n",
        "\n",
        "# Transform datasets\n",
        "X_train_selected = selector.transform(X_train)\n",
        "X_test_selected = selector.transform(X_test)\n",
        "\n",
        "# Evaluate models with feature selection\n",
        "print(\"\\nAccuracy with feature selection:\")\n",
        "for name, model in models.items():\n",
        "    accuracy = evaluate_model(model, X_train_selected, X_test_selected, y_train, y_test)\n",
        "    print(f\"{name}: {accuracy:.2f}\")"
      ]
    }
  ]
}