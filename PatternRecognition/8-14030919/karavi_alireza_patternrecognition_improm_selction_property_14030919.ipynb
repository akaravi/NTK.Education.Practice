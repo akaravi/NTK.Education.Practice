{
  "nbformat": 4,
  "nbformat_minor": 0,
  "metadata": {
    "colab": {
      "provenance": []
    },
    "kernelspec": {
      "name": "python3",
      "display_name": "Python 3"
    },
    "language_info": {
      "name": "python"
    }
  },
  "cells": [
    {
      "cell_type": "code",
      "source": [
        "# Import necessary libraries\n",
        "import pandas as pd\n",
        "import numpy as np\n",
        "from sklearn.model_selection import train_test_split\n",
        "from sklearn.preprocessing import StandardScaler\n",
        "from sklearn.linear_model import LogisticRegression\n",
        "from sklearn.metrics import accuracy_score, confusion_matrix, classification_report\n"
      ],
      "metadata": {
        "id": "UN8iPvBEq_VH"
      },
      "execution_count": 12,
      "outputs": []
    },
    {
      "cell_type": "code",
      "execution_count": 13,
      "metadata": {
        "colab": {
          "base_uri": "https://localhost:8080/"
        },
        "id": "3KFw0cRGvOzb",
        "outputId": "2d3e9fde-bbb0-45fc-8e07-7b8ccdf62706"
      },
      "outputs": [
        {
          "output_type": "stream",
          "name": "stdout",
          "text": [
            "Accuracy: 0.97\n",
            "Confusion Matrix:\n",
            "[[70  1]\n",
            " [ 2 41]]\n",
            "\n",
            "Classification Report:\n",
            "              precision    recall  f1-score   support\n",
            "\n",
            "           0       0.97      0.99      0.98        71\n",
            "           1       0.98      0.95      0.96        43\n",
            "\n",
            "    accuracy                           0.97       114\n",
            "   macro avg       0.97      0.97      0.97       114\n",
            "weighted avg       0.97      0.97      0.97       114\n",
            "\n"
          ]
        }
      ],
      "source": [
        "\n",
        "# Load the dataset\n",
        "url = 'https://archive.ics.uci.edu/ml/machine-learning-databases/breast-cancer-wisconsin/wdbc.data'\n",
        "data = pd.read_csv(url, header=None)\n",
        "\n",
        "# Rename the columns\n",
        "data.columns = ['ID', 'Diagnosis', 'Radius_Mean', 'Texture_Mean', 'Perimeter_Mean', 'Area_Mean', 'Smoothness_Mean',\n",
        "                'Compactness_Mean', 'Concavity_Mean', 'Concave_Points_Mean', 'Symmetry_Mean', 'Fractal_Dimension_Mean',\n",
        "                'Radius_SE', 'Texture_SE', 'Perimeter_SE', 'Area_SE', 'Smoothness_SE', 'Compactness_SE', 'Concavity_SE',\n",
        "                'Concave_Points_SE', 'Symmetry_SE', 'Fractal_Dimension_SE', 'Radius_Worst', 'Texture_Worst',\n",
        "                'Perimeter_Worst', 'Area_Worst', 'Smoothness_Worst', 'Compactness_Worst', 'Concavity_Worst',\n",
        "                'Concave_Points_Worst', 'Symmetry_Worst', 'Fractal_Dimension_Worst']\n",
        "\n",
        "# Convert the target variable to numerical values (0 for benign, 1 for malignant)\n",
        "data['Diagnosis'] = data['Diagnosis'].map({'B': 0, 'M': 1})\n",
        "\n",
        "# Split the data into features and target\n",
        "X = data.drop(['ID', 'Diagnosis'], axis=1)\n",
        "y = data['Diagnosis']\n",
        "\n",
        "# Split the data into training and testing sets\n",
        "X_train, X_test, y_train, y_test = train_test_split(X, y, test_size=0.2, random_state=42)\n",
        "\n",
        "# Standardize the features\n",
        "scaler = StandardScaler()\n",
        "X_train_scaled = scaler.fit_transform(X_train)\n",
        "X_test_scaled = scaler.transform(X_test)\n",
        "\n",
        "# Train a logistic regression model\n",
        "model = LogisticRegression()\n",
        "model.fit(X_train_scaled, y_train)\n",
        "\n",
        "# Evaluate the model\n",
        "y_pred = model.predict(X_test_scaled)\n",
        "accuracy = accuracy_score(y_test, y_pred)\n",
        "print(f'Accuracy: {accuracy:.2f}')\n",
        "\n",
        "# Print the confusion matrix and classification report\n",
        "print('Confusion Matrix:')\n",
        "print(confusion_matrix(y_test, y_pred))\n",
        "print('\\nClassification Report:')\n",
        "print(classification_report(y_test, y_pred))"
      ]
    },
    {
      "cell_type": "code",
      "source": [
        "\n",
        "\n",
        "# Train a random forest model\n",
        "model = RandomForestClassifier(n_estimators=100, random_state=42)\n",
        "model.fit(X_train, y_train)\n",
        "\n",
        "# Feature importance\n",
        "feature_importances = pd.Series(model.feature_importances_, index=X.columns)\n",
        "top_10_features = feature_importances.nlargest(10).index.tolist()\n",
        "print('Top 10 important features:', top_10_features)\n",
        "\n",
        "# Recursive Feature Elimination (RFE)\n",
        "rfe = RFE(model, n_features_to_select=10)\n",
        "rfe.fit(X_train, y_train)\n",
        "top_10_rfe_features = X.columns[rfe.support_].tolist()\n",
        "print('Top 10 features selected by RFE:', top_10_rfe_features)\n",
        "\n",
        "# Evaluate the model with top 10 features\n",
        "X_train_top_10 = X_train[top_10_features]\n",
        "X_test_top_10 = X_test[top_10_features]\n",
        "\n",
        "model_top_10 = RandomForestClassifier(n_estimators=100, random_state=42)\n",
        "model_top_10.fit(X_train_top_10, y_train)\n",
        "\n",
        "y_pred_top_10 = model_top_10.predict(X_test_top_10)\n",
        "accuracy_top_10 = accuracy_score(y_test, y_pred_top_10)\n",
        "print(f'Accuracy with top 10 features: {accuracy_top_10:.2f}')\n",
        "\n",
        "# Print the confusion matrix and classification report\n",
        "print('Confusion Matrix:')\n",
        "print(confusion_matrix(y_test, y_pred_top_10))\n",
        "print('\\nClassification Report:')\n",
        "print(classification_report(y_test, y_pred_top_10))"
      ],
      "metadata": {
        "colab": {
          "base_uri": "https://localhost:8080/"
        },
        "id": "ZEGklMvouuOP",
        "outputId": "93e2dbfc-ae90-4638-a25a-ea56a23b752b"
      },
      "execution_count": 14,
      "outputs": [
        {
          "output_type": "stream",
          "name": "stdout",
          "text": [
            "Top 10 important features: ['Area_Worst', 'Concave_Points_Worst', 'Concave_Points_Mean', 'Radius_Worst', 'Concavity_Mean', 'Perimeter_Worst', 'Perimeter_Mean', 'Radius_Mean', 'Area_Mean', 'Concavity_Worst']\n",
            "Top 10 features selected by RFE: ['Texture_Mean', 'Perimeter_Mean', 'Concavity_Mean', 'Concave_Points_Mean', 'Radius_Worst', 'Texture_Worst', 'Perimeter_Worst', 'Area_Worst', 'Concavity_Worst', 'Concave_Points_Worst']\n",
            "Accuracy with top 10 features: 0.96\n",
            "Confusion Matrix:\n",
            "[[69  2]\n",
            " [ 3 40]]\n",
            "\n",
            "Classification Report:\n",
            "              precision    recall  f1-score   support\n",
            "\n",
            "           0       0.96      0.97      0.97        71\n",
            "           1       0.95      0.93      0.94        43\n",
            "\n",
            "    accuracy                           0.96       114\n",
            "   macro avg       0.96      0.95      0.95       114\n",
            "weighted avg       0.96      0.96      0.96       114\n",
            "\n"
          ]
        }
      ]
    },
    {
      "cell_type": "code",
      "source": [
        "\n",
        "# Train a random forest model\n",
        "model = RandomForestClassifier(n_estimators=100, random_state=42)\n",
        "model.fit(X_train, y_train)\n",
        "\n",
        "# Feature importance\n",
        "feature_importances = pd.Series(model.feature_importances_, index=X.columns)\n",
        "top_10_features = feature_importances.nlargest(10).index.tolist()\n",
        "\n",
        "# Evaluate the model with each of the 10 features\n",
        "for feature in top_10_features:\n",
        "    X_train_single = X_train[[feature]]\n",
        "    X_test_single = X_test[[feature]]\n",
        "\n",
        "    model_single = RandomForestClassifier(n_estimators=100, random_state=42)\n",
        "    model_single.fit(X_train_single, y_train)\n",
        "\n",
        "    y_pred_single = model_single.predict(X_test_single)\n",
        "    accuracy_single = accuracy_score(y_test, y_pred_single)\n",
        "\n",
        "    print(f'Accuracy with {feature}: {accuracy_single:.2f}')"
      ],
      "metadata": {
        "colab": {
          "base_uri": "https://localhost:8080/"
        },
        "id": "S_SZc0HSwCQq",
        "outputId": "8021b7c1-96d5-437b-b399-9e2578592598"
      },
      "execution_count": 15,
      "outputs": [
        {
          "output_type": "stream",
          "name": "stdout",
          "text": [
            "Accuracy with Area_Worst: 0.93\n",
            "Accuracy with Concave_Points_Worst: 0.90\n",
            "Accuracy with Concave_Points_Mean: 0.84\n",
            "Accuracy with Radius_Worst: 0.88\n",
            "Accuracy with Concavity_Mean: 0.85\n",
            "Accuracy with Perimeter_Worst: 0.89\n",
            "Accuracy with Perimeter_Mean: 0.82\n",
            "Accuracy with Radius_Mean: 0.87\n",
            "Accuracy with Area_Mean: 0.82\n",
            "Accuracy with Concavity_Worst: 0.79\n"
          ]
        }
      ]
    }
  ]
}